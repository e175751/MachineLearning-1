{
 "cells": [
  {
   "cell_type": "markdown",
   "metadata": {},
   "source": [
    "# fetch_olivetti_facesを使って顔識別を行う"
   ]
  },
  {
   "cell_type": "code",
   "execution_count": 6,
   "metadata": {},
   "outputs": [],
   "source": [
    "from keras.models import Sequential\n",
    "from keras.layers.core import Dense, Activation\n",
    "from keras.utils import np_utils\n",
    "from sklearn.datasets import fetch_olivetti_faces\n",
    "from sklearn.model_selection import train_test_split"
   ]
  },
  {
   "cell_type": "code",
   "execution_count": 7,
   "metadata": {},
   "outputs": [],
   "source": [
    "faces = fetch_olivetti_faces()"
   ]
  },
  {
   "cell_type": "code",
   "execution_count": 8,
   "metadata": {},
   "outputs": [],
   "source": [
    "x = faces.images\n",
    "y = faces.target"
   ]
  },
  {
   "cell_type": "code",
   "execution_count": 68,
   "metadata": {},
   "outputs": [],
   "source": [
    "X_train,X_test,y_train,y_test = train_test_split(x,y,test_size=0.2, random_state=10)"
   ]
  },
  {
   "cell_type": "code",
   "execution_count": 69,
   "metadata": {},
   "outputs": [],
   "source": [
    "X_train = X_train.reshape(320,4096) / 255\n",
    "X_test = X_test.reshape(80,4096) / 255"
   ]
  },
  {
   "cell_type": "code",
   "execution_count": 70,
   "metadata": {},
   "outputs": [],
   "source": [
    "y_train = np_utils.to_categorical(y_train)\n",
    "y_test = np_utils.to_categorical(y_test)"
   ]
  },
  {
   "cell_type": "code",
   "execution_count": 71,
   "metadata": {},
   "outputs": [],
   "source": [
    "model = Sequential([\n",
    "        Dense(512, input_shape=(4096,)),\n",
    "        Activation('sigmoid'),\n",
    "        Dense(40),\n",
    "        Activation('softmax')\n",
    "    ])"
   ]
  },
  {
   "cell_type": "code",
   "execution_count": 72,
   "metadata": {},
   "outputs": [],
   "source": [
    "# 損失関数、 最適化アルゴリズムなどを設定しモデルのコンパイルを行う\n",
    "model.compile(loss='categorical_crossentropy', optimizer='sgd', metrics=['accuracy'])"
   ]
  },
  {
   "cell_type": "markdown",
   "metadata": {},
   "source": [
    "## モデルを使って学習する"
   ]
  },
  {
   "cell_type": "code",
   "execution_count": 73,
   "metadata": {},
   "outputs": [
    {
     "name": "stdout",
     "output_type": "stream",
     "text": [
      "Train on 288 samples, validate on 32 samples\n",
      "Epoch 1/20\n",
      "288/288 [==============================] - 2s 8ms/step - loss: 3.8229 - accuracy: 0.0243 - val_loss: 3.7477 - val_accuracy: 0.0312\n",
      "Epoch 2/20\n",
      "288/288 [==============================] - 1s 2ms/step - loss: 3.7492 - accuracy: 0.0174 - val_loss: 3.7709 - val_accuracy: 0.0000e+00\n",
      "Epoch 3/20\n",
      "288/288 [==============================] - 1s 2ms/step - loss: 3.7331 - accuracy: 0.0174 - val_loss: 3.7900 - val_accuracy: 0.0000e+00\n",
      "Epoch 4/20\n",
      "288/288 [==============================] - 0s 1ms/step - loss: 3.7238 - accuracy: 0.0382 - val_loss: 3.7994 - val_accuracy: 0.0000e+00\n",
      "Epoch 5/20\n",
      "288/288 [==============================] - 0s 2ms/step - loss: 3.7281 - accuracy: 0.0174 - val_loss: 3.7866 - val_accuracy: 0.0000e+00\n",
      "Epoch 6/20\n",
      "288/288 [==============================] - 0s 1ms/step - loss: 3.7265 - accuracy: 0.0208 - val_loss: 3.8121 - val_accuracy: 0.0000e+00\n",
      "Epoch 7/20\n",
      "288/288 [==============================] - 0s 1ms/step - loss: 3.7246 - accuracy: 0.0243 - val_loss: 3.7973 - val_accuracy: 0.0000e+00\n",
      "Epoch 8/20\n",
      "288/288 [==============================] - 1s 2ms/step - loss: 3.7284 - accuracy: 0.0208 - val_loss: 3.7810 - val_accuracy: 0.0000e+00\n",
      "Epoch 9/20\n",
      "288/288 [==============================] - 1s 2ms/step - loss: 3.7299 - accuracy: 0.0243 - val_loss: 3.7814 - val_accuracy: 0.0000e+00\n",
      "Epoch 10/20\n",
      "288/288 [==============================] - 0s 1ms/step - loss: 3.7274 - accuracy: 0.0174 - val_loss: 3.7826 - val_accuracy: 0.0000e+00\n",
      "Epoch 11/20\n",
      "288/288 [==============================] - 1s 2ms/step - loss: 3.7269 - accuracy: 0.0174 - val_loss: 3.8021 - val_accuracy: 0.0000e+00\n",
      "Epoch 12/20\n",
      "288/288 [==============================] - 0s 1ms/step - loss: 3.7298 - accuracy: 0.0174 - val_loss: 3.7930 - val_accuracy: 0.0000e+00\n",
      "Epoch 13/20\n",
      "288/288 [==============================] - 0s 1ms/step - loss: 3.7298 - accuracy: 0.0139 - val_loss: 3.8187 - val_accuracy: 0.0000e+00\n",
      "Epoch 14/20\n",
      "288/288 [==============================] - 0s 1ms/step - loss: 3.7318 - accuracy: 0.0139 - val_loss: 3.8036 - val_accuracy: 0.0000e+00\n",
      "Epoch 15/20\n",
      "288/288 [==============================] - 0s 2ms/step - loss: 3.7273 - accuracy: 0.0035 - val_loss: 3.7761 - val_accuracy: 0.0000e+00\n",
      "Epoch 16/20\n",
      "288/288 [==============================] - 0s 1ms/step - loss: 3.7281 - accuracy: 0.0139 - val_loss: 3.7760 - val_accuracy: 0.0000e+00\n",
      "Epoch 17/20\n",
      "288/288 [==============================] - 0s 1ms/step - loss: 3.7258 - accuracy: 0.0174 - val_loss: 3.7938 - val_accuracy: 0.0000e+00\n",
      "Epoch 18/20\n",
      "288/288 [==============================] - 0s 1ms/step - loss: 3.7267 - accuracy: 0.0139 - val_loss: 3.7966 - val_accuracy: 0.0000e+00\n",
      "Epoch 19/20\n",
      "288/288 [==============================] - 0s 2ms/step - loss: 3.7313 - accuracy: 0.0174 - val_loss: 3.7992 - val_accuracy: 0.0312\n",
      "Epoch 20/20\n",
      "288/288 [==============================] - 1s 3ms/step - loss: 3.7285 - accuracy: 0.0174 - val_loss: 3.7935 - val_accuracy: 0.0000e+00\n"
     ]
    }
   ],
   "source": [
    "# 学習処理の実行\n",
    "history = model.fit(X_train, y_train, batch_size=10, verbose=1, epochs=20, validation_split=0.1)"
   ]
  },
  {
   "cell_type": "markdown",
   "metadata": {},
   "source": [
    "## 結果の確認"
   ]
  },
  {
   "cell_type": "code",
   "execution_count": 74,
   "metadata": {},
   "outputs": [
    {
     "name": "stdout",
     "output_type": "stream",
     "text": [
      "80/80 [==============================] - 0s 273us/step\n",
      "test accuracy :  0.0\n"
     ]
    }
   ],
   "source": [
    "# 予測\n",
    "score = model.evaluate(X_test, y_test, verbose=1)\n",
    "print('test accuracy : ', score[1])"
   ]
  },
  {
   "cell_type": "markdown",
   "metadata": {},
   "source": [
    "## グラフ作成"
   ]
  },
  {
   "cell_type": "code",
   "execution_count": 75,
   "metadata": {},
   "outputs": [],
   "source": [
    "import matplotlib.pyplot as plt"
   ]
  },
  {
   "cell_type": "code",
   "execution_count": 76,
   "metadata": {},
   "outputs": [],
   "source": [
    "loss = history.history['loss']\n",
    "val_loss = history.history['val_loss']"
   ]
  },
  {
   "cell_type": "code",
   "execution_count": 77,
   "metadata": {},
   "outputs": [
    {
     "data": {
      "image/png": "[encoded data removed]",
      "text/plain": [
       "<Figure size 432x288 with 1 Axes>"
      ]
     },
     "metadata": {
      "needs_background": "light"
     },
     "output_type": "display_data"
    }
   ],
   "source": [
    "# lossのグラフ\n",
    "plt.plot(range(20), loss, marker='.', label='loss')\n",
    "plt.plot(range(20), val_loss, marker='.', label='val_loss')\n",
    "plt.legend(loc='best', fontsize=10)\n",
    "plt.grid()\n",
    "plt.xlabel('epoch')\n",
    "plt.ylabel('loss')\n",
    "plt.show()"
   ]
  },
  {
   "cell_type": "code",
   "execution_count": 78,
   "metadata": {},
   "outputs": [],
   "source": [
    "acc = history.history['accuracy']\n",
    "val_acc = history.history['val_accuracy']"
   ]
  },
  {
   "cell_type": "code",
   "execution_count": 79,
   "metadata": {},
   "outputs": [
    {
     "data": {
      "image/png": "[encoded data removed]",
      "text/plain": [
       "<Figure size 432x288 with 1 Axes>"
      ]
     },
     "metadata": {
      "needs_background": "light"
     },
     "output_type": "display_data"
    }
   ],
   "source": [
    "# accuracyのグラフ\n",
    "plt.plot(range(20), acc, marker='.', label='acc')\n",
    "plt.plot(range(20), val_acc, marker='.', label='val_acc')\n",
    "plt.legend(loc='best', fontsize=10)\n",
    "plt.grid()\n",
    "plt.xlabel('epoch')\n",
    "plt.ylabel('acc')\n",
    "plt.show()"
   ]
  },
  {
   "cell_type": "markdown",
   "metadata": {},
   "source": [
    "## モデルを変えてみる(最適化をAdamに変えてみる)"
   ]
  },
  {
   "cell_type": "code",
   "execution_count": 18,
   "metadata": {},
   "outputs": [],
   "source": [
    "model = Sequential([\n",
    "        Dense(80, input_shape=(4096,)),\n",
    "        Activation('relu'),\n",
    "        Dense(160),\n",
    "        Activation('relu'),\n",
    "        Dense(40),\n",
    "        Activation('softmax')\n",
    "    ])"
   ]
  },
  {
   "cell_type": "code",
   "execution_count": 19,
   "metadata": {},
   "outputs": [],
   "source": [
    "# 損失関数、 最適化アルゴリズムなどを設定しモデルのコンパイルを行う\n",
    "model.compile(loss='categorical_crossentropy', optimizer='adam', metrics=['accuracy'])"
   ]
  },
  {
   "cell_type": "code",
   "execution_count": 20,
   "metadata": {},
   "outputs": [
    {
     "name": "stdout",
     "output_type": "stream",
     "text": [
      "Train on 288 samples, validate on 32 samples\n",
      "Epoch 1/20\n",
      "288/288 [==============================] - 0s 1ms/step - loss: 3.6944 - accuracy: 0.0243 - val_loss: 3.6947 - val_accuracy: 0.0312\n",
      "Epoch 2/20\n",
      "288/288 [==============================] - 0s 570us/step - loss: 3.6876 - accuracy: 0.0278 - val_loss: 3.6986 - val_accuracy: 0.0000e+00\n",
      "Epoch 3/20\n",
      "288/288 [==============================] - 0s 649us/step - loss: 3.6858 - accuracy: 0.0312 - val_loss: 3.7037 - val_accuracy: 0.0000e+00\n",
      "Epoch 4/20\n",
      "288/288 [==============================] - 0s 742us/step - loss: 3.6834 - accuracy: 0.0347 - val_loss: 3.7203 - val_accuracy: 0.0000e+00\n",
      "Epoch 5/20\n",
      "288/288 [==============================] - 0s 569us/step - loss: 3.6801 - accuracy: 0.0347 - val_loss: 3.7249 - val_accuracy: 0.0000e+00\n",
      "Epoch 6/20\n",
      "288/288 [==============================] - 0s 695us/step - loss: 3.6756 - accuracy: 0.0382 - val_loss: 3.7288 - val_accuracy: 0.0000e+00\n",
      "Epoch 7/20\n",
      "288/288 [==============================] - 0s 627us/step - loss: 3.6729 - accuracy: 0.0347 - val_loss: 3.7359 - val_accuracy: 0.0000e+00\n",
      "Epoch 8/20\n",
      "288/288 [==============================] - 0s 732us/step - loss: 3.6680 - accuracy: 0.0417 - val_loss: 3.7259 - val_accuracy: 0.0000e+00\n",
      "Epoch 9/20\n",
      "288/288 [==============================] - 0s 641us/step - loss: 3.6618 - accuracy: 0.0417 - val_loss: 3.7297 - val_accuracy: 0.0000e+00\n",
      "Epoch 10/20\n",
      "288/288 [==============================] - 0s 573us/step - loss: 3.6520 - accuracy: 0.0382 - val_loss: 3.7220 - val_accuracy: 0.0000e+00\n",
      "Epoch 11/20\n",
      "288/288 [==============================] - 0s 592us/step - loss: 3.6395 - accuracy: 0.0417 - val_loss: 3.7184 - val_accuracy: 0.0000e+00\n",
      "Epoch 12/20\n",
      "288/288 [==============================] - 0s 927us/step - loss: 3.6184 - accuracy: 0.0556 - val_loss: 3.6928 - val_accuracy: 0.0000e+00\n",
      "Epoch 13/20\n",
      "288/288 [==============================] - 0s 843us/step - loss: 3.5925 - accuracy: 0.0556 - val_loss: 3.6677 - val_accuracy: 0.0000e+00\n",
      "Epoch 14/20\n",
      "288/288 [==============================] - 0s 660us/step - loss: 3.5464 - accuracy: 0.0764 - val_loss: 3.6279 - val_accuracy: 0.0312\n",
      "Epoch 15/20\n",
      "288/288 [==============================] - 0s 730us/step - loss: 3.5014 - accuracy: 0.0868 - val_loss: 3.5859 - val_accuracy: 0.0312\n",
      "Epoch 16/20\n",
      "288/288 [==============================] - 0s 693us/step - loss: 3.4309 - accuracy: 0.1007 - val_loss: 3.5345 - val_accuracy: 0.0312\n",
      "Epoch 17/20\n",
      "288/288 [==============================] - 0s 763us/step - loss: 3.3569 - accuracy: 0.1181 - val_loss: 3.4650 - val_accuracy: 0.0312\n",
      "Epoch 18/20\n",
      "288/288 [==============================] - 0s 850us/step - loss: 3.2894 - accuracy: 0.1042 - val_loss: 3.3693 - val_accuracy: 0.0312\n",
      "Epoch 19/20\n",
      "288/288 [==============================] - 0s 937us/step - loss: 3.1983 - accuracy: 0.1285 - val_loss: 3.3118 - val_accuracy: 0.0312\n",
      "Epoch 20/20\n",
      "288/288 [==============================] - 0s 835us/step - loss: 3.1455 - accuracy: 0.1076 - val_loss: 3.3350 - val_accuracy: 0.0625\n"
     ]
    }
   ],
   "source": [
    "# 学習処理の実行\n",
    "history = model.fit(X_train, y_train, batch_size=10, verbose=1, epochs=20, validation_split=0.1)"
   ]
  },
  {
   "cell_type": "code",
   "execution_count": 21,
   "metadata": {},
   "outputs": [],
   "source": [
    "import matplotlib.pyplot as plt\n",
    "\n",
    "loss = history.history['loss']\n",
    "val_loss = history.history['val_loss']\n",
    "acc = history.history['accuracy']\n",
    "val_acc = history.history['val_accuracy']"
   ]
  },
  {
   "cell_type": "markdown",
   "metadata": {},
   "source": [
    "### Loseグラフ"
   ]
  },
  {
   "cell_type": "code",
   "execution_count": 22,
   "metadata": {},
   "outputs": [
    {
     "data": {
      "image/png": "[encoded data removed]",
      "text/plain": [
       "<Figure size 432x288 with 1 Axes>"
      ]
     },
     "metadata": {
      "needs_background": "light"
     },
     "output_type": "display_data"
    }
   ],
   "source": [
    "# lossのグラフ\n",
    "plt.plot(range(20), loss, marker='.', label='loss')\n",
    "plt.plot(range(20), val_loss, marker='.', label='val_loss')\n",
    "plt.legend(loc='best', fontsize=10)\n",
    "plt.grid()\n",
    "plt.xlabel('epoch')\n",
    "plt.ylabel('loss')\n",
    "plt.show()"
   ]
  },
  {
   "cell_type": "markdown",
   "metadata": {},
   "source": [
    "### accのグラフ"
   ]
  },
  {
   "cell_type": "code",
   "execution_count": 23,
   "metadata": {},
   "outputs": [
    {
     "data": {
      "image/png": "[encoded data removed]",
      "text/plain": [
       "<Figure size 432x288 with 1 Axes>"
      ]
     },
     "metadata": {
      "needs_background": "light"
     },
     "output_type": "display_data"
    }
   ],
   "source": [
    "# accuracyのグラフ\n",
    "plt.plot(range(20), acc, marker='.', label='acc')\n",
    "plt.plot(range(20), val_acc, marker='.', label='val_acc')\n",
    "plt.legend(loc='best', fontsize=10)\n",
    "plt.grid()\n",
    "plt.xlabel('epoch')\n",
    "plt.ylabel('acc')\n",
    "plt.show()"
   ]
  },
  {
   "cell_type": "markdown",
   "metadata": {},
   "source": [
    "# Adamなどを調整する"
   ]
  },
  {
   "cell_type": "code",
   "execution_count": 24,
   "metadata": {},
   "outputs": [],
   "source": [
    "from keras import optimizers"
   ]
  },
  {
   "cell_type": "code",
   "execution_count": 28,
   "metadata": {},
   "outputs": [],
   "source": [
    "adam = optimizers.Adam(lr=0.001, beta_1=0.9, beta_2=0.999, epsilon=1e-07, decay=0.0, amsgrad=False)"
   ]
  },
  {
   "cell_type": "code",
   "execution_count": 43,
   "metadata": {},
   "outputs": [],
   "source": [
    "model.compile(loss='mean_squared_error', optimizer=adam)"
   ]
  },
  {
   "cell_type": "code",
   "execution_count": 44,
   "metadata": {},
   "outputs": [
    {
     "name": "stdout",
     "output_type": "stream",
     "text": [
      "Train on 288 samples, validate on 32 samples\n",
      "Epoch 1/20\n",
      "288/288 [==============================] - 0s 1ms/step - loss: 0.0118 - val_loss: 0.0161\n",
      "Epoch 2/20\n",
      "288/288 [==============================] - 0s 561us/step - loss: 0.0097 - val_loss: 0.0134\n",
      "Epoch 3/20\n",
      "288/288 [==============================] - 0s 722us/step - loss: 0.0081 - val_loss: 0.0137\n",
      "Epoch 4/20\n",
      "288/288 [==============================] - 0s 1ms/step - loss: 0.0078 - val_loss: 0.0139\n",
      "Epoch 5/20\n",
      "288/288 [==============================] - 0s 708us/step - loss: 0.0075 - val_loss: 0.0130\n",
      "Epoch 6/20\n",
      "288/288 [==============================] - 0s 746us/step - loss: 0.0070 - val_loss: 0.0130\n",
      "Epoch 7/20\n",
      "288/288 [==============================] - 0s 717us/step - loss: 0.0072 - val_loss: 0.0134\n",
      "Epoch 8/20\n",
      "288/288 [==============================] - 0s 706us/step - loss: 0.0065 - val_loss: 0.0135\n",
      "Epoch 9/20\n",
      "288/288 [==============================] - 0s 728us/step - loss: 0.0064 - val_loss: 0.0119\n",
      "Epoch 10/20\n",
      "288/288 [==============================] - 0s 683us/step - loss: 0.0064 - val_loss: 0.0126\n",
      "Epoch 11/20\n",
      "288/288 [==============================] - 0s 682us/step - loss: 0.0061 - val_loss: 0.0132\n",
      "Epoch 12/20\n",
      "288/288 [==============================] - 0s 751us/step - loss: 0.0062 - val_loss: 0.0125\n",
      "Epoch 13/20\n",
      "288/288 [==============================] - 1s 2ms/step - loss: 0.0061 - val_loss: 0.0132\n",
      "Epoch 14/20\n",
      "288/288 [==============================] - 0s 938us/step - loss: 0.0057 - val_loss: 0.0126\n",
      "Epoch 15/20\n",
      "288/288 [==============================] - 0s 745us/step - loss: 0.0057 - val_loss: 0.0119\n",
      "Epoch 16/20\n",
      "288/288 [==============================] - 0s 1ms/step - loss: 0.0054 - val_loss: 0.0123\n",
      "Epoch 17/20\n",
      "288/288 [==============================] - 0s 744us/step - loss: 0.0054 - val_loss: 0.0119\n",
      "Epoch 18/20\n",
      "288/288 [==============================] - 0s 1ms/step - loss: 0.0052 - val_loss: 0.0120\n",
      "Epoch 19/20\n",
      "288/288 [==============================] - 0s 714us/step - loss: 0.0052 - val_loss: 0.0122\n",
      "Epoch 20/20\n",
      "288/288 [==============================] - 0s 1ms/step - loss: 0.0052 - val_loss: 0.0133\n"
     ]
    }
   ],
   "source": [
    "# 学習処理の実行\n",
    "history = model.fit(X_train, y_train, batch_size=10, verbose=1, epochs=20, validation_split=0.1)"
   ]
  },
  {
   "cell_type": "code",
   "execution_count": 45,
   "metadata": {},
   "outputs": [],
   "source": [
    "loss = history.history['loss']\n",
    "val_loss = history.history['val_loss']"
   ]
  },
  {
   "cell_type": "code",
   "execution_count": 35,
   "metadata": {},
   "outputs": [
    {
     "data": {
      "image/png": "[encoded data removed]",
      "text/plain": [
       "<Figure size 432x288 with 1 Axes>"
      ]
     },
     "metadata": {
      "needs_background": "light"
     },
     "output_type": "display_data"
    }
   ],
   "source": [
    "# lossのグラフ\n",
    "plt.plot(range(20), loss, marker='.', label='loss')\n",
    "plt.plot(range(20), val_loss, marker='.', label='val_loss')\n",
    "plt.legend(loc='best', fontsize=10)\n",
    "plt.grid()\n",
    "plt.xlabel('epoch')\n",
    "plt.ylabel('loss')\n",
    "plt.show()"
   ]
  },
  {
   "cell_type": "code",
   "execution_count": 46,
   "metadata": {},
   "outputs": [
    {
     "name": "stdout",
     "output_type": "stream",
     "text": [
      "80/80 [==============================] - 0s 286us/step\n",
      "score: 0.011401350900996476\n"
     ]
    }
   ],
   "source": [
    "score = model.evaluate(x=X_test, y=y_test, batch_size=10, verbose=1, sample_weight=None, steps=None)\n",
    "print(\"score:\",score)"
   ]
  },
  {
   "cell_type": "code",
   "execution_count": null,
   "metadata": {},
   "outputs": [],
   "source": []
  },
  {
   "cell_type": "code",
   "execution_count": 80,
   "metadata": {},
   "outputs": [
    {
     "name": "stdout",
     "output_type": "stream",
     "text": [
      "Train on 288 samples, validate on 32 samples\n",
      "Epoch 1/20\n",
      "288/288 [==============================] - 1s 3ms/step - loss: 5.0187 - val_loss: 4.2877\n",
      "Epoch 2/20\n",
      "288/288 [==============================] - 1s 4ms/step - loss: 4.1012 - val_loss: 3.8886\n",
      "Epoch 3/20\n",
      "288/288 [==============================] - 2s 7ms/step - loss: 3.8598 - val_loss: 3.8361\n",
      "Epoch 4/20\n",
      "288/288 [==============================] - 1s 4ms/step - loss: 3.8482 - val_loss: 3.7725\n",
      "Epoch 5/20\n",
      "288/288 [==============================] - 1s 3ms/step - loss: 3.7736 - val_loss: 3.8810\n",
      "Epoch 6/20\n",
      "288/288 [==============================] - 1s 3ms/step - loss: 3.7614 - val_loss: 3.8391\n",
      "Epoch 7/20\n",
      "288/288 [==============================] - 1s 2ms/step - loss: 3.7183 - val_loss: 3.7413\n",
      "Epoch 8/20\n",
      "288/288 [==============================] - 1s 3ms/step - loss: 3.7153 - val_loss: 3.7035\n",
      "Epoch 9/20\n",
      "288/288 [==============================] - 1s 2ms/step - loss: 3.6754 - val_loss: 3.6415\n",
      "Epoch 10/20\n",
      "288/288 [==============================] - 1s 3ms/step - loss: 3.6683 - val_loss: 3.6627\n",
      "Epoch 11/20\n",
      "288/288 [==============================] - 1s 2ms/step - loss: 3.6472 - val_loss: 3.6729\n",
      "Epoch 12/20\n",
      "288/288 [==============================] - 1s 3ms/step - loss: 3.6081 - val_loss: 3.6904\n",
      "Epoch 13/20\n",
      "288/288 [==============================] - 1s 3ms/step - loss: 3.5974 - val_loss: 3.6510\n",
      "Epoch 14/20\n",
      "288/288 [==============================] - 1s 2ms/step - loss: 3.5625 - val_loss: 3.5580\n",
      "Epoch 15/20\n",
      "288/288 [==============================] - 1s 3ms/step - loss: 3.5542 - val_loss: 3.6233\n",
      "Epoch 16/20\n",
      "288/288 [==============================] - 1s 4ms/step - loss: 3.5532 - val_loss: 3.6166\n",
      "Epoch 17/20\n",
      "288/288 [==============================] - 1s 3ms/step - loss: 3.5390 - val_loss: 3.5436\n",
      "Epoch 18/20\n",
      "288/288 [==============================] - 1s 2ms/step - loss: 3.5075 - val_loss: 3.5921\n",
      "Epoch 19/20\n",
      "288/288 [==============================] - 1s 3ms/step - loss: 3.5124 - val_loss: 3.5400\n",
      "Epoch 20/20\n",
      "288/288 [==============================] - 1s 3ms/step - loss: 3.4853 - val_loss: 3.4916\n"
     ]
    }
   ],
   "source": [
    "model.compile(loss='categorical_crossentropy', optimizer=adam)\n",
    "# 学習処理の実行\n",
    "history = model.fit(X_train, y_train, batch_size=10, verbose=1, epochs=20, validation_split=0.1)"
   ]
  },
  {
   "cell_type": "code",
   "execution_count": 81,
   "metadata": {},
   "outputs": [],
   "source": [
    "loss = history.history['loss']\n",
    "val_loss = history.history['val_loss']"
   ]
  },
  {
   "cell_type": "code",
   "execution_count": 82,
   "metadata": {},
   "outputs": [
    {
     "data": {
      "image/png": "[encoded data removed]",
      "text/plain": [
       "<Figure size 432x288 with 1 Axes>"
      ]
     },
     "metadata": {
      "needs_background": "light"
     },
     "output_type": "display_data"
    }
   ],
   "source": [
    "# lossのグラフ\n",
    "plt.plot(range(20), loss, marker='.', label='loss')\n",
    "plt.plot(range(20), val_loss, marker='.', label='val_loss')\n",
    "plt.legend(loc='best', fontsize=10)\n",
    "plt.grid()\n",
    "plt.xlabel('epoch')\n",
    "plt.ylabel('loss')\n",
    "plt.show()"
   ]
  },
  {
   "cell_type": "code",
   "execution_count": 83,
   "metadata": {},
   "outputs": [
    {
     "name": "stdout",
     "output_type": "stream",
     "text": [
      "80/80 [==============================] - 0s 707us/step\n",
      "score: 3.5618256628513336\n"
     ]
    }
   ],
   "source": [
    "score = model.evaluate(x=X_test, y=y_test, batch_size=10, verbose=1)\n",
    "print(\"score:\",score)"
   ]
  },
  {
   "cell_type": "markdown",
   "metadata": {},
   "source": [
    "## PCAを用いた主成分分析"
   ]
  },
  {
   "cell_type": "code",
   "execution_count": 10,
   "metadata": {},
   "outputs": [],
   "source": [
    "import matplotlib.pyplot as plt\n",
    "%matplotlib inline"
   ]
  },
  {
   "cell_type": "code",
   "execution_count": 11,
   "metadata": {},
   "outputs": [],
   "source": [
    "from sklearn.datasets import fetch_olivetti_faces"
   ]
  },
  {
   "cell_type": "code",
   "execution_count": 12,
   "metadata": {},
   "outputs": [],
   "source": [
    "from sklearn.decomposition import PCA"
   ]
  },
  {
   "cell_type": "code",
   "execution_count": null,
   "metadata": {},
   "outputs": [],
   "source": []
  },
  {
   "cell_type": "code",
   "execution_count": null,
   "metadata": {},
   "outputs": [],
   "source": []
  },
  {
   "cell_type": "code",
   "execution_count": null,
   "metadata": {},
   "outputs": [],
   "source": []
  },
  {
   "cell_type": "code",
   "execution_count": null,
   "metadata": {},
   "outputs": [],
   "source": []
  },
  {
   "cell_type": "markdown",
   "metadata": {},
   "source": [
    "## VGG16を用いた転移学習"
   ]
  },
  {
   "cell_type": "code",
   "execution_count": 1,
   "metadata": {},
   "outputs": [
    {
     "name": "stderr",
     "output_type": "stream",
     "text": [
      "Using TensorFlow backend.\n"
     ]
    }
   ],
   "source": [
    "from keras.applications.vgg16 import VGG16"
   ]
  },
  {
   "cell_type": "code",
   "execution_count": 31,
   "metadata": {},
   "outputs": [],
   "source": [
    "from keras.models import Sequential, Model\n",
    "from keras.layers import Input, Dense, Dropout, Activation, Flatten"
   ]
  },
  {
   "cell_type": "code",
   "execution_count": 9,
   "metadata": {},
   "outputs": [],
   "source": [
    "faces = fetch_olivetti_faces()"
   ]
  },
  {
   "cell_type": "code",
   "execution_count": 10,
   "metadata": {},
   "outputs": [],
   "source": [
    "x = faces.images\n",
    "y = faces.target"
   ]
  },
  {
   "cell_type": "code",
   "execution_count": 32,
   "metadata": {},
   "outputs": [],
   "source": [
    "img_rows, img_cols = 64, 64\n",
    "input_tensor = Input(shape=(img_rows, img_cols, 3))"
   ]
  },
  {
   "cell_type": "code",
   "execution_count": 34,
   "metadata": {},
   "outputs": [],
   "source": [
    "model = VGG16(input_tensor=input_tensor, weights=None, include_top=False, classes=40)"
   ]
  },
  {
   "cell_type": "code",
   "execution_count": 35,
   "metadata": {},
   "outputs": [
    {
     "name": "stdout",
     "output_type": "stream",
     "text": [
      "Model: \"vgg16\"\n",
      "_________________________________________________________________\n",
      "Layer (type)                 Output Shape              Param #   \n",
      "=================================================================\n",
      "input_3 (InputLayer)         (None, 64, 64, 3)         0         \n",
      "_________________________________________________________________\n",
      "block1_conv1 (Conv2D)        (None, 64, 64, 64)        1792      \n",
      "_________________________________________________________________\n",
      "block1_conv2 (Conv2D)        (None, 64, 64, 64)        36928     \n",
      "_________________________________________________________________\n",
      "block1_pool (MaxPooling2D)   (None, 32, 32, 64)        0         \n",
      "_________________________________________________________________\n",
      "block2_conv1 (Conv2D)        (None, 32, 32, 128)       73856     \n",
      "_________________________________________________________________\n",
      "block2_conv2 (Conv2D)        (None, 32, 32, 128)       147584    \n",
      "_________________________________________________________________\n",
      "block2_pool (MaxPooling2D)   (None, 16, 16, 128)       0         \n",
      "_________________________________________________________________\n",
      "block3_conv1 (Conv2D)        (None, 16, 16, 256)       295168    \n",
      "_________________________________________________________________\n",
      "block3_conv2 (Conv2D)        (None, 16, 16, 256)       590080    \n",
      "_________________________________________________________________\n",
      "block3_conv3 (Conv2D)        (None, 16, 16, 256)       590080    \n",
      "_________________________________________________________________\n",
      "block3_pool (MaxPooling2D)   (None, 8, 8, 256)         0         \n",
      "_________________________________________________________________\n",
      "block4_conv1 (Conv2D)        (None, 8, 8, 512)         1180160   \n",
      "_________________________________________________________________\n",
      "block4_conv2 (Conv2D)        (None, 8, 8, 512)         2359808   \n",
      "_________________________________________________________________\n",
      "block4_conv3 (Conv2D)        (None, 8, 8, 512)         2359808   \n",
      "_________________________________________________________________\n",
      "block4_pool (MaxPooling2D)   (None, 4, 4, 512)         0         \n",
      "_________________________________________________________________\n",
      "block5_conv1 (Conv2D)        (None, 4, 4, 512)         2359808   \n",
      "_________________________________________________________________\n",
      "block5_conv2 (Conv2D)        (None, 4, 4, 512)         2359808   \n",
      "_________________________________________________________________\n",
      "block5_conv3 (Conv2D)        (None, 4, 4, 512)         2359808   \n",
      "_________________________________________________________________\n",
      "block5_pool (MaxPooling2D)   (None, 2, 2, 512)         0         \n",
      "=================================================================\n",
      "Total params: 14,714,688\n",
      "Trainable params: 14,714,688\n",
      "Non-trainable params: 0\n",
      "_________________________________________________________________\n"
     ]
    }
   ],
   "source": [
    "model.summary()"
   ]
  },
  {
   "cell_type": "code",
   "execution_count": 39,
   "metadata": {},
   "outputs": [
    {
     "ename": "AttributeError",
     "evalue": "'function' object has no attribute 'output_shape'",
     "output_type": "error",
     "traceback": [
      "\u001b[0;31m---------------------------------------------------------------------------\u001b[0m",
      "\u001b[0;31mAttributeError\u001b[0m                            Traceback (most recent call last)",
      "\u001b[0;32m<ipython-input-39-2ee89c32b155>\u001b[0m in \u001b[0;36m<module>\u001b[0;34m\u001b[0m\n\u001b[1;32m      1\u001b[0m \u001b[0mtop_model\u001b[0m \u001b[0;34m=\u001b[0m \u001b[0mSequential\u001b[0m\u001b[0;34m(\u001b[0m\u001b[0;34m)\u001b[0m\u001b[0;34m\u001b[0m\u001b[0;34m\u001b[0m\u001b[0m\n\u001b[0;32m----> 2\u001b[0;31m \u001b[0mtop_model\u001b[0m\u001b[0;34m.\u001b[0m\u001b[0madd\u001b[0m\u001b[0;34m(\u001b[0m\u001b[0mFlatten\u001b[0m\u001b[0;34m(\u001b[0m\u001b[0minput_shape\u001b[0m\u001b[0;34m=\u001b[0m\u001b[0mVGG16\u001b[0m\u001b[0;34m.\u001b[0m\u001b[0moutput_shape\u001b[0m\u001b[0;34m[\u001b[0m\u001b[0;36m1\u001b[0m\u001b[0;34m:\u001b[0m\u001b[0;34m]\u001b[0m\u001b[0;34m)\u001b[0m\u001b[0;34m)\u001b[0m\u001b[0;34m\u001b[0m\u001b[0;34m\u001b[0m\u001b[0m\n\u001b[0m\u001b[1;32m      3\u001b[0m \u001b[0mtop_model\u001b[0m\u001b[0;34m.\u001b[0m\u001b[0madd\u001b[0m\u001b[0;34m(\u001b[0m\u001b[0mDense\u001b[0m\u001b[0;34m(\u001b[0m\u001b[0;36m256\u001b[0m\u001b[0;34m,\u001b[0m \u001b[0mactivation\u001b[0m\u001b[0;34m=\u001b[0m\u001b[0;34m'relu'\u001b[0m\u001b[0;34m)\u001b[0m\u001b[0;34m)\u001b[0m\u001b[0;34m\u001b[0m\u001b[0;34m\u001b[0m\u001b[0m\n\u001b[1;32m      4\u001b[0m \u001b[0mtop_model\u001b[0m\u001b[0;34m.\u001b[0m\u001b[0madd\u001b[0m\u001b[0;34m(\u001b[0m\u001b[0mDropout\u001b[0m\u001b[0;34m(\u001b[0m\u001b[0;36m0.5\u001b[0m\u001b[0;34m)\u001b[0m\u001b[0;34m)\u001b[0m\u001b[0;34m\u001b[0m\u001b[0;34m\u001b[0m\u001b[0m\n\u001b[1;32m      5\u001b[0m \u001b[0mtop_model\u001b[0m\u001b[0;34m.\u001b[0m\u001b[0madd\u001b[0m\u001b[0;34m(\u001b[0m\u001b[0mDense\u001b[0m\u001b[0;34m(\u001b[0m\u001b[0mnb_classes\u001b[0m\u001b[0;34m,\u001b[0m \u001b[0mactivation\u001b[0m\u001b[0;34m=\u001b[0m\u001b[0;34m'softmax'\u001b[0m\u001b[0;34m)\u001b[0m\u001b[0;34m)\u001b[0m\u001b[0;34m\u001b[0m\u001b[0;34m\u001b[0m\u001b[0m\n",
      "\u001b[0;31mAttributeError\u001b[0m: 'function' object has no attribute 'output_shape'"
     ]
    }
   ],
   "source": [
    "top_model = Sequential()\n",
    "top_model.add(Flatten(input_shape=VGG16.output_shape[1:]))\n",
    "top_model.add(Dense(256, activation='relu'))\n",
    "top_model.add(Dropout(0.5))\n",
    "top_model.add(Dense(nb_classes, activation='softmax'))\n",
    "model = Model(inputs=VGG16.input, outputs=top_model(VGG16.output))\n",
    "model.summary()"
   ]
  },
  {
   "cell_type": "code",
   "execution_count": null,
   "metadata": {},
   "outputs": [],
   "source": []
  },
  {
   "cell_type": "markdown",
   "metadata": {},
   "source": [
    "## RandomForestClassifierを使って特徴量重要度の可視化"
   ]
  },
  {
   "cell_type": "code",
   "execution_count": 1,
   "metadata": {},
   "outputs": [],
   "source": [
    "from sklearn.datasets import fetch_olivetti_faces\n",
    "from sklearn.ensemble import RandomForestClassifier\n",
    "\n",
    "import matplotlib.pyplot as plt"
   ]
  },
  {
   "cell_type": "code",
   "execution_count": 2,
   "metadata": {},
   "outputs": [],
   "source": [
    "faces = fetch_olivetti_faces()"
   ]
  },
  {
   "cell_type": "code",
   "execution_count": 3,
   "metadata": {},
   "outputs": [],
   "source": [
    "x = faces.data\n",
    "y = faces.target"
   ]
  },
  {
   "cell_type": "code",
   "execution_count": 6,
   "metadata": {},
   "outputs": [],
   "source": [
    "i = y < 5"
   ]
  },
  {
   "cell_type": "code",
   "execution_count": 7,
   "metadata": {},
   "outputs": [
    {
     "data": {
      "text/plain": [
       "array([ True,  True,  True,  True,  True,  True,  True,  True,  True,\n",
       "        True,  True,  True,  True,  True,  True,  True,  True,  True,\n",
       "        True,  True,  True,  True,  True,  True,  True,  True,  True,\n",
       "        True,  True,  True,  True,  True,  True,  True,  True,  True,\n",
       "        True,  True,  True,  True,  True,  True,  True,  True,  True,\n",
       "        True,  True,  True,  True,  True, False, False, False, False,\n",
       "       False, False, False, False, False, False, False, False, False,\n",
       "       False, False, False, False, False, False, False, False, False,\n",
       "       False, False, False, False, False, False, False, False, False,\n",
       "       False, False, False, False, False, False, False, False, False,\n",
       "       False, False, False, False, False, False, False, False, False,\n",
       "       False, False, False, False, False, False, False, False, False,\n",
       "       False, False, False, False, False, False, False, False, False,\n",
       "       False, False, False, False, False, False, False, False, False,\n",
       "       False, False, False, False, False, False, False, False, False,\n",
       "       False, False, False, False, False, False, False, False, False,\n",
       "       False, False, False, False, False, False, False, False, False,\n",
       "       False, False, False, False, False, False, False, False, False,\n",
       "       False, False, False, False, False, False, False, False, False,\n",
       "       False, False, False, False, False, False, False, False, False,\n",
       "       False, False, False, False, False, False, False, False, False,\n",
       "       False, False, False, False, False, False, False, False, False,\n",
       "       False, False, False, False, False, False, False, False, False,\n",
       "       False, False, False, False, False, False, False, False, False,\n",
       "       False, False, False, False, False, False, False, False, False,\n",
       "       False, False, False, False, False, False, False, False, False,\n",
       "       False, False, False, False, False, False, False, False, False,\n",
       "       False, False, False, False, False, False, False, False, False,\n",
       "       False, False, False, False, False, False, False, False, False,\n",
       "       False, False, False, False, False, False, False, False, False,\n",
       "       False, False, False, False, False, False, False, False, False,\n",
       "       False, False, False, False, False, False, False, False, False,\n",
       "       False, False, False, False, False, False, False, False, False,\n",
       "       False, False, False, False, False, False, False, False, False,\n",
       "       False, False, False, False, False, False, False, False, False,\n",
       "       False, False, False, False, False, False, False, False, False,\n",
       "       False, False, False, False, False, False, False, False, False,\n",
       "       False, False, False, False, False, False, False, False, False,\n",
       "       False, False, False, False, False, False, False, False, False,\n",
       "       False, False, False, False, False, False, False, False, False,\n",
       "       False, False, False, False, False, False, False, False, False,\n",
       "       False, False, False, False, False, False, False, False, False,\n",
       "       False, False, False, False, False, False, False, False, False,\n",
       "       False, False, False, False, False, False, False, False, False,\n",
       "       False, False, False, False])"
      ]
     },
     "execution_count": 7,
     "metadata": {},
     "output_type": "execute_result"
    }
   ],
   "source": [
    "i"
   ]
  },
  {
   "cell_type": "code",
   "execution_count": 9,
   "metadata": {},
   "outputs": [
    {
     "data": {
      "text/plain": [
       "array([ 0,  0,  0,  0,  0,  0,  0,  0,  0,  0,  1,  1,  1,  1,  1,  1,  1,\n",
       "        1,  1,  1,  2,  2,  2,  2,  2,  2,  2,  2,  2,  2,  3,  3,  3,  3,\n",
       "        3,  3,  3,  3,  3,  3,  4,  4,  4,  4,  4,  4,  4,  4,  4,  4,  5,\n",
       "        5,  5,  5,  5,  5,  5,  5,  5,  5,  6,  6,  6,  6,  6,  6,  6,  6,\n",
       "        6,  6,  7,  7,  7,  7,  7,  7,  7,  7,  7,  7,  8,  8,  8,  8,  8,\n",
       "        8,  8,  8,  8,  8,  9,  9,  9,  9,  9,  9,  9,  9,  9,  9, 10, 10,\n",
       "       10, 10, 10, 10, 10, 10, 10, 10, 11, 11, 11, 11, 11, 11, 11, 11, 11,\n",
       "       11, 12, 12, 12, 12, 12, 12, 12, 12, 12, 12, 13, 13, 13, 13, 13, 13,\n",
       "       13, 13, 13, 13, 14, 14, 14, 14, 14, 14, 14, 14, 14, 14, 15, 15, 15,\n",
       "       15, 15, 15, 15, 15, 15, 15, 16, 16, 16, 16, 16, 16, 16, 16, 16, 16,\n",
       "       17, 17, 17, 17, 17, 17, 17, 17, 17, 17, 18, 18, 18, 18, 18, 18, 18,\n",
       "       18, 18, 18, 19, 19, 19, 19, 19, 19, 19, 19, 19, 19, 20, 20, 20, 20,\n",
       "       20, 20, 20, 20, 20, 20, 21, 21, 21, 21, 21, 21, 21, 21, 21, 21, 22,\n",
       "       22, 22, 22, 22, 22, 22, 22, 22, 22, 23, 23, 23, 23, 23, 23, 23, 23,\n",
       "       23, 23, 24, 24, 24, 24, 24, 24, 24, 24, 24, 24, 25, 25, 25, 25, 25,\n",
       "       25, 25, 25, 25, 25, 26, 26, 26, 26, 26, 26, 26, 26, 26, 26, 27, 27,\n",
       "       27, 27, 27, 27, 27, 27, 27, 27, 28, 28, 28, 28, 28, 28, 28, 28, 28,\n",
       "       28, 29, 29, 29, 29, 29, 29, 29, 29, 29, 29, 30, 30, 30, 30, 30, 30,\n",
       "       30, 30, 30, 30, 31, 31, 31, 31, 31, 31, 31, 31, 31, 31, 32, 32, 32,\n",
       "       32, 32, 32, 32, 32, 32, 32, 33, 33, 33, 33, 33, 33, 33, 33, 33, 33,\n",
       "       34, 34, 34, 34, 34, 34, 34, 34, 34, 34, 35, 35, 35, 35, 35, 35, 35,\n",
       "       35, 35, 35, 36, 36, 36, 36, 36, 36, 36, 36, 36, 36, 37, 37, 37, 37,\n",
       "       37, 37, 37, 37, 37, 37, 38, 38, 38, 38, 38, 38, 38, 38, 38, 38, 39,\n",
       "       39, 39, 39, 39, 39, 39, 39, 39, 39])"
      ]
     },
     "execution_count": 9,
     "metadata": {},
     "output_type": "execute_result"
    }
   ],
   "source": [
    "y"
   ]
  },
  {
   "cell_type": "code",
   "execution_count": null,
   "metadata": {},
   "outputs": [],
   "source": []
  }
 ],
 "metadata": {
  "kernelspec": {
   "display_name": "Python 3",
   "language": "python",
   "name": "python3"
  },
  "language_info": {
   "codemirror_mode": {
    "name": "ipython",
    "version": 3
   },
   "file_extension": ".py",
   "mimetype": "text/x-python",
   "name": "python",
   "nbconvert_exporter": "python",
   "pygments_lexer": "ipython3",
   "version": "3.7.4"
  }
 },
 "nbformat": 4,
 "nbformat_minor": 4
}
