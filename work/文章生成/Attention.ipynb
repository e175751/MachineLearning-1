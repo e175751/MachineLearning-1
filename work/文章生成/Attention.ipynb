{
 "cells": [
  {
   "cell_type": "code",
   "execution_count": 1,
   "metadata": {},
   "outputs": [],
   "source": [
    "import tensorflow as tf"
   ]
  },
  {
   "cell_type": "code",
   "execution_count": 3,
   "metadata": {},
   "outputs": [],
   "source": [
    "class SimpleAttention(tf.keras.models.Model):\n",
    "    \n",
    "    def __init__(self, depth: int, *args, **kwargs):\n",
    "        \n",
    "        super().__init__(*args, **kwargs)\n",
    "        self.depth = depth\n",
    "\n",
    "        self.q_dense_layer = tf.keras.layers.Dense(depth, use_bias=False, name='q_dense_layer')\n",
    "        self.k_dense_layer = tf.keras.layers.Dense(depth, use_bias=False, name='k_dense_layer')\n",
    "        self.v_dense_layer = tf.keras.layers.Dense(depth, use_bias=False, name='v_dense_layer')\n",
    "        self.output_dense_layer = tf.keras.layers.Dense(depth, use_bias=False, name='output_dense_layer')\n",
    "\n",
    "    def call(self, input: tf.Tensor, memory: tf.Tensor) -> tf.Tensor:\n",
    "        \n",
    "        q = self.q_dense_layer(input)\n",
    "        k = self.k_dense_layer(memory)\n",
    "        v = self.v_dense_layer(memory)\n",
    "        \n",
    "        logit = tf.matmul(q,k,transpose_b=True)\n",
    "        attention_weight = tf.nn.softmax(logit, name=\"attenion_weight\")\n",
    "        attention_output = tf.matmul(attention_weight, v)\n",
    "        return self.output_dense_layer(attention_output)"
   ]
  },
  {
   "cell_type": "code",
   "execution_count": null,
   "metadata": {},
   "outputs": [],
   "source": []
  }
 ],
 "metadata": {
  "kernelspec": {
   "display_name": "Python 3",
   "language": "python",
   "name": "python3"
  },
  "language_info": {
   "codemirror_mode": {
    "name": "ipython",
    "version": 3
   },
   "file_extension": ".py",
   "mimetype": "text/x-python",
   "name": "python",
   "nbconvert_exporter": "python",
   "pygments_lexer": "ipython3",
   "version": "3.7.4"
  }
 },
 "nbformat": 4,
 "nbformat_minor": 4
}
