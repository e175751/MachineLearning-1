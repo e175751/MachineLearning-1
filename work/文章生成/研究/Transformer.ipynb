{
  "nbformat": 4,
  "nbformat_minor": 0,
  "metadata": {
    "kernelspec": {
      "display_name": "Python 3",
      "language": "python",
      "name": "python3"
    },
    "language_info": {
      "codemirror_mode": {
        "name": "ipython",
        "version": 3
      },
      "file_extension": ".py",
      "mimetype": "text/x-python",
      "name": "python",
      "nbconvert_exporter": "python",
      "pygments_lexer": "ipython3",
      "version": "3.7.4"
    },
    "colab": {
      "name": "Transformer.ipynb",
      "provenance": [],
      "toc_visible": true
    },
    "accelerator": "GPU",
    "widgets": {
      "application/vnd.jupyter.widget-state+json": {
        "4a2ed25019204c35b711f48e05839b14": {
          "model_module": "@jupyter-widgets/controls",
          "model_name": "HBoxModel",
          "state": {
            "_view_name": "HBoxView",
            "_dom_classes": [],
            "_model_name": "HBoxModel",
            "_view_module": "@jupyter-widgets/controls",
            "_model_module_version": "1.5.0",
            "_view_count": null,
            "_view_module_version": "1.5.0",
            "box_style": "",
            "layout": "IPY_MODEL_47f2548b68f34b9c9df6ccdd6587f45e",
            "_model_module": "@jupyter-widgets/controls",
            "children": [
              "IPY_MODEL_f6f4146eede448189b7351eb0e98eeb4",
              "IPY_MODEL_431688ce4b39405cab425d4240d725a8"
            ]
          }
        },
        "47f2548b68f34b9c9df6ccdd6587f45e": {
          "model_module": "@jupyter-widgets/base",
          "model_name": "LayoutModel",
          "state": {
            "_view_name": "LayoutView",
            "grid_template_rows": null,
            "right": null,
            "justify_content": null,
            "_view_module": "@jupyter-widgets/base",
            "overflow": null,
            "_model_module_version": "1.2.0",
            "_view_count": null,
            "flex_flow": null,
            "width": null,
            "min_width": null,
            "border": null,
            "align_items": null,
            "bottom": null,
            "_model_module": "@jupyter-widgets/base",
            "top": null,
            "grid_column": null,
            "overflow_y": null,
            "overflow_x": null,
            "grid_auto_flow": null,
            "grid_area": null,
            "grid_template_columns": null,
            "flex": null,
            "_model_name": "LayoutModel",
            "justify_items": null,
            "grid_row": null,
            "max_height": null,
            "align_content": null,
            "visibility": null,
            "align_self": null,
            "height": null,
            "min_height": null,
            "padding": null,
            "grid_auto_rows": null,
            "grid_gap": null,
            "max_width": null,
            "order": null,
            "_view_module_version": "1.2.0",
            "grid_template_areas": null,
            "object_position": null,
            "object_fit": null,
            "grid_auto_columns": null,
            "margin": null,
            "display": null,
            "left": null
          }
        },
        "f6f4146eede448189b7351eb0e98eeb4": {
          "model_module": "@jupyter-widgets/controls",
          "model_name": "FloatProgressModel",
          "state": {
            "_view_name": "ProgressView",
            "style": "IPY_MODEL_5c8cc1ba2aaa4f259918c65e0b096ed9",
            "_dom_classes": [],
            "description": "Dl Completed...: 100%",
            "_model_name": "FloatProgressModel",
            "bar_style": "success",
            "max": 1,
            "_view_module": "@jupyter-widgets/controls",
            "_model_module_version": "1.5.0",
            "value": 1,
            "_view_count": null,
            "_view_module_version": "1.5.0",
            "orientation": "horizontal",
            "min": 0,
            "description_tooltip": null,
            "_model_module": "@jupyter-widgets/controls",
            "layout": "IPY_MODEL_0a065c5c548e463399ed96bcb647ac73"
          }
        },
        "431688ce4b39405cab425d4240d725a8": {
          "model_module": "@jupyter-widgets/controls",
          "model_name": "HTMLModel",
          "state": {
            "_view_name": "HTMLView",
            "style": "IPY_MODEL_0844bf6cebc945fe907c9939fdb8bd3a",
            "_dom_classes": [],
            "description": "",
            "_model_name": "HTMLModel",
            "placeholder": "​",
            "_view_module": "@jupyter-widgets/controls",
            "_model_module_version": "1.5.0",
            "value": " 1/1 [00:09&lt;00:00,  9.55s/ url]",
            "_view_count": null,
            "_view_module_version": "1.5.0",
            "description_tooltip": null,
            "_model_module": "@jupyter-widgets/controls",
            "layout": "IPY_MODEL_38664e16cdcb4ee38b79dfebc32a0c16"
          }
        },
        "5c8cc1ba2aaa4f259918c65e0b096ed9": {
          "model_module": "@jupyter-widgets/controls",
          "model_name": "ProgressStyleModel",
          "state": {
            "_view_name": "StyleView",
            "_model_name": "ProgressStyleModel",
            "description_width": "initial",
            "_view_module": "@jupyter-widgets/base",
            "_model_module_version": "1.5.0",
            "_view_count": null,
            "_view_module_version": "1.2.0",
            "bar_color": null,
            "_model_module": "@jupyter-widgets/controls"
          }
        },
        "0a065c5c548e463399ed96bcb647ac73": {
          "model_module": "@jupyter-widgets/base",
          "model_name": "LayoutModel",
          "state": {
            "_view_name": "LayoutView",
            "grid_template_rows": null,
            "right": null,
            "justify_content": null,
            "_view_module": "@jupyter-widgets/base",
            "overflow": null,
            "_model_module_version": "1.2.0",
            "_view_count": null,
            "flex_flow": null,
            "width": null,
            "min_width": null,
            "border": null,
            "align_items": null,
            "bottom": null,
            "_model_module": "@jupyter-widgets/base",
            "top": null,
            "grid_column": null,
            "overflow_y": null,
            "overflow_x": null,
            "grid_auto_flow": null,
            "grid_area": null,
            "grid_template_columns": null,
            "flex": null,
            "_model_name": "LayoutModel",
            "justify_items": null,
            "grid_row": null,
            "max_height": null,
            "align_content": null,
            "visibility": null,
            "align_self": null,
            "height": null,
            "min_height": null,
            "padding": null,
            "grid_auto_rows": null,
            "grid_gap": null,
            "max_width": null,
            "order": null,
            "_view_module_version": "1.2.0",
            "grid_template_areas": null,
            "object_position": null,
            "object_fit": null,
            "grid_auto_columns": null,
            "margin": null,
            "display": null,
            "left": null
          }
        },
        "0844bf6cebc945fe907c9939fdb8bd3a": {
          "model_module": "@jupyter-widgets/controls",
          "model_name": "DescriptionStyleModel",
          "state": {
            "_view_name": "StyleView",
            "_model_name": "DescriptionStyleModel",
            "description_width": "",
            "_view_module": "@jupyter-widgets/base",
            "_model_module_version": "1.5.0",
            "_view_count": null,
            "_view_module_version": "1.2.0",
            "_model_module": "@jupyter-widgets/controls"
          }
        },
        "38664e16cdcb4ee38b79dfebc32a0c16": {
          "model_module": "@jupyter-widgets/base",
          "model_name": "LayoutModel",
          "state": {
            "_view_name": "LayoutView",
            "grid_template_rows": null,
            "right": null,
            "justify_content": null,
            "_view_module": "@jupyter-widgets/base",
            "overflow": null,
            "_model_module_version": "1.2.0",
            "_view_count": null,
            "flex_flow": null,
            "width": null,
            "min_width": null,
            "border": null,
            "align_items": null,
            "bottom": null,
            "_model_module": "@jupyter-widgets/base",
            "top": null,
            "grid_column": null,
            "overflow_y": null,
            "overflow_x": null,
            "grid_auto_flow": null,
            "grid_area": null,
            "grid_template_columns": null,
            "flex": null,
            "_model_name": "LayoutModel",
            "justify_items": null,
            "grid_row": null,
            "max_height": null,
            "align_content": null,
            "visibility": null,
            "align_self": null,
            "height": null,
            "min_height": null,
            "padding": null,
            "grid_auto_rows": null,
            "grid_gap": null,
            "max_width": null,
            "order": null,
            "_view_module_version": "1.2.0",
            "grid_template_areas": null,
            "object_position": null,
            "object_fit": null,
            "grid_auto_columns": null,
            "margin": null,
            "display": null,
            "left": null
          }
        },
        "7bc054a590ca4350abe68ff52878c27e": {
          "model_module": "@jupyter-widgets/controls",
          "model_name": "HBoxModel",
          "state": {
            "_view_name": "HBoxView",
            "_dom_classes": [],
            "_model_name": "HBoxModel",
            "_view_module": "@jupyter-widgets/controls",
            "_model_module_version": "1.5.0",
            "_view_count": null,
            "_view_module_version": "1.5.0",
            "box_style": "",
            "layout": "IPY_MODEL_bb6b5afb94d041d68b0db5321c3ab756",
            "_model_module": "@jupyter-widgets/controls",
            "children": [
              "IPY_MODEL_c3c231e09ef742ac8611b37642b130df",
              "IPY_MODEL_3ec594a1bc334a078a047ae68613a36e"
            ]
          }
        },
        "bb6b5afb94d041d68b0db5321c3ab756": {
          "model_module": "@jupyter-widgets/base",
          "model_name": "LayoutModel",
          "state": {
            "_view_name": "LayoutView",
            "grid_template_rows": null,
            "right": null,
            "justify_content": null,
            "_view_module": "@jupyter-widgets/base",
            "overflow": null,
            "_model_module_version": "1.2.0",
            "_view_count": null,
            "flex_flow": null,
            "width": null,
            "min_width": null,
            "border": null,
            "align_items": null,
            "bottom": null,
            "_model_module": "@jupyter-widgets/base",
            "top": null,
            "grid_column": null,
            "overflow_y": null,
            "overflow_x": null,
            "grid_auto_flow": null,
            "grid_area": null,
            "grid_template_columns": null,
            "flex": null,
            "_model_name": "LayoutModel",
            "justify_items": null,
            "grid_row": null,
            "max_height": null,
            "align_content": null,
            "visibility": null,
            "align_self": null,
            "height": null,
            "min_height": null,
            "padding": null,
            "grid_auto_rows": null,
            "grid_gap": null,
            "max_width": null,
            "order": null,
            "_view_module_version": "1.2.0",
            "grid_template_areas": null,
            "object_position": null,
            "object_fit": null,
            "grid_auto_columns": null,
            "margin": null,
            "display": null,
            "left": null
          }
        },
        "c3c231e09ef742ac8611b37642b130df": {
          "model_module": "@jupyter-widgets/controls",
          "model_name": "FloatProgressModel",
          "state": {
            "_view_name": "ProgressView",
            "style": "IPY_MODEL_0bcb0a005fee47afbd2e0e03ccc385d2",
            "_dom_classes": [],
            "description": "Dl Size...: 100%",
            "_model_name": "FloatProgressModel",
            "bar_style": "success",
            "max": 1,
            "_view_module": "@jupyter-widgets/controls",
            "_model_module_version": "1.5.0",
            "value": 1,
            "_view_count": null,
            "_view_module_version": "1.5.0",
            "orientation": "horizontal",
            "min": 0,
            "description_tooltip": null,
            "_model_module": "@jupyter-widgets/controls",
            "layout": "IPY_MODEL_7ecabba7ce844595a034408911f17f51"
          }
        },
        "3ec594a1bc334a078a047ae68613a36e": {
          "model_module": "@jupyter-widgets/controls",
          "model_name": "HTMLModel",
          "state": {
            "_view_name": "HTMLView",
            "style": "IPY_MODEL_c055484d586f42139a1311a7c5c1817d",
            "_dom_classes": [],
            "description": "",
            "_model_name": "HTMLModel",
            "placeholder": "​",
            "_view_module": "@jupyter-widgets/controls",
            "_model_module_version": "1.5.0",
            "value": " 124/124 [00:09&lt;00:00, 13.03 MiB/s]",
            "_view_count": null,
            "_view_module_version": "1.5.0",
            "description_tooltip": null,
            "_model_module": "@jupyter-widgets/controls",
            "layout": "IPY_MODEL_d57387636a3f42bbb7f006572a340435"
          }
        },
        "0bcb0a005fee47afbd2e0e03ccc385d2": {
          "model_module": "@jupyter-widgets/controls",
          "model_name": "ProgressStyleModel",
          "state": {
            "_view_name": "StyleView",
            "_model_name": "ProgressStyleModel",
            "description_width": "initial",
            "_view_module": "@jupyter-widgets/base",
            "_model_module_version": "1.5.0",
            "_view_count": null,
            "_view_module_version": "1.2.0",
            "bar_color": null,
            "_model_module": "@jupyter-widgets/controls"
          }
        },
        "7ecabba7ce844595a034408911f17f51": {
          "model_module": "@jupyter-widgets/base",
          "model_name": "LayoutModel",
          "state": {
            "_view_name": "LayoutView",
            "grid_template_rows": null,
            "right": null,
            "justify_content": null,
            "_view_module": "@jupyter-widgets/base",
            "overflow": null,
            "_model_module_version": "1.2.0",
            "_view_count": null,
            "flex_flow": null,
            "width": null,
            "min_width": null,
            "border": null,
            "align_items": null,
            "bottom": null,
            "_model_module": "@jupyter-widgets/base",
            "top": null,
            "grid_column": null,
            "overflow_y": null,
            "overflow_x": null,
            "grid_auto_flow": null,
            "grid_area": null,
            "grid_template_columns": null,
            "flex": null,
            "_model_name": "LayoutModel",
            "justify_items": null,
            "grid_row": null,
            "max_height": null,
            "align_content": null,
            "visibility": null,
            "align_self": null,
            "height": null,
            "min_height": null,
            "padding": null,
            "grid_auto_rows": null,
            "grid_gap": null,
            "max_width": null,
            "order": null,
            "_view_module_version": "1.2.0",
            "grid_template_areas": null,
            "object_position": null,
            "object_fit": null,
            "grid_auto_columns": null,
            "margin": null,
            "display": null,
            "left": null
          }
        },
        "c055484d586f42139a1311a7c5c1817d": {
          "model_module": "@jupyter-widgets/controls",
          "model_name": "DescriptionStyleModel",
          "state": {
            "_view_name": "StyleView",
            "_model_name": "DescriptionStyleModel",
            "description_width": "",
            "_view_module": "@jupyter-widgets/base",
            "_model_module_version": "1.5.0",
            "_view_count": null,
            "_view_module_version": "1.2.0",
            "_model_module": "@jupyter-widgets/controls"
          }
        },
        "d57387636a3f42bbb7f006572a340435": {
          "model_module": "@jupyter-widgets/base",
          "model_name": "LayoutModel",
          "state": {
            "_view_name": "LayoutView",
            "grid_template_rows": null,
            "right": null,
            "justify_content": null,
            "_view_module": "@jupyter-widgets/base",
            "overflow": null,
            "_model_module_version": "1.2.0",
            "_view_count": null,
            "flex_flow": null,
            "width": null,
            "min_width": null,
            "border": null,
            "align_items": null,
            "bottom": null,
            "_model_module": "@jupyter-widgets/base",
            "top": null,
            "grid_column": null,
            "overflow_y": null,
            "overflow_x": null,
            "grid_auto_flow": null,
            "grid_area": null,
            "grid_template_columns": null,
            "flex": null,
            "_model_name": "LayoutModel",
            "justify_items": null,
            "grid_row": null,
            "max_height": null,
            "align_content": null,
            "visibility": null,
            "align_self": null,
            "height": null,
            "min_height": null,
            "padding": null,
            "grid_auto_rows": null,
            "grid_gap": null,
            "max_width": null,
            "order": null,
            "_view_module_version": "1.2.0",
            "grid_template_areas": null,
            "object_position": null,
            "object_fit": null,
            "grid_auto_columns": null,
            "margin": null,
            "display": null,
            "left": null
          }
        },
        "38afa2e2164a40cbbfd0161dfb7ec001": {
          "model_module": "@jupyter-widgets/controls",
          "model_name": "HBoxModel",
          "state": {
            "_view_name": "HBoxView",
            "_dom_classes": [],
            "_model_name": "HBoxModel",
            "_view_module": "@jupyter-widgets/controls",
            "_model_module_version": "1.5.0",
            "_view_count": null,
            "_view_module_version": "1.5.0",
            "box_style": "",
            "layout": "IPY_MODEL_52c9eadc81b54e9aa5df39ad0d4eba71",
            "_model_module": "@jupyter-widgets/controls",
            "children": [
              "IPY_MODEL_1248ae8552a842449e8da660754c4240",
              "IPY_MODEL_22e7372de7094f7d955431141a444425"
            ]
          }
        },
        "52c9eadc81b54e9aa5df39ad0d4eba71": {
          "model_module": "@jupyter-widgets/base",
          "model_name": "LayoutModel",
          "state": {
            "_view_name": "LayoutView",
            "grid_template_rows": null,
            "right": null,
            "justify_content": null,
            "_view_module": "@jupyter-widgets/base",
            "overflow": null,
            "_model_module_version": "1.2.0",
            "_view_count": null,
            "flex_flow": null,
            "width": null,
            "min_width": null,
            "border": null,
            "align_items": null,
            "bottom": null,
            "_model_module": "@jupyter-widgets/base",
            "top": null,
            "grid_column": null,
            "overflow_y": null,
            "overflow_x": null,
            "grid_auto_flow": null,
            "grid_area": null,
            "grid_template_columns": null,
            "flex": null,
            "_model_name": "LayoutModel",
            "justify_items": null,
            "grid_row": null,
            "max_height": null,
            "align_content": null,
            "visibility": null,
            "align_self": null,
            "height": null,
            "min_height": null,
            "padding": null,
            "grid_auto_rows": null,
            "grid_gap": null,
            "max_width": null,
            "order": null,
            "_view_module_version": "1.2.0",
            "grid_template_areas": null,
            "object_position": null,
            "object_fit": null,
            "grid_auto_columns": null,
            "margin": null,
            "display": null,
            "left": null
          }
        },
        "1248ae8552a842449e8da660754c4240": {
          "model_module": "@jupyter-widgets/controls",
          "model_name": "FloatProgressModel",
          "state": {
            "_view_name": "ProgressView",
            "style": "IPY_MODEL_30f8fa33ebe44d27b4b6cc1b260277ad",
            "_dom_classes": [],
            "description": "Extraction completed...: 100%",
            "_model_name": "FloatProgressModel",
            "bar_style": "success",
            "max": 1,
            "_view_module": "@jupyter-widgets/controls",
            "_model_module_version": "1.5.0",
            "value": 1,
            "_view_count": null,
            "_view_module_version": "1.5.0",
            "orientation": "horizontal",
            "min": 0,
            "description_tooltip": null,
            "_model_module": "@jupyter-widgets/controls",
            "layout": "IPY_MODEL_a86441e7e934424396e6d4a955e9cf36"
          }
        },
        "22e7372de7094f7d955431141a444425": {
          "model_module": "@jupyter-widgets/controls",
          "model_name": "HTMLModel",
          "state": {
            "_view_name": "HTMLView",
            "style": "IPY_MODEL_6714e6165d654636b2ee8afe1a564198",
            "_dom_classes": [],
            "description": "",
            "_model_name": "HTMLModel",
            "placeholder": "​",
            "_view_module": "@jupyter-widgets/controls",
            "_model_module_version": "1.5.0",
            "value": " 1/1 [00:09&lt;00:00,  9.47s/ file]",
            "_view_count": null,
            "_view_module_version": "1.5.0",
            "description_tooltip": null,
            "_model_module": "@jupyter-widgets/controls",
            "layout": "IPY_MODEL_5adb5528a63546378f45e80b01026369"
          }
        },
        "30f8fa33ebe44d27b4b6cc1b260277ad": {
          "model_module": "@jupyter-widgets/controls",
          "model_name": "ProgressStyleModel",
          "state": {
            "_view_name": "StyleView",
            "_model_name": "ProgressStyleModel",
            "description_width": "initial",
            "_view_module": "@jupyter-widgets/base",
            "_model_module_version": "1.5.0",
            "_view_count": null,
            "_view_module_version": "1.2.0",
            "bar_color": null,
            "_model_module": "@jupyter-widgets/controls"
          }
        },
        "a86441e7e934424396e6d4a955e9cf36": {
          "model_module": "@jupyter-widgets/base",
          "model_name": "LayoutModel",
          "state": {
            "_view_name": "LayoutView",
            "grid_template_rows": null,
            "right": null,
            "justify_content": null,
            "_view_module": "@jupyter-widgets/base",
            "overflow": null,
            "_model_module_version": "1.2.0",
            "_view_count": null,
            "flex_flow": null,
            "width": null,
            "min_width": null,
            "border": null,
            "align_items": null,
            "bottom": null,
            "_model_module": "@jupyter-widgets/base",
            "top": null,
            "grid_column": null,
            "overflow_y": null,
            "overflow_x": null,
            "grid_auto_flow": null,
            "grid_area": null,
            "grid_template_columns": null,
            "flex": null,
            "_model_name": "LayoutModel",
            "justify_items": null,
            "grid_row": null,
            "max_height": null,
            "align_content": null,
            "visibility": null,
            "align_self": null,
            "height": null,
            "min_height": null,
            "padding": null,
            "grid_auto_rows": null,
            "grid_gap": null,
            "max_width": null,
            "order": null,
            "_view_module_version": "1.2.0",
            "grid_template_areas": null,
            "object_position": null,
            "object_fit": null,
            "grid_auto_columns": null,
            "margin": null,
            "display": null,
            "left": null
          }
        },
        "6714e6165d654636b2ee8afe1a564198": {
          "model_module": "@jupyter-widgets/controls",
          "model_name": "DescriptionStyleModel",
          "state": {
            "_view_name": "StyleView",
            "_model_name": "DescriptionStyleModel",
            "description_width": "",
            "_view_module": "@jupyter-widgets/base",
            "_model_module_version": "1.5.0",
            "_view_count": null,
            "_view_module_version": "1.2.0",
            "_model_module": "@jupyter-widgets/controls"
          }
        },
        "5adb5528a63546378f45e80b01026369": {
          "model_module": "@jupyter-widgets/base",
          "model_name": "LayoutModel",
          "state": {
            "_view_name": "LayoutView",
            "grid_template_rows": null,
            "right": null,
            "justify_content": null,
            "_view_module": "@jupyter-widgets/base",
            "overflow": null,
            "_model_module_version": "1.2.0",
            "_view_count": null,
            "flex_flow": null,
            "width": null,
            "min_width": null,
            "border": null,
            "align_items": null,
            "bottom": null,
            "_model_module": "@jupyter-widgets/base",
            "top": null,
            "grid_column": null,
            "overflow_y": null,
            "overflow_x": null,
            "grid_auto_flow": null,
            "grid_area": null,
            "grid_template_columns": null,
            "flex": null,
            "_model_name": "LayoutModel",
            "justify_items": null,
            "grid_row": null,
            "max_height": null,
            "align_content": null,
            "visibility": null,
            "align_self": null,
            "height": null,
            "min_height": null,
            "padding": null,
            "grid_auto_rows": null,
            "grid_gap": null,
            "max_width": null,
            "order": null,
            "_view_module_version": "1.2.0",
            "grid_template_areas": null,
            "object_position": null,
            "object_fit": null,
            "grid_auto_columns": null,
            "margin": null,
            "display": null,
            "left": null
          }
        },
        "e44b12d1212e4aebba0ad46845aa28dc": {
          "model_module": "@jupyter-widgets/controls",
          "model_name": "HBoxModel",
          "state": {
            "_view_name": "HBoxView",
            "_dom_classes": [],
            "_model_name": "HBoxModel",
            "_view_module": "@jupyter-widgets/controls",
            "_model_module_version": "1.5.0",
            "_view_count": null,
            "_view_module_version": "1.5.0",
            "box_style": "",
            "layout": "IPY_MODEL_657c1f4db7ed4a5f8d84c7fd789a2165",
            "_model_module": "@jupyter-widgets/controls",
            "children": [
              "IPY_MODEL_db2af3145e054d04855691c651850086",
              "IPY_MODEL_d7cd64c2a52e4f16886957ded84a1274"
            ]
          }
        },
        "657c1f4db7ed4a5f8d84c7fd789a2165": {
          "model_module": "@jupyter-widgets/base",
          "model_name": "LayoutModel",
          "state": {
            "_view_name": "LayoutView",
            "grid_template_rows": null,
            "right": null,
            "justify_content": null,
            "_view_module": "@jupyter-widgets/base",
            "overflow": null,
            "_model_module_version": "1.2.0",
            "_view_count": null,
            "flex_flow": null,
            "width": null,
            "min_width": null,
            "border": null,
            "align_items": null,
            "bottom": null,
            "_model_module": "@jupyter-widgets/base",
            "top": null,
            "grid_column": null,
            "overflow_y": null,
            "overflow_x": null,
            "grid_auto_flow": null,
            "grid_area": null,
            "grid_template_columns": null,
            "flex": null,
            "_model_name": "LayoutModel",
            "justify_items": null,
            "grid_row": null,
            "max_height": null,
            "align_content": null,
            "visibility": null,
            "align_self": null,
            "height": null,
            "min_height": null,
            "padding": null,
            "grid_auto_rows": null,
            "grid_gap": null,
            "max_width": null,
            "order": null,
            "_view_module_version": "1.2.0",
            "grid_template_areas": null,
            "object_position": null,
            "object_fit": null,
            "grid_auto_columns": null,
            "margin": null,
            "display": null,
            "left": null
          }
        },
        "db2af3145e054d04855691c651850086": {
          "model_module": "@jupyter-widgets/controls",
          "model_name": "FloatProgressModel",
          "state": {
            "_view_name": "ProgressView",
            "style": "IPY_MODEL_bf1e5f65c3044471a423691ffc1a51aa",
            "_dom_classes": [],
            "description": "",
            "_model_name": "FloatProgressModel",
            "bar_style": "info",
            "max": 1,
            "_view_module": "@jupyter-widgets/controls",
            "_model_module_version": "1.5.0",
            "value": 1,
            "_view_count": null,
            "_view_module_version": "1.5.0",
            "orientation": "horizontal",
            "min": 0,
            "description_tooltip": null,
            "_model_module": "@jupyter-widgets/controls",
            "layout": "IPY_MODEL_8901c93a80074fdeaf54cff4c97c340e"
          }
        },
        "d7cd64c2a52e4f16886957ded84a1274": {
          "model_module": "@jupyter-widgets/controls",
          "model_name": "HTMLModel",
          "state": {
            "_view_name": "HTMLView",
            "style": "IPY_MODEL_543f339a48bc4a8d86bbc53bdb0d96e2",
            "_dom_classes": [],
            "description": "",
            "_model_name": "HTMLModel",
            "placeholder": "​",
            "_view_module": "@jupyter-widgets/controls",
            "_model_module_version": "1.5.0",
            "value": " 51785/0 [00:14&lt;00:00, 3707.72 examples/s]",
            "_view_count": null,
            "_view_module_version": "1.5.0",
            "description_tooltip": null,
            "_model_module": "@jupyter-widgets/controls",
            "layout": "IPY_MODEL_0aa43e479b99477b9f34aacdc53ac159"
          }
        },
        "bf1e5f65c3044471a423691ffc1a51aa": {
          "model_module": "@jupyter-widgets/controls",
          "model_name": "ProgressStyleModel",
          "state": {
            "_view_name": "StyleView",
            "_model_name": "ProgressStyleModel",
            "description_width": "initial",
            "_view_module": "@jupyter-widgets/base",
            "_model_module_version": "1.5.0",
            "_view_count": null,
            "_view_module_version": "1.2.0",
            "bar_color": null,
            "_model_module": "@jupyter-widgets/controls"
          }
        },
        "8901c93a80074fdeaf54cff4c97c340e": {
          "model_module": "@jupyter-widgets/base",
          "model_name": "LayoutModel",
          "state": {
            "_view_name": "LayoutView",
            "grid_template_rows": null,
            "right": null,
            "justify_content": null,
            "_view_module": "@jupyter-widgets/base",
            "overflow": null,
            "_model_module_version": "1.2.0",
            "_view_count": null,
            "flex_flow": null,
            "width": null,
            "min_width": null,
            "border": null,
            "align_items": null,
            "bottom": null,
            "_model_module": "@jupyter-widgets/base",
            "top": null,
            "grid_column": null,
            "overflow_y": null,
            "overflow_x": null,
            "grid_auto_flow": null,
            "grid_area": null,
            "grid_template_columns": null,
            "flex": null,
            "_model_name": "LayoutModel",
            "justify_items": null,
            "grid_row": null,
            "max_height": null,
            "align_content": null,
            "visibility": null,
            "align_self": null,
            "height": null,
            "min_height": null,
            "padding": null,
            "grid_auto_rows": null,
            "grid_gap": null,
            "max_width": null,
            "order": null,
            "_view_module_version": "1.2.0",
            "grid_template_areas": null,
            "object_position": null,
            "object_fit": null,
            "grid_auto_columns": null,
            "margin": null,
            "display": null,
            "left": null
          }
        },
        "543f339a48bc4a8d86bbc53bdb0d96e2": {
          "model_module": "@jupyter-widgets/controls",
          "model_name": "DescriptionStyleModel",
          "state": {
            "_view_name": "StyleView",
            "_model_name": "DescriptionStyleModel",
            "description_width": "",
            "_view_module": "@jupyter-widgets/base",
            "_model_module_version": "1.5.0",
            "_view_count": null,
            "_view_module_version": "1.2.0",
            "_model_module": "@jupyter-widgets/controls"
          }
        },
        "0aa43e479b99477b9f34aacdc53ac159": {
          "model_module": "@jupyter-widgets/base",
          "model_name": "LayoutModel",
          "state": {
            "_view_name": "LayoutView",
            "grid_template_rows": null,
            "right": null,
            "justify_content": null,
            "_view_module": "@jupyter-widgets/base",
            "overflow": null,
            "_model_module_version": "1.2.0",
            "_view_count": null,
            "flex_flow": null,
            "width": null,
            "min_width": null,
            "border": null,
            "align_items": null,
            "bottom": null,
            "_model_module": "@jupyter-widgets/base",
            "top": null,
            "grid_column": null,
            "overflow_y": null,
            "overflow_x": null,
            "grid_auto_flow": null,
            "grid_area": null,
            "grid_template_columns": null,
            "flex": null,
            "_model_name": "LayoutModel",
            "justify_items": null,
            "grid_row": null,
            "max_height": null,
            "align_content": null,
            "visibility": null,
            "align_self": null,
            "height": null,
            "min_height": null,
            "padding": null,
            "grid_auto_rows": null,
            "grid_gap": null,
            "max_width": null,
            "order": null,
            "_view_module_version": "1.2.0",
            "grid_template_areas": null,
            "object_position": null,
            "object_fit": null,
            "grid_auto_columns": null,
            "margin": null,
            "display": null,
            "left": null
          }
        },
        "ca281cf12fd24b47bfdd610684ef174e": {
          "model_module": "@jupyter-widgets/controls",
          "model_name": "HBoxModel",
          "state": {
            "_view_name": "HBoxView",
            "_dom_classes": [],
            "_model_name": "HBoxModel",
            "_view_module": "@jupyter-widgets/controls",
            "_model_module_version": "1.5.0",
            "_view_count": null,
            "_view_module_version": "1.5.0",
            "box_style": "",
            "layout": "IPY_MODEL_97f10f5ea3ac43d3ba56d0727e9a7f20",
            "_model_module": "@jupyter-widgets/controls",
            "children": [
              "IPY_MODEL_85900d200237410b90ad10c7005ee483",
              "IPY_MODEL_72f78cf497fe41a2a2522ddcbe0413ad"
            ]
          }
        },
        "97f10f5ea3ac43d3ba56d0727e9a7f20": {
          "model_module": "@jupyter-widgets/base",
          "model_name": "LayoutModel",
          "state": {
            "_view_name": "LayoutView",
            "grid_template_rows": null,
            "right": null,
            "justify_content": null,
            "_view_module": "@jupyter-widgets/base",
            "overflow": null,
            "_model_module_version": "1.2.0",
            "_view_count": null,
            "flex_flow": null,
            "width": null,
            "min_width": null,
            "border": null,
            "align_items": null,
            "bottom": null,
            "_model_module": "@jupyter-widgets/base",
            "top": null,
            "grid_column": null,
            "overflow_y": null,
            "overflow_x": null,
            "grid_auto_flow": null,
            "grid_area": null,
            "grid_template_columns": null,
            "flex": null,
            "_model_name": "LayoutModel",
            "justify_items": null,
            "grid_row": null,
            "max_height": null,
            "align_content": null,
            "visibility": null,
            "align_self": null,
            "height": null,
            "min_height": null,
            "padding": null,
            "grid_auto_rows": null,
            "grid_gap": null,
            "max_width": null,
            "order": null,
            "_view_module_version": "1.2.0",
            "grid_template_areas": null,
            "object_position": null,
            "object_fit": null,
            "grid_auto_columns": null,
            "margin": null,
            "display": null,
            "left": null
          }
        },
        "85900d200237410b90ad10c7005ee483": {
          "model_module": "@jupyter-widgets/controls",
          "model_name": "FloatProgressModel",
          "state": {
            "_view_name": "ProgressView",
            "style": "IPY_MODEL_cd6c0f8bfae3417c8bcafed9c52cbadf",
            "_dom_classes": [],
            "description": " 69%",
            "_model_name": "FloatProgressModel",
            "bar_style": "danger",
            "max": 51785,
            "_view_module": "@jupyter-widgets/controls",
            "_model_module_version": "1.5.0",
            "value": 35872,
            "_view_count": null,
            "_view_module_version": "1.5.0",
            "orientation": "horizontal",
            "min": 0,
            "description_tooltip": null,
            "_model_module": "@jupyter-widgets/controls",
            "layout": "IPY_MODEL_a118fd02ca354500a0330c58214f98f3"
          }
        },
        "72f78cf497fe41a2a2522ddcbe0413ad": {
          "model_module": "@jupyter-widgets/controls",
          "model_name": "HTMLModel",
          "state": {
            "_view_name": "HTMLView",
            "style": "IPY_MODEL_01770df66c1c46cc94a6931492d80e0e",
            "_dom_classes": [],
            "description": "",
            "_model_name": "HTMLModel",
            "placeholder": "​",
            "_view_module": "@jupyter-widgets/controls",
            "_model_module_version": "1.5.0",
            "value": " 35872/51785 [00:00&lt;00:00, 41427.88 examples/s]",
            "_view_count": null,
            "_view_module_version": "1.5.0",
            "description_tooltip": null,
            "_model_module": "@jupyter-widgets/controls",
            "layout": "IPY_MODEL_d04eb51b3ab14965a2327a549e328f7d"
          }
        },
        "cd6c0f8bfae3417c8bcafed9c52cbadf": {
          "model_module": "@jupyter-widgets/controls",
          "model_name": "ProgressStyleModel",
          "state": {
            "_view_name": "StyleView",
            "_model_name": "ProgressStyleModel",
            "description_width": "initial",
            "_view_module": "@jupyter-widgets/base",
            "_model_module_version": "1.5.0",
            "_view_count": null,
            "_view_module_version": "1.2.0",
            "bar_color": null,
            "_model_module": "@jupyter-widgets/controls"
          }
        },
        "a118fd02ca354500a0330c58214f98f3": {
          "model_module": "@jupyter-widgets/base",
          "model_name": "LayoutModel",
          "state": {
            "_view_name": "LayoutView",
            "grid_template_rows": null,
            "right": null,
            "justify_content": null,
            "_view_module": "@jupyter-widgets/base",
            "overflow": null,
            "_model_module_version": "1.2.0",
            "_view_count": null,
            "flex_flow": null,
            "width": null,
            "min_width": null,
            "border": null,
            "align_items": null,
            "bottom": null,
            "_model_module": "@jupyter-widgets/base",
            "top": null,
            "grid_column": null,
            "overflow_y": null,
            "overflow_x": null,
            "grid_auto_flow": null,
            "grid_area": null,
            "grid_template_columns": null,
            "flex": null,
            "_model_name": "LayoutModel",
            "justify_items": null,
            "grid_row": null,
            "max_height": null,
            "align_content": null,
            "visibility": null,
            "align_self": null,
            "height": null,
            "min_height": null,
            "padding": null,
            "grid_auto_rows": null,
            "grid_gap": null,
            "max_width": null,
            "order": null,
            "_view_module_version": "1.2.0",
            "grid_template_areas": null,
            "object_position": null,
            "object_fit": null,
            "grid_auto_columns": null,
            "margin": null,
            "display": null,
            "left": null
          }
        },
        "01770df66c1c46cc94a6931492d80e0e": {
          "model_module": "@jupyter-widgets/controls",
          "model_name": "DescriptionStyleModel",
          "state": {
            "_view_name": "StyleView",
            "_model_name": "DescriptionStyleModel",
            "description_width": "",
            "_view_module": "@jupyter-widgets/base",
            "_model_module_version": "1.5.0",
            "_view_count": null,
            "_view_module_version": "1.2.0",
            "_model_module": "@jupyter-widgets/controls"
          }
        },
        "d04eb51b3ab14965a2327a549e328f7d": {
          "model_module": "@jupyter-widgets/base",
          "model_name": "LayoutModel",
          "state": {
            "_view_name": "LayoutView",
            "grid_template_rows": null,
            "right": null,
            "justify_content": null,
            "_view_module": "@jupyter-widgets/base",
            "overflow": null,
            "_model_module_version": "1.2.0",
            "_view_count": null,
            "flex_flow": null,
            "width": null,
            "min_width": null,
            "border": null,
            "align_items": null,
            "bottom": null,
            "_model_module": "@jupyter-widgets/base",
            "top": null,
            "grid_column": null,
            "overflow_y": null,
            "overflow_x": null,
            "grid_auto_flow": null,
            "grid_area": null,
            "grid_template_columns": null,
            "flex": null,
            "_model_name": "LayoutModel",
            "justify_items": null,
            "grid_row": null,
            "max_height": null,
            "align_content": null,
            "visibility": null,
            "align_self": null,
            "height": null,
            "min_height": null,
            "padding": null,
            "grid_auto_rows": null,
            "grid_gap": null,
            "max_width": null,
            "order": null,
            "_view_module_version": "1.2.0",
            "grid_template_areas": null,
            "object_position": null,
            "object_fit": null,
            "grid_auto_columns": null,
            "margin": null,
            "display": null,
            "left": null
          }
        },
        "8d640474de95404ab013e0600e2677f0": {
          "model_module": "@jupyter-widgets/controls",
          "model_name": "HBoxModel",
          "state": {
            "_view_name": "HBoxView",
            "_dom_classes": [],
            "_model_name": "HBoxModel",
            "_view_module": "@jupyter-widgets/controls",
            "_model_module_version": "1.5.0",
            "_view_count": null,
            "_view_module_version": "1.5.0",
            "box_style": "",
            "layout": "IPY_MODEL_d3d1eb849290429a98a33037bfc7ba43",
            "_model_module": "@jupyter-widgets/controls",
            "children": [
              "IPY_MODEL_c2214050f0674624b23491652eb8b8b7",
              "IPY_MODEL_70de659449244ec998c6fdd32eb30caa"
            ]
          }
        },
        "d3d1eb849290429a98a33037bfc7ba43": {
          "model_module": "@jupyter-widgets/base",
          "model_name": "LayoutModel",
          "state": {
            "_view_name": "LayoutView",
            "grid_template_rows": null,
            "right": null,
            "justify_content": null,
            "_view_module": "@jupyter-widgets/base",
            "overflow": null,
            "_model_module_version": "1.2.0",
            "_view_count": null,
            "flex_flow": null,
            "width": null,
            "min_width": null,
            "border": null,
            "align_items": null,
            "bottom": null,
            "_model_module": "@jupyter-widgets/base",
            "top": null,
            "grid_column": null,
            "overflow_y": null,
            "overflow_x": null,
            "grid_auto_flow": null,
            "grid_area": null,
            "grid_template_columns": null,
            "flex": null,
            "_model_name": "LayoutModel",
            "justify_items": null,
            "grid_row": null,
            "max_height": null,
            "align_content": null,
            "visibility": null,
            "align_self": null,
            "height": null,
            "min_height": null,
            "padding": null,
            "grid_auto_rows": null,
            "grid_gap": null,
            "max_width": null,
            "order": null,
            "_view_module_version": "1.2.0",
            "grid_template_areas": null,
            "object_position": null,
            "object_fit": null,
            "grid_auto_columns": null,
            "margin": null,
            "display": null,
            "left": null
          }
        },
        "c2214050f0674624b23491652eb8b8b7": {
          "model_module": "@jupyter-widgets/controls",
          "model_name": "FloatProgressModel",
          "state": {
            "_view_name": "ProgressView",
            "style": "IPY_MODEL_96cf10f616834dc7b503e897d20a9cc0",
            "_dom_classes": [],
            "description": "",
            "_model_name": "FloatProgressModel",
            "bar_style": "info",
            "max": 1,
            "_view_module": "@jupyter-widgets/controls",
            "_model_module_version": "1.5.0",
            "value": 1,
            "_view_count": null,
            "_view_module_version": "1.5.0",
            "orientation": "horizontal",
            "min": 0,
            "description_tooltip": null,
            "_model_module": "@jupyter-widgets/controls",
            "layout": "IPY_MODEL_7005b279770844ad968ee1fc15d1ece8"
          }
        },
        "70de659449244ec998c6fdd32eb30caa": {
          "model_module": "@jupyter-widgets/controls",
          "model_name": "HTMLModel",
          "state": {
            "_view_name": "HTMLView",
            "style": "IPY_MODEL_f50168d78f2642b5a6e3165fca466662",
            "_dom_classes": [],
            "description": "",
            "_model_name": "HTMLModel",
            "placeholder": "​",
            "_view_module": "@jupyter-widgets/controls",
            "_model_module_version": "1.5.0",
            "value": " 1193/0 [00:00&lt;00:00, 2473.23 examples/s]",
            "_view_count": null,
            "_view_module_version": "1.5.0",
            "description_tooltip": null,
            "_model_module": "@jupyter-widgets/controls",
            "layout": "IPY_MODEL_9deeea954ae14e37b2f4e4425cb71a07"
          }
        },
        "96cf10f616834dc7b503e897d20a9cc0": {
          "model_module": "@jupyter-widgets/controls",
          "model_name": "ProgressStyleModel",
          "state": {
            "_view_name": "StyleView",
            "_model_name": "ProgressStyleModel",
            "description_width": "initial",
            "_view_module": "@jupyter-widgets/base",
            "_model_module_version": "1.5.0",
            "_view_count": null,
            "_view_module_version": "1.2.0",
            "bar_color": null,
            "_model_module": "@jupyter-widgets/controls"
          }
        },
        "7005b279770844ad968ee1fc15d1ece8": {
          "model_module": "@jupyter-widgets/base",
          "model_name": "LayoutModel",
          "state": {
            "_view_name": "LayoutView",
            "grid_template_rows": null,
            "right": null,
            "justify_content": null,
            "_view_module": "@jupyter-widgets/base",
            "overflow": null,
            "_model_module_version": "1.2.0",
            "_view_count": null,
            "flex_flow": null,
            "width": null,
            "min_width": null,
            "border": null,
            "align_items": null,
            "bottom": null,
            "_model_module": "@jupyter-widgets/base",
            "top": null,
            "grid_column": null,
            "overflow_y": null,
            "overflow_x": null,
            "grid_auto_flow": null,
            "grid_area": null,
            "grid_template_columns": null,
            "flex": null,
            "_model_name": "LayoutModel",
            "justify_items": null,
            "grid_row": null,
            "max_height": null,
            "align_content": null,
            "visibility": null,
            "align_self": null,
            "height": null,
            "min_height": null,
            "padding": null,
            "grid_auto_rows": null,
            "grid_gap": null,
            "max_width": null,
            "order": null,
            "_view_module_version": "1.2.0",
            "grid_template_areas": null,
            "object_position": null,
            "object_fit": null,
            "grid_auto_columns": null,
            "margin": null,
            "display": null,
            "left": null
          }
        },
        "f50168d78f2642b5a6e3165fca466662": {
          "model_module": "@jupyter-widgets/controls",
          "model_name": "DescriptionStyleModel",
          "state": {
            "_view_name": "StyleView",
            "_model_name": "DescriptionStyleModel",
            "description_width": "",
            "_view_module": "@jupyter-widgets/base",
            "_model_module_version": "1.5.0",
            "_view_count": null,
            "_view_module_version": "1.2.0",
            "_model_module": "@jupyter-widgets/controls"
          }
        },
        "9deeea954ae14e37b2f4e4425cb71a07": {
          "model_module": "@jupyter-widgets/base",
          "model_name": "LayoutModel",
          "state": {
            "_view_name": "LayoutView",
            "grid_template_rows": null,
            "right": null,
            "justify_content": null,
            "_view_module": "@jupyter-widgets/base",
            "overflow": null,
            "_model_module_version": "1.2.0",
            "_view_count": null,
            "flex_flow": null,
            "width": null,
            "min_width": null,
            "border": null,
            "align_items": null,
            "bottom": null,
            "_model_module": "@jupyter-widgets/base",
            "top": null,
            "grid_column": null,
            "overflow_y": null,
            "overflow_x": null,
            "grid_auto_flow": null,
            "grid_area": null,
            "grid_template_columns": null,
            "flex": null,
            "_model_name": "LayoutModel",
            "justify_items": null,
            "grid_row": null,
            "max_height": null,
            "align_content": null,
            "visibility": null,
            "align_self": null,
            "height": null,
            "min_height": null,
            "padding": null,
            "grid_auto_rows": null,
            "grid_gap": null,
            "max_width": null,
            "order": null,
            "_view_module_version": "1.2.0",
            "grid_template_areas": null,
            "object_position": null,
            "object_fit": null,
            "grid_auto_columns": null,
            "margin": null,
            "display": null,
            "left": null
          }
        },
        "6ba2390212fc42398e2af8c43e91b4d0": {
          "model_module": "@jupyter-widgets/controls",
          "model_name": "HBoxModel",
          "state": {
            "_view_name": "HBoxView",
            "_dom_classes": [],
            "_model_name": "HBoxModel",
            "_view_module": "@jupyter-widgets/controls",
            "_model_module_version": "1.5.0",
            "_view_count": null,
            "_view_module_version": "1.5.0",
            "box_style": "",
            "layout": "IPY_MODEL_7bcba15766034f53b69afbc6b841152e",
            "_model_module": "@jupyter-widgets/controls",
            "children": [
              "IPY_MODEL_d6e7f2659a444eda8762ff3a50e359d8",
              "IPY_MODEL_31c3f97666b14e3985f6ed0577bb8ff6"
            ]
          }
        },
        "7bcba15766034f53b69afbc6b841152e": {
          "model_module": "@jupyter-widgets/base",
          "model_name": "LayoutModel",
          "state": {
            "_view_name": "LayoutView",
            "grid_template_rows": null,
            "right": null,
            "justify_content": null,
            "_view_module": "@jupyter-widgets/base",
            "overflow": null,
            "_model_module_version": "1.2.0",
            "_view_count": null,
            "flex_flow": null,
            "width": null,
            "min_width": null,
            "border": null,
            "align_items": null,
            "bottom": null,
            "_model_module": "@jupyter-widgets/base",
            "top": null,
            "grid_column": null,
            "overflow_y": null,
            "overflow_x": null,
            "grid_auto_flow": null,
            "grid_area": null,
            "grid_template_columns": null,
            "flex": null,
            "_model_name": "LayoutModel",
            "justify_items": null,
            "grid_row": null,
            "max_height": null,
            "align_content": null,
            "visibility": null,
            "align_self": null,
            "height": null,
            "min_height": null,
            "padding": null,
            "grid_auto_rows": null,
            "grid_gap": null,
            "max_width": null,
            "order": null,
            "_view_module_version": "1.2.0",
            "grid_template_areas": null,
            "object_position": null,
            "object_fit": null,
            "grid_auto_columns": null,
            "margin": null,
            "display": null,
            "left": null
          }
        },
        "d6e7f2659a444eda8762ff3a50e359d8": {
          "model_module": "@jupyter-widgets/controls",
          "model_name": "FloatProgressModel",
          "state": {
            "_view_name": "ProgressView",
            "style": "IPY_MODEL_72e8d0fa5d9d484a83cf04e8192b2734",
            "_dom_classes": [],
            "description": "  0%",
            "_model_name": "FloatProgressModel",
            "bar_style": "danger",
            "max": 1193,
            "_view_module": "@jupyter-widgets/controls",
            "_model_module_version": "1.5.0",
            "value": 0,
            "_view_count": null,
            "_view_module_version": "1.5.0",
            "orientation": "horizontal",
            "min": 0,
            "description_tooltip": null,
            "_model_module": "@jupyter-widgets/controls",
            "layout": "IPY_MODEL_ad246a0d1895448ba75ac8e9fe69b556"
          }
        },
        "31c3f97666b14e3985f6ed0577bb8ff6": {
          "model_module": "@jupyter-widgets/controls",
          "model_name": "HTMLModel",
          "state": {
            "_view_name": "HTMLView",
            "style": "IPY_MODEL_e81c96cd446c4e788c9166211caef635",
            "_dom_classes": [],
            "description": "",
            "_model_name": "HTMLModel",
            "placeholder": "​",
            "_view_module": "@jupyter-widgets/controls",
            "_model_module_version": "1.5.0",
            "value": " 0/1193 [00:00&lt;?, ? examples/s]",
            "_view_count": null,
            "_view_module_version": "1.5.0",
            "description_tooltip": null,
            "_model_module": "@jupyter-widgets/controls",
            "layout": "IPY_MODEL_db21df5739454bd2a3f9987af79c3b98"
          }
        },
        "72e8d0fa5d9d484a83cf04e8192b2734": {
          "model_module": "@jupyter-widgets/controls",
          "model_name": "ProgressStyleModel",
          "state": {
            "_view_name": "StyleView",
            "_model_name": "ProgressStyleModel",
            "description_width": "initial",
            "_view_module": "@jupyter-widgets/base",
            "_model_module_version": "1.5.0",
            "_view_count": null,
            "_view_module_version": "1.2.0",
            "bar_color": null,
            "_model_module": "@jupyter-widgets/controls"
          }
        },
        "ad246a0d1895448ba75ac8e9fe69b556": {
          "model_module": "@jupyter-widgets/base",
          "model_name": "LayoutModel",
          "state": {
            "_view_name": "LayoutView",
            "grid_template_rows": null,
            "right": null,
            "justify_content": null,
            "_view_module": "@jupyter-widgets/base",
            "overflow": null,
            "_model_module_version": "1.2.0",
            "_view_count": null,
            "flex_flow": null,
            "width": null,
            "min_width": null,
            "border": null,
            "align_items": null,
            "bottom": null,
            "_model_module": "@jupyter-widgets/base",
            "top": null,
            "grid_column": null,
            "overflow_y": null,
            "overflow_x": null,
            "grid_auto_flow": null,
            "grid_area": null,
            "grid_template_columns": null,
            "flex": null,
            "_model_name": "LayoutModel",
            "justify_items": null,
            "grid_row": null,
            "max_height": null,
            "align_content": null,
            "visibility": null,
            "align_self": null,
            "height": null,
            "min_height": null,
            "padding": null,
            "grid_auto_rows": null,
            "grid_gap": null,
            "max_width": null,
            "order": null,
            "_view_module_version": "1.2.0",
            "grid_template_areas": null,
            "object_position": null,
            "object_fit": null,
            "grid_auto_columns": null,
            "margin": null,
            "display": null,
            "left": null
          }
        },
        "e81c96cd446c4e788c9166211caef635": {
          "model_module": "@jupyter-widgets/controls",
          "model_name": "DescriptionStyleModel",
          "state": {
            "_view_name": "StyleView",
            "_model_name": "DescriptionStyleModel",
            "description_width": "",
            "_view_module": "@jupyter-widgets/base",
            "_model_module_version": "1.5.0",
            "_view_count": null,
            "_view_module_version": "1.2.0",
            "_model_module": "@jupyter-widgets/controls"
          }
        },
        "db21df5739454bd2a3f9987af79c3b98": {
          "model_module": "@jupyter-widgets/base",
          "model_name": "LayoutModel",
          "state": {
            "_view_name": "LayoutView",
            "grid_template_rows": null,
            "right": null,
            "justify_content": null,
            "_view_module": "@jupyter-widgets/base",
            "overflow": null,
            "_model_module_version": "1.2.0",
            "_view_count": null,
            "flex_flow": null,
            "width": null,
            "min_width": null,
            "border": null,
            "align_items": null,
            "bottom": null,
            "_model_module": "@jupyter-widgets/base",
            "top": null,
            "grid_column": null,
            "overflow_y": null,
            "overflow_x": null,
            "grid_auto_flow": null,
            "grid_area": null,
            "grid_template_columns": null,
            "flex": null,
            "_model_name": "LayoutModel",
            "justify_items": null,
            "grid_row": null,
            "max_height": null,
            "align_content": null,
            "visibility": null,
            "align_self": null,
            "height": null,
            "min_height": null,
            "padding": null,
            "grid_auto_rows": null,
            "grid_gap": null,
            "max_width": null,
            "order": null,
            "_view_module_version": "1.2.0",
            "grid_template_areas": null,
            "object_position": null,
            "object_fit": null,
            "grid_auto_columns": null,
            "margin": null,
            "display": null,
            "left": null
          }
        },
        "9e9360fa91c34748abac76d22fc70cb5": {
          "model_module": "@jupyter-widgets/controls",
          "model_name": "HBoxModel",
          "state": {
            "_view_name": "HBoxView",
            "_dom_classes": [],
            "_model_name": "HBoxModel",
            "_view_module": "@jupyter-widgets/controls",
            "_model_module_version": "1.5.0",
            "_view_count": null,
            "_view_module_version": "1.5.0",
            "box_style": "",
            "layout": "IPY_MODEL_2776396a92b74db99f4b90640991037b",
            "_model_module": "@jupyter-widgets/controls",
            "children": [
              "IPY_MODEL_6c449ce65aae4b0892458e22ebf58a16",
              "IPY_MODEL_9a6d6905ccff4a8b8963139f048d1954"
            ]
          }
        },
        "2776396a92b74db99f4b90640991037b": {
          "model_module": "@jupyter-widgets/base",
          "model_name": "LayoutModel",
          "state": {
            "_view_name": "LayoutView",
            "grid_template_rows": null,
            "right": null,
            "justify_content": null,
            "_view_module": "@jupyter-widgets/base",
            "overflow": null,
            "_model_module_version": "1.2.0",
            "_view_count": null,
            "flex_flow": null,
            "width": null,
            "min_width": null,
            "border": null,
            "align_items": null,
            "bottom": null,
            "_model_module": "@jupyter-widgets/base",
            "top": null,
            "grid_column": null,
            "overflow_y": null,
            "overflow_x": null,
            "grid_auto_flow": null,
            "grid_area": null,
            "grid_template_columns": null,
            "flex": null,
            "_model_name": "LayoutModel",
            "justify_items": null,
            "grid_row": null,
            "max_height": null,
            "align_content": null,
            "visibility": null,
            "align_self": null,
            "height": null,
            "min_height": null,
            "padding": null,
            "grid_auto_rows": null,
            "grid_gap": null,
            "max_width": null,
            "order": null,
            "_view_module_version": "1.2.0",
            "grid_template_areas": null,
            "object_position": null,
            "object_fit": null,
            "grid_auto_columns": null,
            "margin": null,
            "display": null,
            "left": null
          }
        },
        "6c449ce65aae4b0892458e22ebf58a16": {
          "model_module": "@jupyter-widgets/controls",
          "model_name": "FloatProgressModel",
          "state": {
            "_view_name": "ProgressView",
            "style": "IPY_MODEL_273e8d6c1ce34ecd87811c1fe00b815d",
            "_dom_classes": [],
            "description": "",
            "_model_name": "FloatProgressModel",
            "bar_style": "info",
            "max": 1,
            "_view_module": "@jupyter-widgets/controls",
            "_model_module_version": "1.5.0",
            "value": 1,
            "_view_count": null,
            "_view_module_version": "1.5.0",
            "orientation": "horizontal",
            "min": 0,
            "description_tooltip": null,
            "_model_module": "@jupyter-widgets/controls",
            "layout": "IPY_MODEL_3e2d06a02f1d412a868187d2bcde62ce"
          }
        },
        "9a6d6905ccff4a8b8963139f048d1954": {
          "model_module": "@jupyter-widgets/controls",
          "model_name": "HTMLModel",
          "state": {
            "_view_name": "HTMLView",
            "style": "IPY_MODEL_956fb637fb954ee2bf8865a245180dfa",
            "_dom_classes": [],
            "description": "",
            "_model_name": "HTMLModel",
            "placeholder": "​",
            "_view_module": "@jupyter-widgets/controls",
            "_model_module_version": "1.5.0",
            "value": " 1803/0 [00:00&lt;00:00, 2616.39 examples/s]",
            "_view_count": null,
            "_view_module_version": "1.5.0",
            "description_tooltip": null,
            "_model_module": "@jupyter-widgets/controls",
            "layout": "IPY_MODEL_b7f365ababde4dc4a653ddbb7f03024e"
          }
        },
        "273e8d6c1ce34ecd87811c1fe00b815d": {
          "model_module": "@jupyter-widgets/controls",
          "model_name": "ProgressStyleModel",
          "state": {
            "_view_name": "StyleView",
            "_model_name": "ProgressStyleModel",
            "description_width": "initial",
            "_view_module": "@jupyter-widgets/base",
            "_model_module_version": "1.5.0",
            "_view_count": null,
            "_view_module_version": "1.2.0",
            "bar_color": null,
            "_model_module": "@jupyter-widgets/controls"
          }
        },
        "3e2d06a02f1d412a868187d2bcde62ce": {
          "model_module": "@jupyter-widgets/base",
          "model_name": "LayoutModel",
          "state": {
            "_view_name": "LayoutView",
            "grid_template_rows": null,
            "right": null,
            "justify_content": null,
            "_view_module": "@jupyter-widgets/base",
            "overflow": null,
            "_model_module_version": "1.2.0",
            "_view_count": null,
            "flex_flow": null,
            "width": null,
            "min_width": null,
            "border": null,
            "align_items": null,
            "bottom": null,
            "_model_module": "@jupyter-widgets/base",
            "top": null,
            "grid_column": null,
            "overflow_y": null,
            "overflow_x": null,
            "grid_auto_flow": null,
            "grid_area": null,
            "grid_template_columns": null,
            "flex": null,
            "_model_name": "LayoutModel",
            "justify_items": null,
            "grid_row": null,
            "max_height": null,
            "align_content": null,
            "visibility": null,
            "align_self": null,
            "height": null,
            "min_height": null,
            "padding": null,
            "grid_auto_rows": null,
            "grid_gap": null,
            "max_width": null,
            "order": null,
            "_view_module_version": "1.2.0",
            "grid_template_areas": null,
            "object_position": null,
            "object_fit": null,
            "grid_auto_columns": null,
            "margin": null,
            "display": null,
            "left": null
          }
        },
        "956fb637fb954ee2bf8865a245180dfa": {
          "model_module": "@jupyter-widgets/controls",
          "model_name": "DescriptionStyleModel",
          "state": {
            "_view_name": "StyleView",
            "_model_name": "DescriptionStyleModel",
            "description_width": "",
            "_view_module": "@jupyter-widgets/base",
            "_model_module_version": "1.5.0",
            "_view_count": null,
            "_view_module_version": "1.2.0",
            "_model_module": "@jupyter-widgets/controls"
          }
        },
        "b7f365ababde4dc4a653ddbb7f03024e": {
          "model_module": "@jupyter-widgets/base",
          "model_name": "LayoutModel",
          "state": {
            "_view_name": "LayoutView",
            "grid_template_rows": null,
            "right": null,
            "justify_content": null,
            "_view_module": "@jupyter-widgets/base",
            "overflow": null,
            "_model_module_version": "1.2.0",
            "_view_count": null,
            "flex_flow": null,
            "width": null,
            "min_width": null,
            "border": null,
            "align_items": null,
            "bottom": null,
            "_model_module": "@jupyter-widgets/base",
            "top": null,
            "grid_column": null,
            "overflow_y": null,
            "overflow_x": null,
            "grid_auto_flow": null,
            "grid_area": null,
            "grid_template_columns": null,
            "flex": null,
            "_model_name": "LayoutModel",
            "justify_items": null,
            "grid_row": null,
            "max_height": null,
            "align_content": null,
            "visibility": null,
            "align_self": null,
            "height": null,
            "min_height": null,
            "padding": null,
            "grid_auto_rows": null,
            "grid_gap": null,
            "max_width": null,
            "order": null,
            "_view_module_version": "1.2.0",
            "grid_template_areas": null,
            "object_position": null,
            "object_fit": null,
            "grid_auto_columns": null,
            "margin": null,
            "display": null,
            "left": null
          }
        },
        "26526c3b6c0e42f28790ad6bbd3702b0": {
          "model_module": "@jupyter-widgets/controls",
          "model_name": "HBoxModel",
          "state": {
            "_view_name": "HBoxView",
            "_dom_classes": [],
            "_model_name": "HBoxModel",
            "_view_module": "@jupyter-widgets/controls",
            "_model_module_version": "1.5.0",
            "_view_count": null,
            "_view_module_version": "1.5.0",
            "box_style": "",
            "layout": "IPY_MODEL_11d492a74fee4ff38b26ea7a18fd10ba",
            "_model_module": "@jupyter-widgets/controls",
            "children": [
              "IPY_MODEL_e27d313d9bc142b88e70ea11b337020b",
              "IPY_MODEL_f18c43fa5aa74980bef230bd0b7290a2"
            ]
          }
        },
        "11d492a74fee4ff38b26ea7a18fd10ba": {
          "model_module": "@jupyter-widgets/base",
          "model_name": "LayoutModel",
          "state": {
            "_view_name": "LayoutView",
            "grid_template_rows": null,
            "right": null,
            "justify_content": null,
            "_view_module": "@jupyter-widgets/base",
            "overflow": null,
            "_model_module_version": "1.2.0",
            "_view_count": null,
            "flex_flow": null,
            "width": null,
            "min_width": null,
            "border": null,
            "align_items": null,
            "bottom": null,
            "_model_module": "@jupyter-widgets/base",
            "top": null,
            "grid_column": null,
            "overflow_y": null,
            "overflow_x": null,
            "grid_auto_flow": null,
            "grid_area": null,
            "grid_template_columns": null,
            "flex": null,
            "_model_name": "LayoutModel",
            "justify_items": null,
            "grid_row": null,
            "max_height": null,
            "align_content": null,
            "visibility": null,
            "align_self": null,
            "height": null,
            "min_height": null,
            "padding": null,
            "grid_auto_rows": null,
            "grid_gap": null,
            "max_width": null,
            "order": null,
            "_view_module_version": "1.2.0",
            "grid_template_areas": null,
            "object_position": null,
            "object_fit": null,
            "grid_auto_columns": null,
            "margin": null,
            "display": null,
            "left": null
          }
        },
        "e27d313d9bc142b88e70ea11b337020b": {
          "model_module": "@jupyter-widgets/controls",
          "model_name": "FloatProgressModel",
          "state": {
            "_view_name": "ProgressView",
            "style": "IPY_MODEL_2efbb2fea3f346388927665123df7b5a",
            "_dom_classes": [],
            "description": "  0%",
            "_model_name": "FloatProgressModel",
            "bar_style": "danger",
            "max": 1803,
            "_view_module": "@jupyter-widgets/controls",
            "_model_module_version": "1.5.0",
            "value": 0,
            "_view_count": null,
            "_view_module_version": "1.5.0",
            "orientation": "horizontal",
            "min": 0,
            "description_tooltip": null,
            "_model_module": "@jupyter-widgets/controls",
            "layout": "IPY_MODEL_8035b2e4545d4827bddb11b177525f6e"
          }
        },
        "f18c43fa5aa74980bef230bd0b7290a2": {
          "model_module": "@jupyter-widgets/controls",
          "model_name": "HTMLModel",
          "state": {
            "_view_name": "HTMLView",
            "style": "IPY_MODEL_5dcf9c93fb2841419628fa213b7ee0ea",
            "_dom_classes": [],
            "description": "",
            "_model_name": "HTMLModel",
            "placeholder": "​",
            "_view_module": "@jupyter-widgets/controls",
            "_model_module_version": "1.5.0",
            "value": " 0/1803 [00:00&lt;?, ? examples/s]",
            "_view_count": null,
            "_view_module_version": "1.5.0",
            "description_tooltip": null,
            "_model_module": "@jupyter-widgets/controls",
            "layout": "IPY_MODEL_be886eeed749482988885b4c17a30116"
          }
        },
        "2efbb2fea3f346388927665123df7b5a": {
          "model_module": "@jupyter-widgets/controls",
          "model_name": "ProgressStyleModel",
          "state": {
            "_view_name": "StyleView",
            "_model_name": "ProgressStyleModel",
            "description_width": "initial",
            "_view_module": "@jupyter-widgets/base",
            "_model_module_version": "1.5.0",
            "_view_count": null,
            "_view_module_version": "1.2.0",
            "bar_color": null,
            "_model_module": "@jupyter-widgets/controls"
          }
        },
        "8035b2e4545d4827bddb11b177525f6e": {
          "model_module": "@jupyter-widgets/base",
          "model_name": "LayoutModel",
          "state": {
            "_view_name": "LayoutView",
            "grid_template_rows": null,
            "right": null,
            "justify_content": null,
            "_view_module": "@jupyter-widgets/base",
            "overflow": null,
            "_model_module_version": "1.2.0",
            "_view_count": null,
            "flex_flow": null,
            "width": null,
            "min_width": null,
            "border": null,
            "align_items": null,
            "bottom": null,
            "_model_module": "@jupyter-widgets/base",
            "top": null,
            "grid_column": null,
            "overflow_y": null,
            "overflow_x": null,
            "grid_auto_flow": null,
            "grid_area": null,
            "grid_template_columns": null,
            "flex": null,
            "_model_name": "LayoutModel",
            "justify_items": null,
            "grid_row": null,
            "max_height": null,
            "align_content": null,
            "visibility": null,
            "align_self": null,
            "height": null,
            "min_height": null,
            "padding": null,
            "grid_auto_rows": null,
            "grid_gap": null,
            "max_width": null,
            "order": null,
            "_view_module_version": "1.2.0",
            "grid_template_areas": null,
            "object_position": null,
            "object_fit": null,
            "grid_auto_columns": null,
            "margin": null,
            "display": null,
            "left": null
          }
        },
        "5dcf9c93fb2841419628fa213b7ee0ea": {
          "model_module": "@jupyter-widgets/controls",
          "model_name": "DescriptionStyleModel",
          "state": {
            "_view_name": "StyleView",
            "_model_name": "DescriptionStyleModel",
            "description_width": "",
            "_view_module": "@jupyter-widgets/base",
            "_model_module_version": "1.5.0",
            "_view_count": null,
            "_view_module_version": "1.2.0",
            "_model_module": "@jupyter-widgets/controls"
          }
        },
        "be886eeed749482988885b4c17a30116": {
          "model_module": "@jupyter-widgets/base",
          "model_name": "LayoutModel",
          "state": {
            "_view_name": "LayoutView",
            "grid_template_rows": null,
            "right": null,
            "justify_content": null,
            "_view_module": "@jupyter-widgets/base",
            "overflow": null,
            "_model_module_version": "1.2.0",
            "_view_count": null,
            "flex_flow": null,
            "width": null,
            "min_width": null,
            "border": null,
            "align_items": null,
            "bottom": null,
            "_model_module": "@jupyter-widgets/base",
            "top": null,
            "grid_column": null,
            "overflow_y": null,
            "overflow_x": null,
            "grid_auto_flow": null,
            "grid_area": null,
            "grid_template_columns": null,
            "flex": null,
            "_model_name": "LayoutModel",
            "justify_items": null,
            "grid_row": null,
            "max_height": null,
            "align_content": null,
            "visibility": null,
            "align_self": null,
            "height": null,
            "min_height": null,
            "padding": null,
            "grid_auto_rows": null,
            "grid_gap": null,
            "max_width": null,
            "order": null,
            "_view_module_version": "1.2.0",
            "grid_template_areas": null,
            "object_position": null,
            "object_fit": null,
            "grid_auto_columns": null,
            "margin": null,
            "display": null,
            "left": null
          }
        }
      }
    }
  },
  "cells": [
    {
      "cell_type": "markdown",
      "metadata": {
        "id": "D_8JTCzwg9_I",
        "colab_type": "text"
      },
      "source": [
        "# Transformerによる文章生成"
      ]
    },
    {
      "cell_type": "markdown",
      "metadata": {
        "id": "va4K-XFkg9_J",
        "colab_type": "text"
      },
      "source": [
        "## import package"
      ]
    },
    {
      "cell_type": "code",
      "metadata": {
        "id": "fWVtBR3ag9_K",
        "colab_type": "code",
        "colab": {}
      },
      "source": [
        "import tensorflow_datasets as tfds\n",
        "import tensorflow as tf\n",
        "\n",
        "import time\n",
        "import numpy as np\n",
        "import matplotlib.pyplot as plt"
      ],
      "execution_count": 1,
      "outputs": []
    },
    {
      "cell_type": "markdown",
      "metadata": {
        "id": "iBAXNoQAg9_O",
        "colab_type": "text"
      },
      "source": [
        "## Setup input pipeline"
      ]
    },
    {
      "cell_type": "code",
      "metadata": {
        "id": "GIB0rzFVg9_P",
        "colab_type": "code",
        "colab": {
          "base_uri": "https://localhost:8080/",
          "height": 416,
          "referenced_widgets": [
            "4a2ed25019204c35b711f48e05839b14",
            "47f2548b68f34b9c9df6ccdd6587f45e",
            "f6f4146eede448189b7351eb0e98eeb4",
            "431688ce4b39405cab425d4240d725a8",
            "5c8cc1ba2aaa4f259918c65e0b096ed9",
            "0a065c5c548e463399ed96bcb647ac73",
            "0844bf6cebc945fe907c9939fdb8bd3a",
            "38664e16cdcb4ee38b79dfebc32a0c16",
            "7bc054a590ca4350abe68ff52878c27e",
            "bb6b5afb94d041d68b0db5321c3ab756",
            "c3c231e09ef742ac8611b37642b130df",
            "3ec594a1bc334a078a047ae68613a36e",
            "0bcb0a005fee47afbd2e0e03ccc385d2",
            "7ecabba7ce844595a034408911f17f51",
            "c055484d586f42139a1311a7c5c1817d",
            "d57387636a3f42bbb7f006572a340435",
            "38afa2e2164a40cbbfd0161dfb7ec001",
            "52c9eadc81b54e9aa5df39ad0d4eba71",
            "1248ae8552a842449e8da660754c4240",
            "22e7372de7094f7d955431141a444425",
            "30f8fa33ebe44d27b4b6cc1b260277ad",
            "a86441e7e934424396e6d4a955e9cf36",
            "6714e6165d654636b2ee8afe1a564198",
            "5adb5528a63546378f45e80b01026369",
            "e44b12d1212e4aebba0ad46845aa28dc",
            "657c1f4db7ed4a5f8d84c7fd789a2165",
            "db2af3145e054d04855691c651850086",
            "d7cd64c2a52e4f16886957ded84a1274",
            "bf1e5f65c3044471a423691ffc1a51aa",
            "8901c93a80074fdeaf54cff4c97c340e",
            "543f339a48bc4a8d86bbc53bdb0d96e2",
            "0aa43e479b99477b9f34aacdc53ac159",
            "ca281cf12fd24b47bfdd610684ef174e",
            "97f10f5ea3ac43d3ba56d0727e9a7f20",
            "85900d200237410b90ad10c7005ee483",
            "72f78cf497fe41a2a2522ddcbe0413ad",
            "cd6c0f8bfae3417c8bcafed9c52cbadf",
            "a118fd02ca354500a0330c58214f98f3",
            "01770df66c1c46cc94a6931492d80e0e",
            "d04eb51b3ab14965a2327a549e328f7d",
            "8d640474de95404ab013e0600e2677f0",
            "d3d1eb849290429a98a33037bfc7ba43",
            "c2214050f0674624b23491652eb8b8b7",
            "70de659449244ec998c6fdd32eb30caa",
            "96cf10f616834dc7b503e897d20a9cc0",
            "7005b279770844ad968ee1fc15d1ece8",
            "f50168d78f2642b5a6e3165fca466662",
            "9deeea954ae14e37b2f4e4425cb71a07",
            "6ba2390212fc42398e2af8c43e91b4d0",
            "7bcba15766034f53b69afbc6b841152e",
            "d6e7f2659a444eda8762ff3a50e359d8",
            "31c3f97666b14e3985f6ed0577bb8ff6",
            "72e8d0fa5d9d484a83cf04e8192b2734",
            "ad246a0d1895448ba75ac8e9fe69b556",
            "e81c96cd446c4e788c9166211caef635",
            "db21df5739454bd2a3f9987af79c3b98",
            "9e9360fa91c34748abac76d22fc70cb5",
            "2776396a92b74db99f4b90640991037b",
            "6c449ce65aae4b0892458e22ebf58a16",
            "9a6d6905ccff4a8b8963139f048d1954",
            "273e8d6c1ce34ecd87811c1fe00b815d",
            "3e2d06a02f1d412a868187d2bcde62ce",
            "956fb637fb954ee2bf8865a245180dfa",
            "b7f365ababde4dc4a653ddbb7f03024e",
            "26526c3b6c0e42f28790ad6bbd3702b0",
            "11d492a74fee4ff38b26ea7a18fd10ba",
            "e27d313d9bc142b88e70ea11b337020b",
            "f18c43fa5aa74980bef230bd0b7290a2",
            "2efbb2fea3f346388927665123df7b5a",
            "8035b2e4545d4827bddb11b177525f6e",
            "5dcf9c93fb2841419628fa213b7ee0ea",
            "be886eeed749482988885b4c17a30116"
          ]
        },
        "outputId": "687c8574-1a98-4728-ed3b-6344d8a75e30"
      },
      "source": [
        "examples, metadata = tfds.load('ted_hrlr_translate/pt_to_en', with_info=True,\n",
        "                               as_supervised=True)\n",
        "train_examples, val_examples = examples['train'], examples['validation']"
      ],
      "execution_count": 2,
      "outputs": [
        {
          "output_type": "stream",
          "text": [
            "\u001b[1mDownloading and preparing dataset ted_hrlr_translate/pt_to_en/1.0.0 (download: 124.94 MiB, generated: Unknown size, total: 124.94 MiB) to /root/tensorflow_datasets/ted_hrlr_translate/pt_to_en/1.0.0...\u001b[0m\n"
          ],
          "name": "stdout"
        },
        {
          "output_type": "display_data",
          "data": {
            "application/vnd.jupyter.widget-view+json": {
              "model_id": "4a2ed25019204c35b711f48e05839b14",
              "version_minor": 0,
              "version_major": 2
            },
            "text/plain": [
              "HBox(children=(FloatProgress(value=1.0, bar_style='info', description='Dl Completed...', max=1.0, style=Progre…"
            ]
          },
          "metadata": {
            "tags": []
          }
        },
        {
          "output_type": "display_data",
          "data": {
            "application/vnd.jupyter.widget-view+json": {
              "model_id": "7bc054a590ca4350abe68ff52878c27e",
              "version_minor": 0,
              "version_major": 2
            },
            "text/plain": [
              "HBox(children=(FloatProgress(value=1.0, bar_style='info', description='Dl Size...', max=1.0, style=ProgressSty…"
            ]
          },
          "metadata": {
            "tags": []
          }
        },
        {
          "output_type": "display_data",
          "data": {
            "application/vnd.jupyter.widget-view+json": {
              "model_id": "38afa2e2164a40cbbfd0161dfb7ec001",
              "version_minor": 0,
              "version_major": 2
            },
            "text/plain": [
              "HBox(children=(FloatProgress(value=1.0, bar_style='info', description='Extraction completed...', max=1.0, styl…"
            ]
          },
          "metadata": {
            "tags": []
          }
        },
        {
          "output_type": "stream",
          "text": [
            "\n",
            "\n",
            "\n",
            "\n",
            "\n",
            "\n"
          ],
          "name": "stdout"
        },
        {
          "output_type": "display_data",
          "data": {
            "application/vnd.jupyter.widget-view+json": {
              "model_id": "e44b12d1212e4aebba0ad46845aa28dc",
              "version_minor": 0,
              "version_major": 2
            },
            "text/plain": [
              "HBox(children=(FloatProgress(value=1.0, bar_style='info', max=1.0), HTML(value='')))"
            ]
          },
          "metadata": {
            "tags": []
          }
        },
        {
          "output_type": "stream",
          "text": [
            "\rShuffling and writing examples to /root/tensorflow_datasets/ted_hrlr_translate/pt_to_en/1.0.0.incompleteZYT3M2/ted_hrlr_translate-train.tfrecord\n"
          ],
          "name": "stdout"
        },
        {
          "output_type": "display_data",
          "data": {
            "application/vnd.jupyter.widget-view+json": {
              "model_id": "ca281cf12fd24b47bfdd610684ef174e",
              "version_minor": 0,
              "version_major": 2
            },
            "text/plain": [
              "HBox(children=(FloatProgress(value=0.0, max=51785.0), HTML(value='')))"
            ]
          },
          "metadata": {
            "tags": []
          }
        },
        {
          "output_type": "stream",
          "text": [
            "\r"
          ],
          "name": "stdout"
        },
        {
          "output_type": "display_data",
          "data": {
            "application/vnd.jupyter.widget-view+json": {
              "model_id": "8d640474de95404ab013e0600e2677f0",
              "version_minor": 0,
              "version_major": 2
            },
            "text/plain": [
              "HBox(children=(FloatProgress(value=1.0, bar_style='info', max=1.0), HTML(value='')))"
            ]
          },
          "metadata": {
            "tags": []
          }
        },
        {
          "output_type": "stream",
          "text": [
            "\rShuffling and writing examples to /root/tensorflow_datasets/ted_hrlr_translate/pt_to_en/1.0.0.incompleteZYT3M2/ted_hrlr_translate-validation.tfrecord\n"
          ],
          "name": "stdout"
        },
        {
          "output_type": "display_data",
          "data": {
            "application/vnd.jupyter.widget-view+json": {
              "model_id": "6ba2390212fc42398e2af8c43e91b4d0",
              "version_minor": 0,
              "version_major": 2
            },
            "text/plain": [
              "HBox(children=(FloatProgress(value=0.0, max=1193.0), HTML(value='')))"
            ]
          },
          "metadata": {
            "tags": []
          }
        },
        {
          "output_type": "stream",
          "text": [
            "\r"
          ],
          "name": "stdout"
        },
        {
          "output_type": "display_data",
          "data": {
            "application/vnd.jupyter.widget-view+json": {
              "model_id": "9e9360fa91c34748abac76d22fc70cb5",
              "version_minor": 0,
              "version_major": 2
            },
            "text/plain": [
              "HBox(children=(FloatProgress(value=1.0, bar_style='info', max=1.0), HTML(value='')))"
            ]
          },
          "metadata": {
            "tags": []
          }
        },
        {
          "output_type": "stream",
          "text": [
            "\rShuffling and writing examples to /root/tensorflow_datasets/ted_hrlr_translate/pt_to_en/1.0.0.incompleteZYT3M2/ted_hrlr_translate-test.tfrecord\n"
          ],
          "name": "stdout"
        },
        {
          "output_type": "display_data",
          "data": {
            "application/vnd.jupyter.widget-view+json": {
              "model_id": "26526c3b6c0e42f28790ad6bbd3702b0",
              "version_minor": 0,
              "version_major": 2
            },
            "text/plain": [
              "HBox(children=(FloatProgress(value=0.0, max=1803.0), HTML(value='')))"
            ]
          },
          "metadata": {
            "tags": []
          }
        },
        {
          "output_type": "stream",
          "text": [
            "\u001b[1mDataset ted_hrlr_translate downloaded and prepared to /root/tensorflow_datasets/ted_hrlr_translate/pt_to_en/1.0.0. Subsequent calls will reuse this data.\u001b[0m\n"
          ],
          "name": "stdout"
        }
      ]
    },
    {
      "cell_type": "code",
      "metadata": {
        "id": "SjaCJ4SPyB38",
        "colab_type": "code",
        "colab": {
          "base_uri": "https://localhost:8080/",
          "height": 34
        },
        "outputId": "25b4781e-6d12-4cc2-c830-4057aece8dee"
      },
      "source": [
        "train_examples"
      ],
      "execution_count": 5,
      "outputs": [
        {
          "output_type": "execute_result",
          "data": {
            "text/plain": [
              "<DatasetV1Adapter shapes: ((), ()), types: (tf.string, tf.string)>"
            ]
          },
          "metadata": {
            "tags": []
          },
          "execution_count": 5
        }
      ]
    },
    {
      "cell_type": "code",
      "metadata": {
        "id": "6uSN0xbDyepO",
        "colab_type": "code",
        "colab": {
          "base_uri": "https://localhost:8080/",
          "height": 168
        },
        "outputId": "40155cb2-3024-4739-8b7f-b3823735c6b5"
      },
      "source": [
        "assert isinstance(train_examples)"
      ],
      "execution_count": 7,
      "outputs": [
        {
          "output_type": "error",
          "ename": "TypeError",
          "evalue": "ignored",
          "traceback": [
            "\u001b[0;31m---------------------------------------------------------------------------\u001b[0m",
            "\u001b[0;31mTypeError\u001b[0m                                 Traceback (most recent call last)",
            "\u001b[0;32m<ipython-input-7-88256a8e9742>\u001b[0m in \u001b[0;36m<module>\u001b[0;34m()\u001b[0m\n\u001b[0;32m----> 1\u001b[0;31m \u001b[0;32massert\u001b[0m \u001b[0misinstance\u001b[0m\u001b[0;34m(\u001b[0m\u001b[0mtrain_examples\u001b[0m\u001b[0;34m)\u001b[0m\u001b[0;34m\u001b[0m\u001b[0;34m\u001b[0m\u001b[0m\n\u001b[0m",
            "\u001b[0;31mTypeError\u001b[0m: isinstance expected 2 arguments, got 1"
          ]
        }
      ]
    },
    {
      "cell_type": "code",
      "metadata": {
        "id": "Mzqj7Qmcg9_U",
        "colab_type": "code",
        "colab": {}
      },
      "source": [
        "tokenizer_en = tfds.features.text.SubwordTextEncoder.build_from_corpus(\n",
        "    (en.numpy() for pt, en in train_examples), target_vocab_size=2**13)\n",
        "\n",
        "tokenizer_pt = tfds.features.text.SubwordTextEncoder.build_from_corpus(\n",
        "    (pt.numpy() for pt, en in train_examples), target_vocab_size=2**13)"
      ],
      "execution_count": 4,
      "outputs": []
    },
    {
      "cell_type": "code",
      "metadata": {
        "id": "xgTZiAACg9_Y",
        "colab_type": "code",
        "colab": {
          "base_uri": "https://localhost:8080/",
          "height": 51
        },
        "outputId": "71083130-3a16-4d0c-ed5e-7c2d9632876a"
      },
      "source": [
        "sample_string = 'Transformer is awesome.'\n",
        "\n",
        "tokenized_string = tokenizer_en.encode(sample_string)\n",
        "print ('Tokenized string is {}'.format(tokenized_string))\n",
        "\n",
        "original_string = tokenizer_en.decode(tokenized_string)\n",
        "print ('The original string: {}'.format(original_string))\n",
        "\n",
        "assert original_string == sample_string"
      ],
      "execution_count": 5,
      "outputs": [
        {
          "output_type": "stream",
          "text": [
            "Tokenized string is [7915, 1248, 7946, 7194, 13, 2799, 7877]\n",
            "The original string: Transformer is awesome.\n"
          ],
          "name": "stdout"
        }
      ]
    },
    {
      "cell_type": "code",
      "metadata": {
        "id": "WQBMdQ18g9_b",
        "colab_type": "code",
        "colab": {
          "base_uri": "https://localhost:8080/",
          "height": 136
        },
        "outputId": "e0479fad-3b5d-472b-c6fc-1a967b9ab088"
      },
      "source": [
        "for ts in tokenized_string:\n",
        "    print('{} ----> {}'.format(ts, tokenizer_en.decode([ts])))"
      ],
      "execution_count": 6,
      "outputs": [
        {
          "output_type": "stream",
          "text": [
            "7915 ----> T\n",
            "1248 ----> ran\n",
            "7946 ----> s\n",
            "7194 ----> former \n",
            "13 ----> is \n",
            "2799 ----> awesome\n",
            "7877 ----> .\n"
          ],
          "name": "stdout"
        }
      ]
    },
    {
      "cell_type": "code",
      "metadata": {
        "id": "hSEqtzk3g9_d",
        "colab_type": "code",
        "colab": {}
      },
      "source": [
        "BUFFER_SIZE = 20000\n",
        "BATCH_SIZE = 64"
      ],
      "execution_count": 7,
      "outputs": []
    },
    {
      "cell_type": "code",
      "metadata": {
        "id": "bkC9TWuog9_g",
        "colab_type": "code",
        "colab": {}
      },
      "source": [
        "def encode(lang1, lang2):\n",
        "    lang1 = [tokenizer_pt.vocab_size] + tokenizer_pt.encode(\n",
        "      lang1.numpy()) + [tokenizer_pt.vocab_size+1]\n",
        "    lang2 = [tokenizer_en.vocab_size] + tokenizer_en.encode(\n",
        "      lang2.numpy()) + [tokenizer_en.vocab_size+1]\n",
        "  \n",
        "    return lang1, lang2"
      ],
      "execution_count": 8,
      "outputs": []
    },
    {
      "cell_type": "code",
      "metadata": {
        "id": "TcwocdIag9_k",
        "colab_type": "code",
        "colab": {}
      },
      "source": [
        "def tf_encode(pt, en):\n",
        "    result_pt, result_en = tf.py_function(encode, [pt, en], [tf.int64, tf.int64])\n",
        "    result_pt.set_shape([None])\n",
        "    result_en.set_shape([None])\n",
        "\n",
        "    return result_pt, result_en"
      ],
      "execution_count": 9,
      "outputs": []
    },
    {
      "cell_type": "code",
      "metadata": {
        "id": "aTbOJ-wzg9_m",
        "colab_type": "code",
        "colab": {}
      },
      "source": [
        "MAX_LENGTH = 40"
      ],
      "execution_count": 10,
      "outputs": []
    },
    {
      "cell_type": "code",
      "metadata": {
        "id": "7ETGyEUMg9_p",
        "colab_type": "code",
        "colab": {}
      },
      "source": [
        "def filter_max_length(x, y, max_length=MAX_LENGTH):\n",
        "    return tf.logical_and(tf.size(x) <= max_length,\n",
        "                        tf.size(y) <= max_length)"
      ],
      "execution_count": 11,
      "outputs": []
    },
    {
      "cell_type": "code",
      "metadata": {
        "id": "ZtsHW8n0g9_r",
        "colab_type": "code",
        "colab": {}
      },
      "source": [
        "train_dataset = train_examples.map(tf_encode)\n",
        "train_dataset = train_dataset.filter(filter_max_length)\n",
        "# cache the dataset to memory to get a speedup while reading from it.\n",
        "train_dataset = train_dataset.cache()\n",
        "train_dataset = train_dataset.shuffle(BUFFER_SIZE).padded_batch(BATCH_SIZE)\n",
        "train_dataset = train_dataset.prefetch(tf.data.experimental.AUTOTUNE)\n",
        "\n",
        "\n",
        "val_dataset = val_examples.map(tf_encode)\n",
        "val_dataset = val_dataset.filter(filter_max_length).padded_batch(BATCH_SIZE)"
      ],
      "execution_count": 12,
      "outputs": []
    },
    {
      "cell_type": "code",
      "metadata": {
        "id": "Mp_vepN-g9_v",
        "colab_type": "code",
        "colab": {
          "base_uri": "https://localhost:8080/",
          "height": 289
        },
        "outputId": "d9927ae0-01d1-4122-ef4a-a63980d57f36"
      },
      "source": [
        "pt_batch, en_batch = next(iter(val_dataset))\n",
        "pt_batch, en_batch"
      ],
      "execution_count": 13,
      "outputs": [
        {
          "output_type": "execute_result",
          "data": {
            "text/plain": [
              "(<tf.Tensor: shape=(64, 38), dtype=int64, numpy=\n",
              " array([[8214,  342, 3032, ...,    0,    0,    0],\n",
              "        [8214,   95,  198, ...,    0,    0,    0],\n",
              "        [8214, 4479, 7990, ...,    0,    0,    0],\n",
              "        ...,\n",
              "        [8214,  584,   12, ...,    0,    0,    0],\n",
              "        [8214,   59, 1548, ...,    0,    0,    0],\n",
              "        [8214,  118,   34, ...,    0,    0,    0]])>,\n",
              " <tf.Tensor: shape=(64, 40), dtype=int64, numpy=\n",
              " array([[8087,   98,   25, ...,    0,    0,    0],\n",
              "        [8087,   12,   20, ...,    0,    0,    0],\n",
              "        [8087,   12, 5453, ...,    0,    0,    0],\n",
              "        ...,\n",
              "        [8087,   18, 2059, ...,    0,    0,    0],\n",
              "        [8087,   16, 1436, ...,    0,    0,    0],\n",
              "        [8087,   15,   57, ...,    0,    0,    0]])>)"
            ]
          },
          "metadata": {
            "tags": []
          },
          "execution_count": 13
        }
      ]
    },
    {
      "cell_type": "markdown",
      "metadata": {
        "id": "A9k2qP9sg9_x",
        "colab_type": "text"
      },
      "source": [
        "## Positional encoding"
      ]
    },
    {
      "cell_type": "code",
      "metadata": {
        "id": "tZ115Ew9g9_y",
        "colab_type": "code",
        "colab": {}
      },
      "source": [
        "def get_angles(pos, i, d_model):\n",
        "    angle_rates = 1 / np.power(10000, (2 * (i//2)) / np.float32(d_model))\n",
        "    return pos * angle_rates"
      ],
      "execution_count": 14,
      "outputs": []
    },
    {
      "cell_type": "code",
      "metadata": {
        "id": "yw1IjGHdg9_0",
        "colab_type": "code",
        "colab": {}
      },
      "source": [
        "def positional_encoding(position, d_model):\n",
        "    angle_rads = get_angles(np.arange(position)[:, np.newaxis],\n",
        "                          np.arange(d_model)[np.newaxis, :],\n",
        "                          d_model)\n",
        "  \n",
        "  # apply sin to even indices in the array; 2i\n",
        "    angle_rads[:, 0::2] = np.sin(angle_rads[:, 0::2])\n",
        "  \n",
        "  # apply cos to odd indices in the array; 2i+1\n",
        "    angle_rads[:, 1::2] = np.cos(angle_rads[:, 1::2])\n",
        "    \n",
        "    pos_encoding = angle_rads[np.newaxis, ...]\n",
        "    \n",
        "    return tf.cast(pos_encoding, dtype=tf.float32)"
      ],
      "execution_count": 15,
      "outputs": []
    },
    {
      "cell_type": "code",
      "metadata": {
        "id": "ZD-BLEKdg9_4",
        "colab_type": "code",
        "colab": {
          "base_uri": "https://localhost:8080/",
          "height": 300
        },
        "outputId": "7c91921d-822a-4844-bbe7-3f38db40c767"
      },
      "source": [
        "pos_encoding = positional_encoding(50, 512)\n",
        "print (pos_encoding.shape)\n",
        "\n",
        "plt.pcolormesh(pos_encoding[0], cmap='RdBu')\n",
        "plt.xlabel('Depth')\n",
        "plt.xlim((0, 512))\n",
        "plt.ylabel('Position')\n",
        "plt.colorbar()\n",
        "plt.show()"
      ],
      "execution_count": 16,
      "outputs": [
        {
          "output_type": "stream",
          "text": [
            "(1, 50, 512)\n"
          ],
          "name": "stdout"
        },
        {
          "output_type": "display_data",
          "data": {
            "image/png": "[encoded data removed]",
            "text/plain": [
              "<Figure size 432x288 with 2 Axes>"
            ]
          },
          "metadata": {
            "tags": [],
            "needs_background": "light"
          }
        }
      ]
    },
    {
      "cell_type": "markdown",
      "metadata": {
        "id": "EjUMFFTyg9_7",
        "colab_type": "text"
      },
      "source": [
        "## Masking"
      ]
    },
    {
      "cell_type": "code",
      "metadata": {
        "id": "lr8SUxsng9_7",
        "colab_type": "code",
        "colab": {}
      },
      "source": [
        "def create_padding_mask(seq):\n",
        "    seq = tf.cast(tf.math.equal(seq, 0), tf.float32)\n",
        "  \n",
        "    # add extra dimensions to add the padding\n",
        "    # to the attention logits.\n",
        "    return seq[:, tf.newaxis, tf.newaxis, :]  # (batch_size, 1, 1, seq_len)"
      ],
      "execution_count": 17,
      "outputs": []
    },
    {
      "cell_type": "code",
      "metadata": {
        "id": "fC4bRuC1g9_-",
        "colab_type": "code",
        "colab": {
          "base_uri": "https://localhost:8080/",
          "height": 153
        },
        "outputId": "30841ec5-e226-4261-dbbc-aded9596d2e5"
      },
      "source": [
        "x = tf.constant([[7, 6, 0, 0, 1], [1, 2, 3, 0, 0], [0, 0, 0, 4, 5]])\n",
        "create_padding_mask(x)"
      ],
      "execution_count": 18,
      "outputs": [
        {
          "output_type": "execute_result",
          "data": {
            "text/plain": [
              "<tf.Tensor: shape=(3, 1, 1, 5), dtype=float32, numpy=\n",
              "array([[[[0., 0., 1., 1., 0.]]],\n",
              "\n",
              "\n",
              "       [[[0., 0., 0., 1., 1.]]],\n",
              "\n",
              "\n",
              "       [[[1., 1., 1., 0., 0.]]]], dtype=float32)>"
            ]
          },
          "metadata": {
            "tags": []
          },
          "execution_count": 18
        }
      ]
    },
    {
      "cell_type": "code",
      "metadata": {
        "id": "kxBq5_thg-AB",
        "colab_type": "code",
        "colab": {}
      },
      "source": [
        "def create_look_ahead_mask(size):\n",
        "    mask = 1 - tf.linalg.band_part(tf.ones((size, size)), -1, 0)\n",
        "    return mask  # (seq_len, seq_len)"
      ],
      "execution_count": 19,
      "outputs": []
    },
    {
      "cell_type": "code",
      "metadata": {
        "id": "mipSZTO6g-AE",
        "colab_type": "code",
        "colab": {
          "base_uri": "https://localhost:8080/",
          "height": 85
        },
        "outputId": "a03e70e0-b16e-4739-f0f5-f87fcb272645"
      },
      "source": [
        "x = tf.random.uniform((1, 3))\n",
        "temp = create_look_ahead_mask(x.shape[1])\n",
        "temp"
      ],
      "execution_count": 20,
      "outputs": [
        {
          "output_type": "execute_result",
          "data": {
            "text/plain": [
              "<tf.Tensor: shape=(3, 3), dtype=float32, numpy=\n",
              "array([[0., 1., 1.],\n",
              "       [0., 0., 1.],\n",
              "       [0., 0., 0.]], dtype=float32)>"
            ]
          },
          "metadata": {
            "tags": []
          },
          "execution_count": 20
        }
      ]
    },
    {
      "cell_type": "markdown",
      "metadata": {
        "id": "gQx7jrDig-AG",
        "colab_type": "text"
      },
      "source": [
        "## Scaled dot product attention"
      ]
    },
    {
      "cell_type": "code",
      "metadata": {
        "id": "YaiKT8Yug-AG",
        "colab_type": "code",
        "colab": {}
      },
      "source": [
        "def scaled_dot_product_attention(q, k, v, mask):\n",
        "    matmul_qk = tf.matmul(q, k, transpose_b=True)  # (..., seq_len_q, seq_len_k)\n",
        "  \n",
        "  # scale matmul_qk\n",
        "    dk = tf.cast(tf.shape(k)[-1], tf.float32)\n",
        "    scaled_attention_logits = matmul_qk / tf.math.sqrt(dk)\n",
        "\n",
        "  # add the mask to the scaled tensor.\n",
        "    if mask is not None:\n",
        "        scaled_attention_logits += (mask * -1e9)  \n",
        "\n",
        "  # softmax is normalized on the last axis (seq_len_k) so that the scores\n",
        "  # add up to 1.\n",
        "    attention_weights = tf.nn.softmax(scaled_attention_logits, axis=-1)  # (..., seq_len_q, seq_len_k)\n",
        "\n",
        "    output = tf.matmul(attention_weights, v)  # (..., seq_len_q, depth_v)\n",
        "\n",
        "    return output, attention_weights"
      ],
      "execution_count": 21,
      "outputs": []
    },
    {
      "cell_type": "code",
      "metadata": {
        "id": "nQjKQNJ5g-AJ",
        "colab_type": "code",
        "colab": {}
      },
      "source": [
        "def print_out(q, k, v):\n",
        "    temp_out, temp_attn = scaled_dot_product_attention(\n",
        "        q, k, v, None)\n",
        "    print ('Attention weights are:')\n",
        "    print (temp_attn)\n",
        "    print ('Output is:')\n",
        "    print (temp_out)"
      ],
      "execution_count": 22,
      "outputs": []
    },
    {
      "cell_type": "code",
      "metadata": {
        "id": "Aet7YBNWg-AM",
        "colab_type": "code",
        "colab": {
          "base_uri": "https://localhost:8080/",
          "height": 85
        },
        "outputId": "c1d4b85a-d00e-43f0-8484-4b39ca55d7fa"
      },
      "source": [
        "np.set_printoptions(suppress=True)\n",
        "\n",
        "temp_k = tf.constant([[10,0,0],\n",
        "                      [0,10,0],\n",
        "                      [0,0,10],\n",
        "                      [0,0,10]], dtype=tf.float32)  # (4, 3)\n",
        "\n",
        "temp_v = tf.constant([[   1,0],\n",
        "                      [  10,0],\n",
        "                      [ 100,5],\n",
        "                      [1000,6]], dtype=tf.float32)  # (4, 2)\n",
        "\n",
        "# This `query` aligns with the second `key`,\n",
        "# so the second `value` is returned.\n",
        "temp_q = tf.constant([[0, 10, 0]], dtype=tf.float32)  # (1, 3)\n",
        "print_out(temp_q, temp_k, temp_v)"
      ],
      "execution_count": 23,
      "outputs": [
        {
          "output_type": "stream",
          "text": [
            "Attention weights are:\n",
            "tf.Tensor([[0. 1. 0. 0.]], shape=(1, 4), dtype=float32)\n",
            "Output is:\n",
            "tf.Tensor([[10.  0.]], shape=(1, 2), dtype=float32)\n"
          ],
          "name": "stdout"
        }
      ]
    },
    {
      "cell_type": "code",
      "metadata": {
        "id": "zLE4_rjJg-AO",
        "colab_type": "code",
        "colab": {
          "base_uri": "https://localhost:8080/",
          "height": 85
        },
        "outputId": "41b76828-6680-4686-85f7-5bda309f5d0e"
      },
      "source": [
        "# This query aligns with a repeated key (third and fourth), \n",
        "# so all associated values get averaged.\n",
        "temp_q = tf.constant([[0, 0, 10]], dtype=tf.float32)  # (1, 3)\n",
        "print_out(temp_q, temp_k, temp_v)"
      ],
      "execution_count": 24,
      "outputs": [
        {
          "output_type": "stream",
          "text": [
            "Attention weights are:\n",
            "tf.Tensor([[0.  0.  0.5 0.5]], shape=(1, 4), dtype=float32)\n",
            "Output is:\n",
            "tf.Tensor([[550.    5.5]], shape=(1, 2), dtype=float32)\n"
          ],
          "name": "stdout"
        }
      ]
    },
    {
      "cell_type": "code",
      "metadata": {
        "id": "Cl-5v6bQg-AR",
        "colab_type": "code",
        "colab": {
          "base_uri": "https://localhost:8080/",
          "height": 85
        },
        "outputId": "a1d35dd5-73c2-48bd-9d07-31de1717515a"
      },
      "source": [
        "# This query aligns equally with the first and second key, \n",
        "# so their values get averaged.\n",
        "temp_q = tf.constant([[10, 10, 0]], dtype=tf.float32)  # (1, 3)\n",
        "print_out(temp_q, temp_k, temp_v)"
      ],
      "execution_count": 25,
      "outputs": [
        {
          "output_type": "stream",
          "text": [
            "Attention weights are:\n",
            "tf.Tensor([[0.5 0.5 0.  0. ]], shape=(1, 4), dtype=float32)\n",
            "Output is:\n",
            "tf.Tensor([[5.5 0. ]], shape=(1, 2), dtype=float32)\n"
          ],
          "name": "stdout"
        }
      ]
    },
    {
      "cell_type": "code",
      "metadata": {
        "id": "EaSfig71g-AT",
        "colab_type": "code",
        "colab": {
          "base_uri": "https://localhost:8080/",
          "height": 187
        },
        "outputId": "746fb042-9bf8-40e4-a15e-a907d2035bb1"
      },
      "source": [
        "temp_q = tf.constant([[0, 0, 10], [0, 10, 0], [10, 10, 0]], dtype=tf.float32)  # (3, 3)\n",
        "print_out(temp_q, temp_k, temp_v)"
      ],
      "execution_count": 26,
      "outputs": [
        {
          "output_type": "stream",
          "text": [
            "Attention weights are:\n",
            "tf.Tensor(\n",
            "[[0.  0.  0.5 0.5]\n",
            " [0.  1.  0.  0. ]\n",
            " [0.5 0.5 0.  0. ]], shape=(3, 4), dtype=float32)\n",
            "Output is:\n",
            "tf.Tensor(\n",
            "[[550.    5.5]\n",
            " [ 10.    0. ]\n",
            " [  5.5   0. ]], shape=(3, 2), dtype=float32)\n"
          ],
          "name": "stdout"
        }
      ]
    },
    {
      "cell_type": "markdown",
      "metadata": {
        "id": "7oToBNJVg-AW",
        "colab_type": "text"
      },
      "source": [
        "## Multi-head attention"
      ]
    },
    {
      "cell_type": "code",
      "metadata": {
        "id": "8C2MBK1jg-AW",
        "colab_type": "code",
        "colab": {}
      },
      "source": [
        "class MultiHeadAttention(tf.keras.layers.Layer):\n",
        "    def __init__(self, d_model, num_heads):\n",
        "        super(MultiHeadAttention, self).__init__()\n",
        "        self.num_heads = num_heads\n",
        "        self.d_model = d_model\n",
        "    \n",
        "        assert d_model % self.num_heads == 0\n",
        "    \n",
        "        self.depth = d_model // self.num_heads\n",
        "    \n",
        "        self.wq = tf.keras.layers.Dense(d_model)\n",
        "        self.wk = tf.keras.layers.Dense(d_model)\n",
        "        self.wv = tf.keras.layers.Dense(d_model)\n",
        "    \n",
        "        self.dense = tf.keras.layers.Dense(d_model)\n",
        "        \n",
        "    def split_heads(self, x, batch_size):\n",
        "        \"\"\"Split the last dimension into (num_heads, depth).\n",
        "        Transpose the result such that the shape is (batch_size, num_heads, seq_len, depth)\n",
        "        \"\"\"\n",
        "        x = tf.reshape(x, (batch_size, -1, self.num_heads, self.depth))\n",
        "        return tf.transpose(x, perm=[0, 2, 1, 3])\n",
        "    \n",
        "    def call(self, v, k, q, mask):\n",
        "        batch_size = tf.shape(q)[0]\n",
        "    \n",
        "        q = self.wq(q)  # (batch_size, seq_len, d_model)\n",
        "        k = self.wk(k)  # (batch_size, seq_len, d_model)\n",
        "        v = self.wv(v)  # (batch_size, seq_len, d_model)\n",
        "    \n",
        "        q = self.split_heads(q, batch_size)  # (batch_size, num_heads, seq_len_q, depth)\n",
        "        k = self.split_heads(k, batch_size)  # (batch_size, num_heads, seq_len_k, depth)\n",
        "        v = self.split_heads(v, batch_size)  # (batch_size, num_heads, seq_len_v, depth)\n",
        "\n",
        "        # scaled_attention.shape == (batch_size, num_heads, seq_len_q, depth)\n",
        "        # attention_weights.shape == (batch_size, num_heads, seq_len_q, seq_len_k)\n",
        "        scaled_attention, attention_weights = scaled_dot_product_attention(\n",
        "            q, k, v, mask)\n",
        "\n",
        "        scaled_attention = tf.transpose(scaled_attention, perm=[0, 2, 1, 3])  # (batch_size, seq_len_q, num_heads, depth)\n",
        "\n",
        "        concat_attention = tf.reshape(scaled_attention, \n",
        "                                      (batch_size, -1, self.d_model))  # (batch_size, seq_len_q, d_model)\n",
        "\n",
        "        output = self.dense(concat_attention)  # (batch_size, seq_len_q, d_model)\n",
        "\n",
        "        return output, attention_weights"
      ],
      "execution_count": 27,
      "outputs": []
    },
    {
      "cell_type": "code",
      "metadata": {
        "id": "K1w_S_YVg-Aa",
        "colab_type": "code",
        "colab": {
          "base_uri": "https://localhost:8080/",
          "height": 34
        },
        "outputId": "343a4541-4cdf-43c7-dd27-52c2243939fa"
      },
      "source": [
        "temp_mha = MultiHeadAttention(d_model=512, num_heads=8)\n",
        "y = tf.random.uniform((1, 60, 512))  # (batch_size, encoder_sequence, d_model)\n",
        "out, attn = temp_mha(y, k=y, q=y, mask=None)\n",
        "out.shape, attn.shape"
      ],
      "execution_count": 28,
      "outputs": [
        {
          "output_type": "execute_result",
          "data": {
            "text/plain": [
              "(TensorShape([1, 60, 512]), TensorShape([1, 8, 60, 60]))"
            ]
          },
          "metadata": {
            "tags": []
          },
          "execution_count": 28
        }
      ]
    },
    {
      "cell_type": "markdown",
      "metadata": {
        "id": "oA33wpNCg-Ac",
        "colab_type": "text"
      },
      "source": [
        "## Point wise feed forward network"
      ]
    },
    {
      "cell_type": "code",
      "metadata": {
        "id": "oxjP1ZS4g-Ad",
        "colab_type": "code",
        "colab": {}
      },
      "source": [
        "def point_wise_feed_forward_network(d_model, dff):\n",
        "      return tf.keras.Sequential([\n",
        "          tf.keras.layers.Dense(dff, activation='relu'),  # (batch_size, seq_len, dff)\n",
        "          tf.keras.layers.Dense(d_model)  # (batch_size, seq_len, d_model)\n",
        "      ])"
      ],
      "execution_count": 29,
      "outputs": []
    },
    {
      "cell_type": "code",
      "metadata": {
        "id": "EI5mjFGhg-Af",
        "colab_type": "code",
        "colab": {
          "base_uri": "https://localhost:8080/",
          "height": 34
        },
        "outputId": "9d714f6c-4878-40b4-9f34-58d446353cff"
      },
      "source": [
        "sample_ffn = point_wise_feed_forward_network(512, 2048)\n",
        "sample_ffn(tf.random.uniform((64, 50, 512))).shape"
      ],
      "execution_count": 30,
      "outputs": [
        {
          "output_type": "execute_result",
          "data": {
            "text/plain": [
              "TensorShape([64, 50, 512])"
            ]
          },
          "metadata": {
            "tags": []
          },
          "execution_count": 30
        }
      ]
    },
    {
      "cell_type": "markdown",
      "metadata": {
        "id": "sRl81PNDg-Ai",
        "colab_type": "text"
      },
      "source": [
        "## Encoder and Decoder"
      ]
    },
    {
      "cell_type": "markdown",
      "metadata": {
        "id": "7V6Gdci1g-Ai",
        "colab_type": "text"
      },
      "source": [
        "### Encoder layer"
      ]
    },
    {
      "cell_type": "code",
      "metadata": {
        "id": "_5zjcujLg-Aj",
        "colab_type": "code",
        "colab": {}
      },
      "source": [
        "class EncoderLayer(tf.keras.layers.Layer):\n",
        "    def __init__(self, d_model, num_heads, dff, rate=0.1):\n",
        "        super(EncoderLayer, self).__init__()\n",
        "\n",
        "        self.mha = MultiHeadAttention(d_model, num_heads)\n",
        "        self.ffn = point_wise_feed_forward_network(d_model, dff)\n",
        "\n",
        "        self.layernorm1 = tf.keras.layers.LayerNormalization(epsilon=1e-6)\n",
        "        self.layernorm2 = tf.keras.layers.LayerNormalization(epsilon=1e-6)\n",
        "    \n",
        "        self.dropout1 = tf.keras.layers.Dropout(rate)\n",
        "        self.dropout2 = tf.keras.layers.Dropout(rate)\n",
        "    \n",
        "    def call(self, x, training, mask):\n",
        "\n",
        "        attn_output, _ = self.mha(x, x, x, mask)  # (batch_size, input_seq_len, d_model)\n",
        "        attn_output = self.dropout1(attn_output, training=training)\n",
        "        out1 = self.layernorm1(x + attn_output)  # (batch_size, input_seq_len, d_model)\n",
        "    \n",
        "        ffn_output = self.ffn(out1)  # (batch_size, input_seq_len, d_model)\n",
        "        ffn_output = self.dropout2(ffn_output, training=training)\n",
        "        out2 = self.layernorm2(out1 + ffn_output)  # (batch_size, input_seq_len, d_model)\n",
        "    \n",
        "        return out2"
      ],
      "execution_count": 31,
      "outputs": []
    },
    {
      "cell_type": "code",
      "metadata": {
        "id": "E120rbg5g-Al",
        "colab_type": "code",
        "colab": {
          "base_uri": "https://localhost:8080/",
          "height": 34
        },
        "outputId": "d9758ff3-2ef9-4e88-ffb5-247cb6acc539"
      },
      "source": [
        "sample_encoder_layer = EncoderLayer(512, 8, 2048)\n",
        "\n",
        "sample_encoder_layer_output = sample_encoder_layer(\n",
        "    tf.random.uniform((64, 43, 512)), False, None)\n",
        "\n",
        "sample_encoder_layer_output.shape  # (batch_size, input_seq_len, d_model)"
      ],
      "execution_count": 32,
      "outputs": [
        {
          "output_type": "execute_result",
          "data": {
            "text/plain": [
              "TensorShape([64, 43, 512])"
            ]
          },
          "metadata": {
            "tags": []
          },
          "execution_count": 32
        }
      ]
    },
    {
      "cell_type": "markdown",
      "metadata": {
        "id": "UtRCGQcSg-Ao",
        "colab_type": "text"
      },
      "source": [
        "### Decoder layer"
      ]
    },
    {
      "cell_type": "code",
      "metadata": {
        "id": "Rd547-vRg-Ao",
        "colab_type": "code",
        "colab": {}
      },
      "source": [
        "class DecoderLayer(tf.keras.layers.Layer):\n",
        "    def __init__(self, d_model, num_heads, dff, rate=0.1):\n",
        "        super(DecoderLayer, self).__init__()\n",
        "\n",
        "        self.mha1 = MultiHeadAttention(d_model, num_heads)\n",
        "        self.mha2 = MultiHeadAttention(d_model, num_heads)\n",
        "\n",
        "        self.ffn = point_wise_feed_forward_network(d_model, dff)\n",
        " \n",
        "        self.layernorm1 = tf.keras.layers.LayerNormalization(epsilon=1e-6)\n",
        "        self.layernorm2 = tf.keras.layers.LayerNormalization(epsilon=1e-6)\n",
        "        self.layernorm3 = tf.keras.layers.LayerNormalization(epsilon=1e-6)\n",
        "    \n",
        "        self.dropout1 = tf.keras.layers.Dropout(rate)\n",
        "        self.dropout2 = tf.keras.layers.Dropout(rate)\n",
        "        self.dropout3 = tf.keras.layers.Dropout(rate)\n",
        "    \n",
        "    \n",
        "    def call(self, x, enc_output, training, look_ahead_mask, padding_mask):\n",
        "        # enc_output.shape == (batch_size, input_seq_len, d_model)\n",
        "\n",
        "        attn1, attn_weights_block1 = self.mha1(x, x, x, look_ahead_mask)  # (batch_size, target_seq_len, d_model)\n",
        "        attn1 = self.dropout1(attn1, training=training)\n",
        "        out1 = self.layernorm1(attn1 + x)\n",
        "    \n",
        "        attn2, attn_weights_block2 = self.mha2(enc_output, enc_output, out1, padding_mask)  # (batch_size, target_seq_len, d_model)\n",
        "        attn2 = self.dropout2(attn2, training=training)\n",
        "        out2 = self.layernorm2(attn2 + out1)  # (batch_size, target_seq_len, d_model)\n",
        "    \n",
        "        ffn_output = self.ffn(out2)  # (batch_size, target_seq_len, d_model)\n",
        "        ffn_output = self.dropout3(ffn_output, training=training)\n",
        "        out3 = self.layernorm3(ffn_output + out2)  # (batch_size, target_seq_len, d_model)\n",
        "    \n",
        "        return out3, attn_weights_block1, attn_weights_block2"
      ],
      "execution_count": 33,
      "outputs": []
    },
    {
      "cell_type": "code",
      "metadata": {
        "id": "A54bnI9Fg-Aq",
        "colab_type": "code",
        "colab": {
          "base_uri": "https://localhost:8080/",
          "height": 34
        },
        "outputId": "bfe71756-cd0a-4fe6-ffbc-d0aa83055b64"
      },
      "source": [
        "sample_decoder_layer = DecoderLayer(512, 8, 2048)\n",
        "\n",
        "sample_decoder_layer_output, _, _ = sample_decoder_layer(\n",
        "    tf.random.uniform((64, 50, 512)), sample_encoder_layer_output, \n",
        "    False, None, None)\n",
        "\n",
        "sample_decoder_layer_output.shape  # (batch_size, target_seq_len, d_model)"
      ],
      "execution_count": 34,
      "outputs": [
        {
          "output_type": "execute_result",
          "data": {
            "text/plain": [
              "TensorShape([64, 50, 512])"
            ]
          },
          "metadata": {
            "tags": []
          },
          "execution_count": 34
        }
      ]
    },
    {
      "cell_type": "markdown",
      "metadata": {
        "id": "fcfHCjZ6g-At",
        "colab_type": "text"
      },
      "source": [
        "### Encoder"
      ]
    },
    {
      "cell_type": "code",
      "metadata": {
        "id": "QZBIwEySg-At",
        "colab_type": "code",
        "colab": {}
      },
      "source": [
        "class Encoder(tf.keras.layers.Layer):\n",
        "    def __init__(self, num_layers, d_model, num_heads, dff, input_vocab_size,maximum_position_encoding, rate=0.1):\n",
        "        super(Encoder, self).__init__()\n",
        "\n",
        "        self.d_model = d_model\n",
        "        self.num_layers = num_layers\n",
        "    \n",
        "        self.embedding = tf.keras.layers.Embedding(input_vocab_size, d_model)\n",
        "        self.pos_encoding = positional_encoding(maximum_position_encoding, self.d_model)\n",
        "    \n",
        "    \n",
        "        self.enc_layers = [EncoderLayer(d_model, num_heads, dff, rate) for _ in range(num_layers)]\n",
        "  \n",
        "        self.dropout = tf.keras.layers.Dropout(rate)\n",
        "        \n",
        "    def call(self, x, training, mask):\n",
        "\n",
        "        seq_len = tf.shape(x)[1]\n",
        "    \n",
        "        # adding embedding and position encoding.\n",
        "        x = self.embedding(x)  # (batch_size, input_seq_len, d_model)\n",
        "        x *= tf.math.sqrt(tf.cast(self.d_model, tf.float32))\n",
        "        x += self.pos_encoding[:, :seq_len, :]\n",
        "\n",
        "        x = self.dropout(x, training=training)\n",
        "    \n",
        "        for i in range(self.num_layers):\n",
        "            x = self.enc_layers[i](x, training, mask)\n",
        "    \n",
        "        return x  # (batch_size, input_seq_len, d_model)"
      ],
      "execution_count": 35,
      "outputs": []
    },
    {
      "cell_type": "code",
      "metadata": {
        "id": "rNM_1MKsg-Aw",
        "colab_type": "code",
        "colab": {
          "base_uri": "https://localhost:8080/",
          "height": 34
        },
        "outputId": "a20f33a6-6254-4d2d-8ad0-fc8486dc6d4c"
      },
      "source": [
        "sample_encoder = Encoder(num_layers=2, d_model=512, num_heads=8, \n",
        "                         dff=2048, input_vocab_size=8500,\n",
        "                         maximum_position_encoding=10000)\n",
        "temp_input = tf.random.uniform((64, 62), dtype=tf.int64, minval=0, maxval=200)\n",
        "\n",
        "sample_encoder_output = sample_encoder(temp_input, training=False, mask=None)\n",
        "\n",
        "print (sample_encoder_output.shape)  # (batch_size, input_seq_len, d_model)"
      ],
      "execution_count": 36,
      "outputs": [
        {
          "output_type": "stream",
          "text": [
            "(64, 62, 512)\n"
          ],
          "name": "stdout"
        }
      ]
    },
    {
      "cell_type": "markdown",
      "metadata": {
        "id": "JkRChxFgg-Ay",
        "colab_type": "text"
      },
      "source": [
        "### Decoder"
      ]
    },
    {
      "cell_type": "code",
      "metadata": {
        "id": "jNQZG0QWg-Az",
        "colab_type": "code",
        "colab": {}
      },
      "source": [
        "class Decoder(tf.keras.layers.Layer):\n",
        "    def __init__(self, num_layers, d_model, num_heads, dff, target_vocab_size,\n",
        "               maximum_position_encoding, rate=0.1):\n",
        "        super(Decoder, self).__init__()\n",
        "\n",
        "        self.d_model = d_model\n",
        "        self.num_layers = num_layers\n",
        "    \n",
        "        self.embedding = tf.keras.layers.Embedding(target_vocab_size, d_model)\n",
        "        self.pos_encoding = positional_encoding(maximum_position_encoding, d_model)\n",
        "    \n",
        "        self.dec_layers = [DecoderLayer(d_model, num_heads, dff, rate) \n",
        "                       for _ in range(num_layers)]\n",
        "        self.dropout = tf.keras.layers.Dropout(rate)\n",
        "    \n",
        "    def call(self, x, enc_output, training, look_ahead_mask, padding_mask):\n",
        "\n",
        "        seq_len = tf.shape(x)[1]\n",
        "        attention_weights = {}\n",
        "    \n",
        "        x = self.embedding(x)  # (batch_size, target_seq_len, d_model)\n",
        "        x *= tf.math.sqrt(tf.cast(self.d_model, tf.float32))\n",
        "        x += self.pos_encoding[:, :seq_len, :]\n",
        "    \n",
        "        x = self.dropout(x, training=training)\n",
        "\n",
        "        for i in range(self.num_layers):\n",
        "          x, block1, block2 = self.dec_layers[i](x, enc_output, training,look_ahead_mask, padding_mask)\n",
        "      \n",
        "          attention_weights['decoder_layer{}_block1'.format(i+1)] = block1\n",
        "          attention_weights['decoder_layer{}_block2'.format(i+1)] = block2\n",
        "    \n",
        "          # x.shape == (batch_size, target_seq_len, d_model)\n",
        "        return x, attention_weights"
      ],
      "execution_count": 37,
      "outputs": []
    },
    {
      "cell_type": "code",
      "metadata": {
        "id": "f4sm5L4jg-A1",
        "colab_type": "code",
        "colab": {
          "base_uri": "https://localhost:8080/",
          "height": 34
        },
        "outputId": "c4d40e5c-5402-4894-adeb-4b4d528112f9"
      },
      "source": [
        "sample_decoder = Decoder(num_layers=2, d_model=512, num_heads=8, \n",
        "                         dff=2048, target_vocab_size=8000,\n",
        "                         maximum_position_encoding=5000)\n",
        "temp_input = tf.random.uniform((64, 26), dtype=tf.int64, minval=0, maxval=200)\n",
        "\n",
        "output, attn = sample_decoder(temp_input, \n",
        "                              enc_output=sample_encoder_output, \n",
        "                              training=False,\n",
        "                              look_ahead_mask=None, \n",
        "                              padding_mask=None)\n",
        "\n",
        "output.shape, attn['decoder_layer2_block2'].shape"
      ],
      "execution_count": 38,
      "outputs": [
        {
          "output_type": "execute_result",
          "data": {
            "text/plain": [
              "(TensorShape([64, 26, 512]), TensorShape([64, 8, 26, 62]))"
            ]
          },
          "metadata": {
            "tags": []
          },
          "execution_count": 38
        }
      ]
    },
    {
      "cell_type": "markdown",
      "metadata": {
        "id": "j-aHJYVxg-A3",
        "colab_type": "text"
      },
      "source": [
        "## Create the Transformer"
      ]
    },
    {
      "cell_type": "code",
      "metadata": {
        "id": "NoPZ-s-pg-A4",
        "colab_type": "code",
        "colab": {}
      },
      "source": [
        "class Transformer(tf.keras.Model):\n",
        "    def __init__(self, num_layers, d_model, num_heads, dff, input_vocab_size, \n",
        "                   target_vocab_size, pe_input, pe_target, rate=0.1):\n",
        "        super(Transformer, self).__init__()\n",
        "\n",
        "        self.encoder = Encoder(num_layers, d_model, num_heads, dff, \n",
        "                               input_vocab_size, pe_input, rate)\n",
        "\n",
        "        self.decoder = Decoder(num_layers, d_model, num_heads, dff, \n",
        "                               target_vocab_size, pe_target, rate)\n",
        "\n",
        "        self.final_layer = tf.keras.layers.Dense(target_vocab_size)\n",
        "    \n",
        "    def call(self, inp, tar, training, enc_padding_mask, \n",
        "               look_ahead_mask, dec_padding_mask):\n",
        "\n",
        "        enc_output = self.encoder(inp, training, enc_padding_mask)  # (batch_size, inp_seq_len, d_model)\n",
        "    \n",
        "        # dec_output.shape == (batch_size, tar_seq_len, d_model)\n",
        "        dec_output, attention_weights = self.decoder(\n",
        "            tar, enc_output, training, look_ahead_mask, dec_padding_mask)\n",
        "    \n",
        "        final_output = self.final_layer(dec_output)  # (batch_size, tar_seq_len, target_vocab_size)\n",
        "    \n",
        "        return final_output, attention_weights"
      ],
      "execution_count": 39,
      "outputs": []
    },
    {
      "cell_type": "code",
      "metadata": {
        "id": "MiFwNIHpg-A8",
        "colab_type": "code",
        "colab": {
          "base_uri": "https://localhost:8080/",
          "height": 34
        },
        "outputId": "26282c98-96df-49d6-e65d-a350d0a8c156"
      },
      "source": [
        "sample_transformer = Transformer(\n",
        "    num_layers=2, d_model=512, num_heads=8, dff=2048, \n",
        "    input_vocab_size=8500, target_vocab_size=8000, \n",
        "    pe_input=10000, pe_target=6000)\n",
        "\n",
        "temp_input = tf.random.uniform((64, 38), dtype=tf.int64, minval=0, maxval=200)\n",
        "temp_target = tf.random.uniform((64, 36), dtype=tf.int64, minval=0, maxval=200)\n",
        "\n",
        "fn_out, _ = sample_transformer(temp_input, temp_target, training=False, \n",
        "                               enc_padding_mask=None, \n",
        "                               look_ahead_mask=None,\n",
        "                               dec_padding_mask=None)\n",
        "\n",
        "fn_out.shape  # (batch_size, tar_seq_len, target_vocab_size)"
      ],
      "execution_count": 40,
      "outputs": [
        {
          "output_type": "execute_result",
          "data": {
            "text/plain": [
              "TensorShape([64, 36, 8000])"
            ]
          },
          "metadata": {
            "tags": []
          },
          "execution_count": 40
        }
      ]
    },
    {
      "cell_type": "markdown",
      "metadata": {
        "id": "DJlCZt8lg-A_",
        "colab_type": "text"
      },
      "source": [
        "## Set hyperparameters"
      ]
    },
    {
      "cell_type": "code",
      "metadata": {
        "id": "9SdGfxN8g-BA",
        "colab_type": "code",
        "colab": {}
      },
      "source": [
        "num_layers = 4\n",
        "d_model = 128\n",
        "dff = 512\n",
        "num_heads = 8\n",
        "\n",
        "input_vocab_size = tokenizer_pt.vocab_size + 2\n",
        "target_vocab_size = tokenizer_en.vocab_size + 2\n",
        "dropout_rate = 0.1"
      ],
      "execution_count": 41,
      "outputs": []
    },
    {
      "cell_type": "markdown",
      "metadata": {
        "id": "LU9Ki_Cxg-BC",
        "colab_type": "text"
      },
      "source": [
        "## Optimizer(Adam)"
      ]
    },
    {
      "cell_type": "code",
      "metadata": {
        "id": "B6dH5afKg-BD",
        "colab_type": "code",
        "colab": {}
      },
      "source": [
        "class CustomSchedule(tf.keras.optimizers.schedules.LearningRateSchedule):\n",
        "    def __init__(self, d_model, warmup_steps=4000):\n",
        "        super(CustomSchedule, self).__init__()\n",
        "    \n",
        "        self.d_model = d_model\n",
        "        self.d_model = tf.cast(self.d_model, tf.float32)\n",
        "\n",
        "        self.warmup_steps = warmup_steps\n",
        "    \n",
        "    def __call__(self, step):\n",
        "        arg1 = tf.math.rsqrt(step)\n",
        "        arg2 = step * (self.warmup_steps ** -1.5)\n",
        "    \n",
        "        return tf.math.rsqrt(self.d_model) * tf.math.minimum(arg1, arg2)"
      ],
      "execution_count": 42,
      "outputs": []
    },
    {
      "cell_type": "code",
      "metadata": {
        "id": "iwDcu6u4g-BG",
        "colab_type": "code",
        "colab": {}
      },
      "source": [
        "learning_rate = CustomSchedule(d_model)\n",
        "\n",
        "optimizer = tf.keras.optimizers.Adam(learning_rate, beta_1=0.9, beta_2=0.98, \n",
        "                                     epsilon=1e-9)"
      ],
      "execution_count": 43,
      "outputs": []
    },
    {
      "cell_type": "code",
      "metadata": {
        "id": "hDg9GnIig-BJ",
        "colab_type": "code",
        "colab": {
          "base_uri": "https://localhost:8080/",
          "height": 296
        },
        "outputId": "065974ed-1337-45e9-a3fa-05620530404f"
      },
      "source": [
        "temp_learning_rate_schedule = CustomSchedule(d_model)\n",
        "\n",
        "plt.plot(temp_learning_rate_schedule(tf.range(40000, dtype=tf.float32)))\n",
        "plt.ylabel(\"Learning Rate\")\n",
        "plt.xlabel(\"Train Step\")"
      ],
      "execution_count": 44,
      "outputs": [
        {
          "output_type": "execute_result",
          "data": {
            "text/plain": [
              "Text(0.5, 0, 'Train Step')"
            ]
          },
          "metadata": {
            "tags": []
          },
          "execution_count": 44
        },
        {
          "output_type": "display_data",
          "data": {
            "image/png": "[encoded data removed]",
            "text/plain": [
              "<Figure size 432x288 with 1 Axes>"
            ]
          },
          "metadata": {
            "tags": [],
            "needs_background": "light"
          }
        }
      ]
    },
    {
      "cell_type": "markdown",
      "metadata": {
        "id": "onYjpgOug-BL",
        "colab_type": "text"
      },
      "source": [
        "## Loss and metrics"
      ]
    },
    {
      "cell_type": "code",
      "metadata": {
        "id": "gpx2-mIhg-BM",
        "colab_type": "code",
        "colab": {}
      },
      "source": [
        "loss_object = tf.keras.losses.SparseCategoricalCrossentropy(\n",
        "    from_logits=True, reduction='none')"
      ],
      "execution_count": 45,
      "outputs": []
    },
    {
      "cell_type": "code",
      "metadata": {
        "id": "TTWEsL6Pg-BP",
        "colab_type": "code",
        "colab": {}
      },
      "source": [
        "def loss_function(real, pred):\n",
        "    mask = tf.math.logical_not(tf.math.equal(real, 0))\n",
        "    loss_ = loss_object(real, pred)\n",
        "\n",
        "    mask = tf.cast(mask, dtype=loss_.dtype)\n",
        "    loss_ *= mask\n",
        "  \n",
        "    return tf.reduce_sum(loss_)/tf.reduce_sum(mask)"
      ],
      "execution_count": 46,
      "outputs": []
    },
    {
      "cell_type": "code",
      "metadata": {
        "id": "gfN2l_-Vg-BR",
        "colab_type": "code",
        "colab": {}
      },
      "source": [
        "train_loss = tf.keras.metrics.Mean(name='train_loss')\n",
        "train_accuracy = tf.keras.metrics.SparseCategoricalAccuracy(\n",
        "    name='train_accuracy')"
      ],
      "execution_count": 47,
      "outputs": []
    },
    {
      "cell_type": "markdown",
      "metadata": {
        "id": "8Lf9XcZsg-BT",
        "colab_type": "text"
      },
      "source": [
        "## Training and checkpointing"
      ]
    },
    {
      "cell_type": "code",
      "metadata": {
        "id": "LSCDnAgzg-BU",
        "colab_type": "code",
        "colab": {}
      },
      "source": [
        "transformer = Transformer(num_layers, d_model, num_heads, dff,\n",
        "                          input_vocab_size, target_vocab_size, \n",
        "                          pe_input=input_vocab_size, \n",
        "                          pe_target=target_vocab_size,\n",
        "                          rate=dropout_rate)"
      ],
      "execution_count": 48,
      "outputs": []
    },
    {
      "cell_type": "code",
      "metadata": {
        "id": "qkKTfyx5g-BY",
        "colab_type": "code",
        "colab": {}
      },
      "source": [
        "def create_masks(inp, tar):\n",
        "    # Encoder padding mask\n",
        "    enc_padding_mask = create_padding_mask(inp)\n",
        "  \n",
        "    # Used in the 2nd attention block in the decoder.\n",
        "    # This padding mask is used to mask the encoder outputs.\n",
        "    dec_padding_mask = create_padding_mask(inp)\n",
        "  \n",
        "    # Used in the 1st attention block in the decoder.\n",
        "    # It is used to pad and mask future tokens in the input received by \n",
        "    # the decoder.\n",
        "    look_ahead_mask = create_look_ahead_mask(tf.shape(tar)[1])\n",
        "    dec_target_padding_mask = create_padding_mask(tar)\n",
        "    combined_mask = tf.maximum(dec_target_padding_mask, look_ahead_mask)\n",
        "  \n",
        "    return enc_padding_mask, combined_mask, dec_padding_mask"
      ],
      "execution_count": 49,
      "outputs": []
    },
    {
      "cell_type": "code",
      "metadata": {
        "id": "6cac5T0tg-Ba",
        "colab_type": "code",
        "colab": {}
      },
      "source": [
        "checkpoint_path = \"./checkpoints/train\"\n",
        "\n",
        "ckpt = tf.train.Checkpoint(transformer=transformer,\n",
        "                           optimizer=optimizer)\n",
        "\n",
        "ckpt_manager = tf.train.CheckpointManager(ckpt, checkpoint_path, max_to_keep=5)\n",
        "\n",
        "# if a checkpoint exists, restore the latest checkpoint.\n",
        "if ckpt_manager.latest_checkpoint:\n",
        "  ckpt.restore(ckpt_manager.latest_checkpoint)\n",
        "  print ('Latest checkpoint restored!!')"
      ],
      "execution_count": 50,
      "outputs": []
    },
    {
      "cell_type": "code",
      "metadata": {
        "id": "58P2T4wag-Be",
        "colab_type": "code",
        "colab": {}
      },
      "source": [
        "EPOCHS = 30"
      ],
      "execution_count": 61,
      "outputs": []
    },
    {
      "cell_type": "code",
      "metadata": {
        "id": "FvicuyhBg-Bj",
        "colab_type": "code",
        "colab": {}
      },
      "source": [
        "# The @tf.function trace-compiles train_step into a TF graph for faster\n",
        "# execution. The function specializes to the precise shape of the argument\n",
        "# tensors. To avoid re-tracing due to the variable sequence lengths or variable\n",
        "# batch sizes (the last batch is smaller), use input_signature to specify\n",
        "# more generic shapes.\n",
        "\n",
        "train_step_signature = [\n",
        "    tf.TensorSpec(shape=(None, None), dtype=tf.int64),\n",
        "    tf.TensorSpec(shape=(None, None), dtype=tf.int64),\n",
        "]\n",
        "\n",
        "@tf.function(input_signature=train_step_signature)\n",
        "def train_step(inp, tar):\n",
        "    tar_inp = tar[:, :-1]\n",
        "    tar_real = tar[:, 1:]\n",
        "  \n",
        "    enc_padding_mask, combined_mask, dec_padding_mask = create_masks(inp, tar_inp)\n",
        "  \n",
        "    with tf.GradientTape() as tape:\n",
        "        predictions, _ = transformer(inp, tar_inp, \n",
        "                                 True, \n",
        "                                 enc_padding_mask, \n",
        "                                 combined_mask, \n",
        "                                 dec_padding_mask)\n",
        "        loss = loss_function(tar_real, predictions)\n",
        "\n",
        "    gradients = tape.gradient(loss, transformer.trainable_variables)    \n",
        "    optimizer.apply_gradients(zip(gradients, transformer.trainable_variables))\n",
        "  \n",
        "    train_loss(loss)\n",
        "    train_accuracy(tar_real, predictions)"
      ],
      "execution_count": 52,
      "outputs": []
    },
    {
      "cell_type": "code",
      "metadata": {
        "id": "A3G76s4dg-Bn",
        "colab_type": "code",
        "colab": {
          "base_uri": "https://localhost:8080/",
          "height": 1000
        },
        "outputId": "96ae2546-a9c3-4f3b-c0f4-15525d1fa275"
      },
      "source": [
        "for epoch in range(EPOCHS):\n",
        "    start = time.time()\n",
        "  \n",
        "    train_loss.reset_states()\n",
        "    train_accuracy.reset_states()\n",
        "  \n",
        "    # inp -> portuguese, tar -> english\n",
        "    for (batch, (inp, tar)) in enumerate(train_dataset):\n",
        "        train_step(inp, tar)\n",
        "    \n",
        "        if batch % 50 == 0:\n",
        "            print ('Epoch {} Batch {} Loss {:.4f} Accuracy {:.4f}'.format(\n",
        "                epoch + 1, batch, train_loss.result(), train_accuracy.result()))\n",
        "      \n",
        "    if (epoch + 1) % 5 == 0:\n",
        "        ckpt_save_path = ckpt_manager.save()\n",
        "        print ('Saving checkpoint for epoch {} at {}'.format(epoch+1,\n",
        "                                                         ckpt_save_path))\n",
        "    \n",
        "    print ('Epoch {} Loss {:.4f} Accuracy {:.4f}'.format(epoch + 1, \n",
        "                                                train_loss.result(), \n",
        "                                                train_accuracy.result()))\n",
        "\n",
        "    print ('Time taken for 1 epoch: {} secs\\n'.format(time.time() - start))"
      ],
      "execution_count": 62,
      "outputs": [
        {
          "output_type": "stream",
          "text": [
            "Epoch 1 Batch 0 Loss 3.1551 Accuracy 0.2481\n",
            "Epoch 1 Batch 50 Loss 3.1667 Accuracy 0.2224\n",
            "Epoch 1 Batch 100 Loss 3.1634 Accuracy 0.2219\n",
            "Epoch 1 Batch 150 Loss 3.1605 Accuracy 0.2223\n",
            "Epoch 1 Batch 200 Loss 3.1691 Accuracy 0.2222\n",
            "Epoch 1 Batch 250 Loss 3.1653 Accuracy 0.2220\n",
            "Epoch 1 Batch 300 Loss 3.1531 Accuracy 0.2230\n",
            "Epoch 1 Batch 350 Loss 3.1483 Accuracy 0.2233\n",
            "Epoch 1 Batch 400 Loss 3.1400 Accuracy 0.2237\n",
            "Epoch 1 Batch 450 Loss 3.1332 Accuracy 0.2236\n",
            "Epoch 1 Batch 500 Loss 3.1271 Accuracy 0.2241\n",
            "Epoch 1 Batch 550 Loss 3.1230 Accuracy 0.2247\n",
            "Epoch 1 Batch 600 Loss 3.1188 Accuracy 0.2249\n",
            "Epoch 1 Batch 650 Loss 3.1114 Accuracy 0.2253\n",
            "Epoch 1 Batch 700 Loss 3.1056 Accuracy 0.2257\n",
            "Epoch 1 Loss 3.1052 Accuracy 0.2256\n",
            "Time taken for 1 epoch: 49.369940757751465 secs\n",
            "\n",
            "Epoch 2 Batch 0 Loss 2.9314 Accuracy 0.2508\n",
            "Epoch 2 Batch 50 Loss 2.7524 Accuracy 0.2403\n",
            "Epoch 2 Batch 100 Loss 2.7586 Accuracy 0.2422\n",
            "Epoch 2 Batch 150 Loss 2.7550 Accuracy 0.2423\n",
            "Epoch 2 Batch 200 Loss 2.7614 Accuracy 0.2422\n",
            "Epoch 2 Batch 250 Loss 2.7680 Accuracy 0.2422\n",
            "Epoch 2 Batch 300 Loss 2.7573 Accuracy 0.2424\n",
            "Epoch 2 Batch 350 Loss 2.7480 Accuracy 0.2432\n",
            "Epoch 2 Batch 400 Loss 2.7423 Accuracy 0.2438\n",
            "Epoch 2 Batch 450 Loss 2.7360 Accuracy 0.2446\n",
            "Epoch 2 Batch 500 Loss 2.7340 Accuracy 0.2449\n",
            "Epoch 2 Batch 550 Loss 2.7269 Accuracy 0.2452\n",
            "Epoch 2 Batch 600 Loss 2.7218 Accuracy 0.2459\n",
            "Epoch 2 Batch 650 Loss 2.7175 Accuracy 0.2461\n",
            "Epoch 2 Batch 700 Loss 2.7127 Accuracy 0.2465\n",
            "Epoch 2 Loss 2.7122 Accuracy 0.2465\n",
            "Time taken for 1 epoch: 48.84890389442444 secs\n",
            "\n",
            "Epoch 3 Batch 0 Loss 2.4705 Accuracy 0.2748\n",
            "Epoch 3 Batch 50 Loss 2.4030 Accuracy 0.2608\n",
            "Epoch 3 Batch 100 Loss 2.4035 Accuracy 0.2612\n",
            "Epoch 3 Batch 150 Loss 2.3980 Accuracy 0.2632\n",
            "Epoch 3 Batch 200 Loss 2.3910 Accuracy 0.2639\n",
            "Epoch 3 Batch 250 Loss 2.3966 Accuracy 0.2638\n",
            "Epoch 3 Batch 300 Loss 2.3982 Accuracy 0.2642\n",
            "Epoch 3 Batch 350 Loss 2.3931 Accuracy 0.2644\n",
            "Epoch 3 Batch 400 Loss 2.3928 Accuracy 0.2645\n",
            "Epoch 3 Batch 450 Loss 2.3931 Accuracy 0.2640\n",
            "Epoch 3 Batch 500 Loss 2.3923 Accuracy 0.2646\n",
            "Epoch 3 Batch 550 Loss 2.3905 Accuracy 0.2651\n",
            "Epoch 3 Batch 600 Loss 2.3895 Accuracy 0.2654\n",
            "Epoch 3 Batch 650 Loss 2.3871 Accuracy 0.2655\n",
            "Epoch 3 Batch 700 Loss 2.3864 Accuracy 0.2657\n",
            "Epoch 3 Loss 2.3857 Accuracy 0.2657\n",
            "Time taken for 1 epoch: 48.4107449054718 secs\n",
            "\n",
            "Epoch 4 Batch 0 Loss 2.1152 Accuracy 0.2553\n",
            "Epoch 4 Batch 50 Loss 2.1199 Accuracy 0.2799\n",
            "Epoch 4 Batch 100 Loss 2.1230 Accuracy 0.2818\n",
            "Epoch 4 Batch 150 Loss 2.1307 Accuracy 0.2813\n",
            "Epoch 4 Batch 200 Loss 2.1336 Accuracy 0.2807\n",
            "Epoch 4 Batch 250 Loss 2.1376 Accuracy 0.2799\n",
            "Epoch 4 Batch 300 Loss 2.1379 Accuracy 0.2794\n",
            "Epoch 4 Batch 350 Loss 2.1401 Accuracy 0.2788\n",
            "Epoch 4 Batch 400 Loss 2.1407 Accuracy 0.2786\n",
            "Epoch 4 Batch 450 Loss 2.1427 Accuracy 0.2787\n",
            "Epoch 4 Batch 500 Loss 2.1454 Accuracy 0.2787\n",
            "Epoch 4 Batch 550 Loss 2.1482 Accuracy 0.2786\n",
            "Epoch 4 Batch 600 Loss 2.1509 Accuracy 0.2785\n",
            "Epoch 4 Batch 650 Loss 2.1518 Accuracy 0.2787\n",
            "Epoch 4 Batch 700 Loss 2.1508 Accuracy 0.2788\n",
            "Epoch 4 Loss 2.1506 Accuracy 0.2789\n",
            "Time taken for 1 epoch: 48.475297689437866 secs\n",
            "\n",
            "Epoch 5 Batch 0 Loss 1.9312 Accuracy 0.2775\n",
            "Epoch 5 Batch 50 Loss 1.9092 Accuracy 0.2916\n",
            "Epoch 5 Batch 100 Loss 1.9091 Accuracy 0.2919\n",
            "Epoch 5 Batch 150 Loss 1.9195 Accuracy 0.2920\n",
            "Epoch 5 Batch 200 Loss 1.9264 Accuracy 0.2907\n",
            "Epoch 5 Batch 250 Loss 1.9322 Accuracy 0.2899\n",
            "Epoch 5 Batch 300 Loss 1.9394 Accuracy 0.2910\n",
            "Epoch 5 Batch 350 Loss 1.9397 Accuracy 0.2911\n",
            "Epoch 5 Batch 400 Loss 1.9473 Accuracy 0.2906\n",
            "Epoch 5 Batch 450 Loss 1.9506 Accuracy 0.2909\n",
            "Epoch 5 Batch 500 Loss 1.9573 Accuracy 0.2907\n",
            "Epoch 5 Batch 550 Loss 1.9606 Accuracy 0.2904\n",
            "Epoch 5 Batch 600 Loss 1.9634 Accuracy 0.2902\n",
            "Epoch 5 Batch 650 Loss 1.9664 Accuracy 0.2903\n",
            "Epoch 5 Batch 700 Loss 1.9696 Accuracy 0.2901\n",
            "Saving checkpoint for epoch 5 at ./checkpoints/train/ckpt-2\n",
            "Epoch 5 Loss 1.9700 Accuracy 0.2901\n",
            "Time taken for 1 epoch: 48.811954975128174 secs\n",
            "\n",
            "Epoch 6 Batch 0 Loss 1.6503 Accuracy 0.2596\n",
            "Epoch 6 Batch 50 Loss 1.7387 Accuracy 0.3052\n",
            "Epoch 6 Batch 100 Loss 1.7567 Accuracy 0.3007\n",
            "Epoch 6 Batch 150 Loss 1.7767 Accuracy 0.2996\n",
            "Epoch 6 Batch 200 Loss 1.7834 Accuracy 0.2987\n",
            "Epoch 6 Batch 250 Loss 1.7913 Accuracy 0.2995\n",
            "Epoch 6 Batch 300 Loss 1.7972 Accuracy 0.2996\n",
            "Epoch 6 Batch 350 Loss 1.8046 Accuracy 0.2997\n",
            "Epoch 6 Batch 400 Loss 1.8076 Accuracy 0.2994\n",
            "Epoch 6 Batch 450 Loss 1.8087 Accuracy 0.2996\n",
            "Epoch 6 Batch 500 Loss 1.8100 Accuracy 0.2998\n",
            "Epoch 6 Batch 550 Loss 1.8164 Accuracy 0.2995\n",
            "Epoch 6 Batch 600 Loss 1.8191 Accuracy 0.2990\n",
            "Epoch 6 Batch 650 Loss 1.8247 Accuracy 0.2989\n",
            "Epoch 6 Batch 700 Loss 1.8285 Accuracy 0.2986\n",
            "Epoch 6 Loss 1.8284 Accuracy 0.2986\n",
            "Time taken for 1 epoch: 48.57696890830994 secs\n",
            "\n",
            "Epoch 7 Batch 0 Loss 1.5905 Accuracy 0.2920\n",
            "Epoch 7 Batch 50 Loss 1.6469 Accuracy 0.3066\n",
            "Epoch 7 Batch 100 Loss 1.6526 Accuracy 0.3098\n",
            "Epoch 7 Batch 150 Loss 1.6536 Accuracy 0.3092\n",
            "Epoch 7 Batch 200 Loss 1.6593 Accuracy 0.3084\n",
            "Epoch 7 Batch 250 Loss 1.6682 Accuracy 0.3075\n",
            "Epoch 7 Batch 300 Loss 1.6751 Accuracy 0.3070\n",
            "Epoch 7 Batch 350 Loss 1.6755 Accuracy 0.3067\n",
            "Epoch 7 Batch 400 Loss 1.6781 Accuracy 0.3074\n",
            "Epoch 7 Batch 450 Loss 1.6847 Accuracy 0.3074\n",
            "Epoch 7 Batch 500 Loss 1.6897 Accuracy 0.3070\n",
            "Epoch 7 Batch 550 Loss 1.6955 Accuracy 0.3066\n",
            "Epoch 7 Batch 600 Loss 1.6998 Accuracy 0.3065\n",
            "Epoch 7 Batch 650 Loss 1.7056 Accuracy 0.3064\n",
            "Epoch 7 Batch 700 Loss 1.7101 Accuracy 0.3062\n",
            "Epoch 7 Loss 1.7097 Accuracy 0.3062\n",
            "Time taken for 1 epoch: 48.88575506210327 secs\n",
            "\n",
            "Epoch 8 Batch 0 Loss 1.3252 Accuracy 0.3333\n",
            "Epoch 8 Batch 50 Loss 1.5262 Accuracy 0.3166\n",
            "Epoch 8 Batch 100 Loss 1.5301 Accuracy 0.3163\n",
            "Epoch 8 Batch 150 Loss 1.5381 Accuracy 0.3166\n",
            "Epoch 8 Batch 200 Loss 1.5444 Accuracy 0.3158\n",
            "Epoch 8 Batch 250 Loss 1.5494 Accuracy 0.3157\n",
            "Epoch 8 Batch 300 Loss 1.5604 Accuracy 0.3149\n",
            "Epoch 8 Batch 350 Loss 1.5680 Accuracy 0.3144\n",
            "Epoch 8 Batch 400 Loss 1.5729 Accuracy 0.3148\n",
            "Epoch 8 Batch 450 Loss 1.5808 Accuracy 0.3143\n",
            "Epoch 8 Batch 500 Loss 1.5879 Accuracy 0.3143\n",
            "Epoch 8 Batch 550 Loss 1.5935 Accuracy 0.3138\n",
            "Epoch 8 Batch 600 Loss 1.6005 Accuracy 0.3135\n",
            "Epoch 8 Batch 650 Loss 1.6050 Accuracy 0.3133\n",
            "Epoch 8 Batch 700 Loss 1.6099 Accuracy 0.3129\n",
            "Epoch 8 Loss 1.6100 Accuracy 0.3129\n",
            "Time taken for 1 epoch: 48.06555891036987 secs\n",
            "\n",
            "Epoch 9 Batch 0 Loss 1.2956 Accuracy 0.3268\n",
            "Epoch 9 Batch 50 Loss 1.4422 Accuracy 0.3170\n",
            "Epoch 9 Batch 100 Loss 1.4563 Accuracy 0.3181\n",
            "Epoch 9 Batch 150 Loss 1.4608 Accuracy 0.3190\n",
            "Epoch 9 Batch 200 Loss 1.4689 Accuracy 0.3195\n",
            "Epoch 9 Batch 250 Loss 1.4740 Accuracy 0.3193\n",
            "Epoch 9 Batch 300 Loss 1.4826 Accuracy 0.3199\n",
            "Epoch 9 Batch 350 Loss 1.4886 Accuracy 0.3199\n",
            "Epoch 9 Batch 400 Loss 1.4958 Accuracy 0.3189\n",
            "Epoch 9 Batch 450 Loss 1.4990 Accuracy 0.3194\n",
            "Epoch 9 Batch 500 Loss 1.5062 Accuracy 0.3195\n",
            "Epoch 9 Batch 550 Loss 1.5085 Accuracy 0.3192\n",
            "Epoch 9 Batch 600 Loss 1.5148 Accuracy 0.3189\n",
            "Epoch 9 Batch 650 Loss 1.5195 Accuracy 0.3188\n",
            "Epoch 9 Batch 700 Loss 1.5245 Accuracy 0.3182\n",
            "Epoch 9 Loss 1.5249 Accuracy 0.3182\n",
            "Time taken for 1 epoch: 48.246530294418335 secs\n",
            "\n",
            "Epoch 10 Batch 0 Loss 1.3734 Accuracy 0.3555\n",
            "Epoch 10 Batch 50 Loss 1.3620 Accuracy 0.3293\n",
            "Epoch 10 Batch 100 Loss 1.3627 Accuracy 0.3290\n",
            "Epoch 10 Batch 150 Loss 1.3738 Accuracy 0.3271\n",
            "Epoch 10 Batch 200 Loss 1.3931 Accuracy 0.3249\n",
            "Epoch 10 Batch 250 Loss 1.3981 Accuracy 0.3255\n",
            "Epoch 10 Batch 300 Loss 1.4050 Accuracy 0.3255\n",
            "Epoch 10 Batch 350 Loss 1.4117 Accuracy 0.3255\n",
            "Epoch 10 Batch 400 Loss 1.4191 Accuracy 0.3253\n",
            "Epoch 10 Batch 450 Loss 1.4235 Accuracy 0.3256\n",
            "Epoch 10 Batch 500 Loss 1.4275 Accuracy 0.3255\n",
            "Epoch 10 Batch 550 Loss 1.4340 Accuracy 0.3252\n",
            "Epoch 10 Batch 600 Loss 1.4400 Accuracy 0.3249\n",
            "Epoch 10 Batch 650 Loss 1.4444 Accuracy 0.3241\n",
            "Epoch 10 Batch 700 Loss 1.4512 Accuracy 0.3238\n",
            "Saving checkpoint for epoch 10 at ./checkpoints/train/ckpt-3\n",
            "Epoch 10 Loss 1.4511 Accuracy 0.3238\n",
            "Time taken for 1 epoch: 48.106621742248535 secs\n",
            "\n",
            "Epoch 11 Batch 0 Loss 1.3435 Accuracy 0.3224\n",
            "Epoch 11 Batch 50 Loss 1.2894 Accuracy 0.3330\n",
            "Epoch 11 Batch 100 Loss 1.3050 Accuracy 0.3339\n",
            "Epoch 11 Batch 150 Loss 1.3187 Accuracy 0.3343\n",
            "Epoch 11 Batch 200 Loss 1.3270 Accuracy 0.3331\n",
            "Epoch 11 Batch 250 Loss 1.3335 Accuracy 0.3335\n",
            "Epoch 11 Batch 300 Loss 1.3392 Accuracy 0.3327\n",
            "Epoch 11 Batch 350 Loss 1.3447 Accuracy 0.3314\n",
            "Epoch 11 Batch 400 Loss 1.3482 Accuracy 0.3320\n",
            "Epoch 11 Batch 450 Loss 1.3537 Accuracy 0.3306\n",
            "Epoch 11 Batch 500 Loss 1.3610 Accuracy 0.3301\n",
            "Epoch 11 Batch 550 Loss 1.3663 Accuracy 0.3297\n",
            "Epoch 11 Batch 600 Loss 1.3728 Accuracy 0.3291\n",
            "Epoch 11 Batch 650 Loss 1.3771 Accuracy 0.3288\n",
            "Epoch 11 Batch 700 Loss 1.3822 Accuracy 0.3284\n",
            "Epoch 11 Loss 1.3828 Accuracy 0.3284\n",
            "Time taken for 1 epoch: 48.03052115440369 secs\n",
            "\n",
            "Epoch 12 Batch 0 Loss 1.1472 Accuracy 0.3293\n",
            "Epoch 12 Batch 50 Loss 1.2424 Accuracy 0.3379\n",
            "Epoch 12 Batch 100 Loss 1.2591 Accuracy 0.3360\n",
            "Epoch 12 Batch 150 Loss 1.2666 Accuracy 0.3358\n",
            "Epoch 12 Batch 200 Loss 1.2664 Accuracy 0.3355\n",
            "Epoch 12 Batch 250 Loss 1.2749 Accuracy 0.3356\n",
            "Epoch 12 Batch 300 Loss 1.2826 Accuracy 0.3356\n",
            "Epoch 12 Batch 350 Loss 1.2860 Accuracy 0.3357\n",
            "Epoch 12 Batch 400 Loss 1.2902 Accuracy 0.3354\n",
            "Epoch 12 Batch 450 Loss 1.2960 Accuracy 0.3354\n",
            "Epoch 12 Batch 500 Loss 1.3010 Accuracy 0.3350\n",
            "Epoch 12 Batch 550 Loss 1.3072 Accuracy 0.3345\n",
            "Epoch 12 Batch 600 Loss 1.3122 Accuracy 0.3337\n",
            "Epoch 12 Batch 650 Loss 1.3172 Accuracy 0.3331\n",
            "Epoch 12 Batch 700 Loss 1.3234 Accuracy 0.3328\n",
            "Epoch 12 Loss 1.3238 Accuracy 0.3328\n",
            "Time taken for 1 epoch: 48.5420196056366 secs\n",
            "\n",
            "Epoch 13 Batch 0 Loss 1.1050 Accuracy 0.2993\n",
            "Epoch 13 Batch 50 Loss 1.1670 Accuracy 0.3416\n",
            "Epoch 13 Batch 100 Loss 1.1893 Accuracy 0.3441\n",
            "Epoch 13 Batch 150 Loss 1.1976 Accuracy 0.3442\n",
            "Epoch 13 Batch 200 Loss 1.2066 Accuracy 0.3419\n",
            "Epoch 13 Batch 250 Loss 1.2172 Accuracy 0.3401\n",
            "Epoch 13 Batch 300 Loss 1.2253 Accuracy 0.3401\n",
            "Epoch 13 Batch 350 Loss 1.2292 Accuracy 0.3396\n",
            "Epoch 13 Batch 400 Loss 1.2373 Accuracy 0.3393\n",
            "Epoch 13 Batch 450 Loss 1.2412 Accuracy 0.3387\n",
            "Epoch 13 Batch 500 Loss 1.2459 Accuracy 0.3389\n",
            "Epoch 13 Batch 550 Loss 1.2511 Accuracy 0.3383\n",
            "Epoch 13 Batch 600 Loss 1.2567 Accuracy 0.3380\n",
            "Epoch 13 Batch 650 Loss 1.2640 Accuracy 0.3375\n",
            "Epoch 13 Batch 700 Loss 1.2691 Accuracy 0.3370\n",
            "Epoch 13 Loss 1.2691 Accuracy 0.3370\n",
            "Time taken for 1 epoch: 48.29834198951721 secs\n",
            "\n",
            "Epoch 14 Batch 0 Loss 1.0717 Accuracy 0.3492\n",
            "Epoch 14 Batch 50 Loss 1.1335 Accuracy 0.3498\n",
            "Epoch 14 Batch 100 Loss 1.1326 Accuracy 0.3479\n",
            "Epoch 14 Batch 150 Loss 1.1472 Accuracy 0.3464\n",
            "Epoch 14 Batch 200 Loss 1.1568 Accuracy 0.3450\n",
            "Epoch 14 Batch 250 Loss 1.1667 Accuracy 0.3446\n",
            "Epoch 14 Batch 300 Loss 1.1715 Accuracy 0.3435\n",
            "Epoch 14 Batch 350 Loss 1.1766 Accuracy 0.3429\n",
            "Epoch 14 Batch 400 Loss 1.1829 Accuracy 0.3425\n",
            "Epoch 14 Batch 450 Loss 1.1897 Accuracy 0.3412\n",
            "Epoch 14 Batch 500 Loss 1.1945 Accuracy 0.3414\n",
            "Epoch 14 Batch 550 Loss 1.1998 Accuracy 0.3407\n",
            "Epoch 14 Batch 600 Loss 1.2072 Accuracy 0.3402\n",
            "Epoch 14 Batch 650 Loss 1.2149 Accuracy 0.3398\n",
            "Epoch 14 Batch 700 Loss 1.2196 Accuracy 0.3396\n",
            "Epoch 14 Loss 1.2199 Accuracy 0.3396\n",
            "Time taken for 1 epoch: 48.928152561187744 secs\n",
            "\n",
            "Epoch 15 Batch 0 Loss 1.1858 Accuracy 0.3317\n",
            "Epoch 15 Batch 50 Loss 1.0865 Accuracy 0.3481\n",
            "Epoch 15 Batch 100 Loss 1.1034 Accuracy 0.3459\n",
            "Epoch 15 Batch 150 Loss 1.1122 Accuracy 0.3459\n",
            "Epoch 15 Batch 200 Loss 1.1239 Accuracy 0.3464\n",
            "Epoch 15 Batch 250 Loss 1.1296 Accuracy 0.3463\n",
            "Epoch 15 Batch 300 Loss 1.1344 Accuracy 0.3453\n",
            "Epoch 15 Batch 350 Loss 1.1403 Accuracy 0.3439\n",
            "Epoch 15 Batch 400 Loss 1.1449 Accuracy 0.3446\n",
            "Epoch 15 Batch 450 Loss 1.1494 Accuracy 0.3445\n",
            "Epoch 15 Batch 500 Loss 1.1550 Accuracy 0.3442\n",
            "Epoch 15 Batch 550 Loss 1.1615 Accuracy 0.3437\n",
            "Epoch 15 Batch 600 Loss 1.1671 Accuracy 0.3433\n",
            "Epoch 15 Batch 650 Loss 1.1708 Accuracy 0.3432\n",
            "Epoch 15 Batch 700 Loss 1.1774 Accuracy 0.3430\n",
            "Saving checkpoint for epoch 15 at ./checkpoints/train/ckpt-4\n",
            "Epoch 15 Loss 1.1774 Accuracy 0.3430\n",
            "Time taken for 1 epoch: 48.66800284385681 secs\n",
            "\n",
            "Epoch 16 Batch 0 Loss 1.0716 Accuracy 0.3554\n",
            "Epoch 16 Batch 50 Loss 1.0552 Accuracy 0.3583\n",
            "Epoch 16 Batch 100 Loss 1.0666 Accuracy 0.3558\n",
            "Epoch 16 Batch 150 Loss 1.0717 Accuracy 0.3541\n",
            "Epoch 16 Batch 200 Loss 1.0772 Accuracy 0.3521\n",
            "Epoch 16 Batch 250 Loss 1.0836 Accuracy 0.3519\n",
            "Epoch 16 Batch 300 Loss 1.0867 Accuracy 0.3509\n",
            "Epoch 16 Batch 350 Loss 1.0909 Accuracy 0.3503\n",
            "Epoch 16 Batch 400 Loss 1.0979 Accuracy 0.3497\n",
            "Epoch 16 Batch 450 Loss 1.1045 Accuracy 0.3493\n",
            "Epoch 16 Batch 500 Loss 1.1097 Accuracy 0.3485\n",
            "Epoch 16 Batch 550 Loss 1.1160 Accuracy 0.3478\n",
            "Epoch 16 Batch 600 Loss 1.1232 Accuracy 0.3475\n",
            "Epoch 16 Batch 650 Loss 1.1312 Accuracy 0.3470\n",
            "Epoch 16 Batch 700 Loss 1.1383 Accuracy 0.3466\n",
            "Epoch 16 Loss 1.1385 Accuracy 0.3467\n",
            "Time taken for 1 epoch: 48.53817129135132 secs\n",
            "\n",
            "Epoch 17 Batch 0 Loss 1.0523 Accuracy 0.3417\n",
            "Epoch 17 Batch 50 Loss 1.0149 Accuracy 0.3597\n",
            "Epoch 17 Batch 100 Loss 1.0231 Accuracy 0.3598\n",
            "Epoch 17 Batch 150 Loss 1.0321 Accuracy 0.3576\n",
            "Epoch 17 Batch 200 Loss 1.0409 Accuracy 0.3575\n",
            "Epoch 17 Batch 250 Loss 1.0481 Accuracy 0.3557\n",
            "Epoch 17 Batch 300 Loss 1.0560 Accuracy 0.3552\n",
            "Epoch 17 Batch 350 Loss 1.0623 Accuracy 0.3547\n",
            "Epoch 17 Batch 400 Loss 1.0682 Accuracy 0.3538\n",
            "Epoch 17 Batch 450 Loss 1.0714 Accuracy 0.3525\n",
            "Epoch 17 Batch 500 Loss 1.0750 Accuracy 0.3517\n",
            "Epoch 17 Batch 550 Loss 1.0797 Accuracy 0.3510\n",
            "Epoch 17 Batch 600 Loss 1.0860 Accuracy 0.3501\n",
            "Epoch 17 Batch 650 Loss 1.0927 Accuracy 0.3500\n",
            "Epoch 17 Batch 700 Loss 1.0977 Accuracy 0.3498\n",
            "Epoch 17 Loss 1.0982 Accuracy 0.3498\n",
            "Time taken for 1 epoch: 48.26595187187195 secs\n",
            "\n",
            "Epoch 18 Batch 0 Loss 1.0159 Accuracy 0.3705\n",
            "Epoch 18 Batch 50 Loss 0.9968 Accuracy 0.3611\n",
            "Epoch 18 Batch 100 Loss 0.9897 Accuracy 0.3583\n",
            "Epoch 18 Batch 150 Loss 1.0009 Accuracy 0.3583\n",
            "Epoch 18 Batch 200 Loss 1.0097 Accuracy 0.3582\n",
            "Epoch 18 Batch 250 Loss 1.0147 Accuracy 0.3575\n",
            "Epoch 18 Batch 300 Loss 1.0220 Accuracy 0.3565\n",
            "Epoch 18 Batch 350 Loss 1.0272 Accuracy 0.3564\n",
            "Epoch 18 Batch 400 Loss 1.0337 Accuracy 0.3555\n",
            "Epoch 18 Batch 450 Loss 1.0389 Accuracy 0.3553\n",
            "Epoch 18 Batch 500 Loss 1.0452 Accuracy 0.3555\n",
            "Epoch 18 Batch 550 Loss 1.0508 Accuracy 0.3548\n",
            "Epoch 18 Batch 600 Loss 1.0569 Accuracy 0.3541\n",
            "Epoch 18 Batch 650 Loss 1.0591 Accuracy 0.3540\n",
            "Epoch 18 Batch 700 Loss 1.0636 Accuracy 0.3532\n",
            "Epoch 18 Loss 1.0641 Accuracy 0.3532\n",
            "Time taken for 1 epoch: 48.38998293876648 secs\n",
            "\n",
            "Epoch 19 Batch 0 Loss 0.8971 Accuracy 0.3209\n",
            "Epoch 19 Batch 50 Loss 0.9626 Accuracy 0.3555\n",
            "Epoch 19 Batch 100 Loss 0.9690 Accuracy 0.3591\n",
            "Epoch 19 Batch 150 Loss 0.9772 Accuracy 0.3574\n",
            "Epoch 19 Batch 200 Loss 0.9826 Accuracy 0.3563\n",
            "Epoch 19 Batch 250 Loss 0.9862 Accuracy 0.3567\n",
            "Epoch 19 Batch 300 Loss 0.9922 Accuracy 0.3574\n",
            "Epoch 19 Batch 350 Loss 0.9969 Accuracy 0.3577\n",
            "Epoch 19 Batch 400 Loss 1.0014 Accuracy 0.3575\n",
            "Epoch 19 Batch 450 Loss 1.0089 Accuracy 0.3574\n",
            "Epoch 19 Batch 500 Loss 1.0120 Accuracy 0.3570\n",
            "Epoch 19 Batch 550 Loss 1.0166 Accuracy 0.3569\n",
            "Epoch 19 Batch 600 Loss 1.0211 Accuracy 0.3563\n",
            "Epoch 19 Batch 650 Loss 1.0261 Accuracy 0.3562\n",
            "Epoch 19 Batch 700 Loss 1.0329 Accuracy 0.3554\n",
            "Epoch 19 Loss 1.0332 Accuracy 0.3554\n",
            "Time taken for 1 epoch: 48.327707290649414 secs\n",
            "\n",
            "Epoch 20 Batch 0 Loss 0.9589 Accuracy 0.3660\n",
            "Epoch 20 Batch 50 Loss 0.9292 Accuracy 0.3672\n",
            "Epoch 20 Batch 100 Loss 0.9284 Accuracy 0.3624\n",
            "Epoch 20 Batch 150 Loss 0.9393 Accuracy 0.3623\n",
            "Epoch 20 Batch 200 Loss 0.9503 Accuracy 0.3613\n",
            "Epoch 20 Batch 250 Loss 0.9561 Accuracy 0.3604\n",
            "Epoch 20 Batch 300 Loss 0.9612 Accuracy 0.3600\n",
            "Epoch 20 Batch 350 Loss 0.9647 Accuracy 0.3595\n",
            "Epoch 20 Batch 400 Loss 0.9713 Accuracy 0.3591\n",
            "Epoch 20 Batch 450 Loss 0.9754 Accuracy 0.3589\n",
            "Epoch 20 Batch 500 Loss 0.9820 Accuracy 0.3582\n",
            "Epoch 20 Batch 550 Loss 0.9876 Accuracy 0.3582\n",
            "Epoch 20 Batch 600 Loss 0.9928 Accuracy 0.3579\n",
            "Epoch 20 Batch 650 Loss 0.9987 Accuracy 0.3574\n",
            "Epoch 20 Batch 700 Loss 1.0043 Accuracy 0.3573\n",
            "Saving checkpoint for epoch 20 at ./checkpoints/train/ckpt-5\n",
            "Epoch 20 Loss 1.0043 Accuracy 0.3573\n",
            "Time taken for 1 epoch: 48.34796500205994 secs\n",
            "\n",
            "Epoch 21 Batch 0 Loss 0.7796 Accuracy 0.3746\n",
            "Epoch 21 Batch 50 Loss 0.8910 Accuracy 0.3681\n",
            "Epoch 21 Batch 100 Loss 0.8990 Accuracy 0.3652\n",
            "Epoch 21 Batch 150 Loss 0.9077 Accuracy 0.3646\n",
            "Epoch 21 Batch 200 Loss 0.9177 Accuracy 0.3639\n",
            "Epoch 21 Batch 250 Loss 0.9247 Accuracy 0.3640\n",
            "Epoch 21 Batch 300 Loss 0.9284 Accuracy 0.3642\n",
            "Epoch 21 Batch 350 Loss 0.9344 Accuracy 0.3634\n",
            "Epoch 21 Batch 400 Loss 0.9397 Accuracy 0.3630\n",
            "Epoch 21 Batch 450 Loss 0.9453 Accuracy 0.3624\n",
            "Epoch 21 Batch 500 Loss 0.9521 Accuracy 0.3616\n",
            "Epoch 21 Batch 550 Loss 0.9584 Accuracy 0.3608\n",
            "Epoch 21 Batch 600 Loss 0.9636 Accuracy 0.3603\n",
            "Epoch 21 Batch 650 Loss 0.9684 Accuracy 0.3599\n",
            "Epoch 21 Batch 700 Loss 0.9746 Accuracy 0.3595\n",
            "Epoch 21 Loss 0.9750 Accuracy 0.3594\n",
            "Time taken for 1 epoch: 48.488203287124634 secs\n",
            "\n",
            "Epoch 22 Batch 0 Loss 0.9247 Accuracy 0.3828\n",
            "Epoch 22 Batch 50 Loss 0.8576 Accuracy 0.3696\n",
            "Epoch 22 Batch 100 Loss 0.8749 Accuracy 0.3676\n",
            "Epoch 22 Batch 150 Loss 0.8856 Accuracy 0.3674\n",
            "Epoch 22 Batch 200 Loss 0.8927 Accuracy 0.3668\n",
            "Epoch 22 Batch 250 Loss 0.8973 Accuracy 0.3652\n",
            "Epoch 22 Batch 300 Loss 0.9037 Accuracy 0.3653\n",
            "Epoch 22 Batch 350 Loss 0.9100 Accuracy 0.3646\n",
            "Epoch 22 Batch 400 Loss 0.9150 Accuracy 0.3649\n",
            "Epoch 22 Batch 450 Loss 0.9192 Accuracy 0.3643\n",
            "Epoch 22 Batch 500 Loss 0.9257 Accuracy 0.3639\n",
            "Epoch 22 Batch 550 Loss 0.9325 Accuracy 0.3634\n",
            "Epoch 22 Batch 600 Loss 0.9373 Accuracy 0.3627\n",
            "Epoch 22 Batch 650 Loss 0.9438 Accuracy 0.3625\n",
            "Epoch 22 Batch 700 Loss 0.9494 Accuracy 0.3619\n",
            "Epoch 22 Loss 0.9495 Accuracy 0.3620\n",
            "Time taken for 1 epoch: 48.684765338897705 secs\n",
            "\n",
            "Epoch 23 Batch 0 Loss 0.8492 Accuracy 0.3778\n",
            "Epoch 23 Batch 50 Loss 0.8501 Accuracy 0.3694\n",
            "Epoch 23 Batch 100 Loss 0.8514 Accuracy 0.3685\n",
            "Epoch 23 Batch 150 Loss 0.8553 Accuracy 0.3689\n",
            "Epoch 23 Batch 200 Loss 0.8664 Accuracy 0.3682\n",
            "Epoch 23 Batch 250 Loss 0.8718 Accuracy 0.3671\n",
            "Epoch 23 Batch 300 Loss 0.8778 Accuracy 0.3674\n",
            "Epoch 23 Batch 350 Loss 0.8854 Accuracy 0.3664\n",
            "Epoch 23 Batch 400 Loss 0.8903 Accuracy 0.3659\n",
            "Epoch 23 Batch 450 Loss 0.8964 Accuracy 0.3662\n",
            "Epoch 23 Batch 500 Loss 0.9033 Accuracy 0.3652\n",
            "Epoch 23 Batch 550 Loss 0.9094 Accuracy 0.3656\n",
            "Epoch 23 Batch 600 Loss 0.9147 Accuracy 0.3649\n",
            "Epoch 23 Batch 650 Loss 0.9207 Accuracy 0.3643\n",
            "Epoch 23 Batch 700 Loss 0.9267 Accuracy 0.3634\n",
            "Epoch 23 Loss 0.9267 Accuracy 0.3634\n",
            "Time taken for 1 epoch: 47.98686718940735 secs\n",
            "\n",
            "Epoch 24 Batch 0 Loss 0.7545 Accuracy 0.3433\n",
            "Epoch 24 Batch 50 Loss 0.8254 Accuracy 0.3766\n",
            "Epoch 24 Batch 100 Loss 0.8332 Accuracy 0.3723\n",
            "Epoch 24 Batch 150 Loss 0.8412 Accuracy 0.3699\n",
            "Epoch 24 Batch 200 Loss 0.8462 Accuracy 0.3707\n",
            "Epoch 24 Batch 250 Loss 0.8496 Accuracy 0.3694\n",
            "Epoch 24 Batch 300 Loss 0.8567 Accuracy 0.3687\n",
            "Epoch 24 Batch 350 Loss 0.8624 Accuracy 0.3681\n",
            "Epoch 24 Batch 400 Loss 0.8689 Accuracy 0.3680\n",
            "Epoch 24 Batch 450 Loss 0.8756 Accuracy 0.3672\n",
            "Epoch 24 Batch 500 Loss 0.8800 Accuracy 0.3671\n",
            "Epoch 24 Batch 550 Loss 0.8859 Accuracy 0.3675\n",
            "Epoch 24 Batch 600 Loss 0.8916 Accuracy 0.3671\n",
            "Epoch 24 Batch 650 Loss 0.8975 Accuracy 0.3665\n",
            "Epoch 24 Batch 700 Loss 0.9030 Accuracy 0.3664\n",
            "Epoch 24 Loss 0.9034 Accuracy 0.3664\n",
            "Time taken for 1 epoch: 48.283610582351685 secs\n",
            "\n",
            "Epoch 25 Batch 0 Loss 0.7720 Accuracy 0.3779\n",
            "Epoch 25 Batch 50 Loss 0.8184 Accuracy 0.3752\n",
            "Epoch 25 Batch 100 Loss 0.8198 Accuracy 0.3737\n",
            "Epoch 25 Batch 150 Loss 0.8285 Accuracy 0.3754\n",
            "Epoch 25 Batch 200 Loss 0.8340 Accuracy 0.3735\n",
            "Epoch 25 Batch 250 Loss 0.8376 Accuracy 0.3733\n",
            "Epoch 25 Batch 300 Loss 0.8436 Accuracy 0.3738\n",
            "Epoch 25 Batch 350 Loss 0.8494 Accuracy 0.3728\n",
            "Epoch 25 Batch 400 Loss 0.8519 Accuracy 0.3722\n",
            "Epoch 25 Batch 450 Loss 0.8575 Accuracy 0.3718\n",
            "Epoch 25 Batch 500 Loss 0.8633 Accuracy 0.3708\n",
            "Epoch 25 Batch 550 Loss 0.8694 Accuracy 0.3704\n",
            "Epoch 25 Batch 600 Loss 0.8741 Accuracy 0.3695\n",
            "Epoch 25 Batch 650 Loss 0.8787 Accuracy 0.3689\n",
            "Epoch 25 Batch 700 Loss 0.8837 Accuracy 0.3684\n",
            "Saving checkpoint for epoch 25 at ./checkpoints/train/ckpt-6\n",
            "Epoch 25 Loss 0.8839 Accuracy 0.3684\n",
            "Time taken for 1 epoch: 48.27549910545349 secs\n",
            "\n",
            "Epoch 26 Batch 0 Loss 0.8255 Accuracy 0.3520\n",
            "Epoch 26 Batch 50 Loss 0.7891 Accuracy 0.3758\n",
            "Epoch 26 Batch 100 Loss 0.7906 Accuracy 0.3744\n",
            "Epoch 26 Batch 150 Loss 0.8011 Accuracy 0.3735\n",
            "Epoch 26 Batch 200 Loss 0.8071 Accuracy 0.3730\n",
            "Epoch 26 Batch 250 Loss 0.8133 Accuracy 0.3737\n",
            "Epoch 26 Batch 300 Loss 0.8218 Accuracy 0.3735\n",
            "Epoch 26 Batch 350 Loss 0.8256 Accuracy 0.3732\n",
            "Epoch 26 Batch 400 Loss 0.8311 Accuracy 0.3726\n",
            "Epoch 26 Batch 450 Loss 0.8366 Accuracy 0.3724\n",
            "Epoch 26 Batch 500 Loss 0.8415 Accuracy 0.3715\n",
            "Epoch 26 Batch 550 Loss 0.8456 Accuracy 0.3706\n",
            "Epoch 26 Batch 600 Loss 0.8515 Accuracy 0.3703\n",
            "Epoch 26 Batch 650 Loss 0.8557 Accuracy 0.3697\n",
            "Epoch 26 Batch 700 Loss 0.8610 Accuracy 0.3692\n",
            "Epoch 26 Loss 0.8616 Accuracy 0.3693\n",
            "Time taken for 1 epoch: 48.57341551780701 secs\n",
            "\n",
            "Epoch 27 Batch 0 Loss 0.7587 Accuracy 0.3564\n",
            "Epoch 27 Batch 50 Loss 0.7623 Accuracy 0.3780\n",
            "Epoch 27 Batch 100 Loss 0.7740 Accuracy 0.3769\n",
            "Epoch 27 Batch 150 Loss 0.7792 Accuracy 0.3772\n",
            "Epoch 27 Batch 200 Loss 0.7839 Accuracy 0.3755\n",
            "Epoch 27 Batch 250 Loss 0.7929 Accuracy 0.3757\n",
            "Epoch 27 Batch 300 Loss 0.7981 Accuracy 0.3758\n",
            "Epoch 27 Batch 350 Loss 0.8045 Accuracy 0.3750\n",
            "Epoch 27 Batch 400 Loss 0.8101 Accuracy 0.3748\n",
            "Epoch 27 Batch 450 Loss 0.8155 Accuracy 0.3744\n",
            "Epoch 27 Batch 500 Loss 0.8207 Accuracy 0.3734\n",
            "Epoch 27 Batch 550 Loss 0.8266 Accuracy 0.3727\n",
            "Epoch 27 Batch 600 Loss 0.8319 Accuracy 0.3726\n",
            "Epoch 27 Batch 650 Loss 0.8375 Accuracy 0.3721\n",
            "Epoch 27 Batch 700 Loss 0.8423 Accuracy 0.3714\n",
            "Epoch 27 Loss 0.8425 Accuracy 0.3714\n",
            "Time taken for 1 epoch: 48.07760405540466 secs\n",
            "\n",
            "Epoch 28 Batch 0 Loss 0.7393 Accuracy 0.4259\n",
            "Epoch 28 Batch 50 Loss 0.7518 Accuracy 0.3794\n",
            "Epoch 28 Batch 100 Loss 0.7540 Accuracy 0.3777\n",
            "Epoch 28 Batch 150 Loss 0.7638 Accuracy 0.3777\n",
            "Epoch 28 Batch 200 Loss 0.7705 Accuracy 0.3779\n",
            "Epoch 28 Batch 250 Loss 0.7778 Accuracy 0.3774\n",
            "Epoch 28 Batch 300 Loss 0.7831 Accuracy 0.3773\n",
            "Epoch 28 Batch 350 Loss 0.7883 Accuracy 0.3768\n",
            "Epoch 28 Batch 400 Loss 0.7931 Accuracy 0.3760\n",
            "Epoch 28 Batch 450 Loss 0.7991 Accuracy 0.3754\n",
            "Epoch 28 Batch 500 Loss 0.8027 Accuracy 0.3746\n",
            "Epoch 28 Batch 550 Loss 0.8089 Accuracy 0.3747\n",
            "Epoch 28 Batch 600 Loss 0.8132 Accuracy 0.3740\n",
            "Epoch 28 Batch 650 Loss 0.8184 Accuracy 0.3733\n",
            "Epoch 28 Batch 700 Loss 0.8229 Accuracy 0.3731\n",
            "Epoch 28 Loss 0.8230 Accuracy 0.3731\n",
            "Time taken for 1 epoch: 48.31689262390137 secs\n",
            "\n",
            "Epoch 29 Batch 0 Loss 0.7027 Accuracy 0.3818\n",
            "Epoch 29 Batch 50 Loss 0.7285 Accuracy 0.3797\n",
            "Epoch 29 Batch 100 Loss 0.7382 Accuracy 0.3826\n",
            "Epoch 29 Batch 150 Loss 0.7470 Accuracy 0.3816\n",
            "Epoch 29 Batch 200 Loss 0.7545 Accuracy 0.3803\n",
            "Epoch 29 Batch 250 Loss 0.7623 Accuracy 0.3793\n",
            "Epoch 29 Batch 300 Loss 0.7664 Accuracy 0.3784\n",
            "Epoch 29 Batch 350 Loss 0.7700 Accuracy 0.3774\n",
            "Epoch 29 Batch 400 Loss 0.7768 Accuracy 0.3769\n",
            "Epoch 29 Batch 450 Loss 0.7794 Accuracy 0.3768\n",
            "Epoch 29 Batch 500 Loss 0.7843 Accuracy 0.3763\n",
            "Epoch 29 Batch 550 Loss 0.7905 Accuracy 0.3760\n",
            "Epoch 29 Batch 600 Loss 0.7947 Accuracy 0.3753\n",
            "Epoch 29 Batch 650 Loss 0.8007 Accuracy 0.3748\n",
            "Epoch 29 Batch 700 Loss 0.8060 Accuracy 0.3747\n",
            "Epoch 29 Loss 0.8061 Accuracy 0.3747\n",
            "Time taken for 1 epoch: 48.626434087753296 secs\n",
            "\n",
            "Epoch 30 Batch 0 Loss 0.7563 Accuracy 0.3507\n",
            "Epoch 30 Batch 50 Loss 0.7356 Accuracy 0.3793\n",
            "Epoch 30 Batch 100 Loss 0.7332 Accuracy 0.3781\n",
            "Epoch 30 Batch 150 Loss 0.7405 Accuracy 0.3784\n",
            "Epoch 30 Batch 200 Loss 0.7468 Accuracy 0.3782\n",
            "Epoch 30 Batch 250 Loss 0.7503 Accuracy 0.3772\n",
            "Epoch 30 Batch 300 Loss 0.7544 Accuracy 0.3783\n",
            "Epoch 30 Batch 350 Loss 0.7596 Accuracy 0.3795\n",
            "Epoch 30 Batch 400 Loss 0.7643 Accuracy 0.3789\n",
            "Epoch 30 Batch 450 Loss 0.7686 Accuracy 0.3785\n",
            "Epoch 30 Batch 500 Loss 0.7745 Accuracy 0.3778\n",
            "Epoch 30 Batch 550 Loss 0.7776 Accuracy 0.3772\n",
            "Epoch 30 Batch 600 Loss 0.7825 Accuracy 0.3761\n",
            "Epoch 30 Batch 650 Loss 0.7871 Accuracy 0.3757\n",
            "Epoch 30 Batch 700 Loss 0.7923 Accuracy 0.3750\n",
            "Saving checkpoint for epoch 30 at ./checkpoints/train/ckpt-7\n",
            "Epoch 30 Loss 0.7923 Accuracy 0.3750\n",
            "Time taken for 1 epoch: 48.55757522583008 secs\n",
            "\n"
          ],
          "name": "stdout"
        }
      ]
    },
    {
      "cell_type": "markdown",
      "metadata": {
        "id": "5u4CobeFg-Bq",
        "colab_type": "text"
      },
      "source": [
        "## Evaluate"
      ]
    },
    {
      "cell_type": "code",
      "metadata": {
        "id": "IMBnh-jOg-Bq",
        "colab_type": "code",
        "colab": {}
      },
      "source": [
        "def evaluate(inp_sentence):\n",
        "    start_token = [tokenizer_pt.vocab_size]\n",
        "    end_token = [tokenizer_pt.vocab_size + 1]\n",
        "  \n",
        "    # inp sentence is portuguese, hence adding the start and end token\n",
        "    inp_sentence = start_token + tokenizer_pt.encode(inp_sentence) + end_token\n",
        "    encoder_input = tf.expand_dims(inp_sentence, 0)\n",
        "  \n",
        "    # as the target is english, the first word to the transformer should be the\n",
        "    # english start token.\n",
        "    decoder_input = [tokenizer_en.vocab_size]\n",
        "    output = tf.expand_dims(decoder_input, 0)\n",
        "    \n",
        "    for i in range(MAX_LENGTH):\n",
        "        enc_padding_mask, combined_mask, dec_padding_mask = create_masks(\n",
        "            encoder_input, output)\n",
        "  \n",
        "        # predictions.shape == (batch_size, seq_len, vocab_size)\n",
        "        predictions, attention_weights = transformer(encoder_input, \n",
        "                                                 output,\n",
        "                                                 False,\n",
        "                                                 enc_padding_mask,\n",
        "                                                 combined_mask,\n",
        "                                                 dec_padding_mask)\n",
        "    \n",
        "        # select the last word from the seq_len dimension\n",
        "        predictions = predictions[: ,-1:, :]  # (batch_size, 1, vocab_size)\n",
        "\n",
        "        predicted_id = tf.cast(tf.argmax(predictions, axis=-1), tf.int32)\n",
        "    \n",
        "        # return the result if the predicted_id is equal to the end token\n",
        "        if predicted_id == tokenizer_en.vocab_size+1:\n",
        "            return tf.squeeze(output, axis=0), attention_weights\n",
        "    \n",
        "        # concatentate the predicted_id to the output which is given to the decoder\n",
        "        # as its input.\n",
        "        output = tf.concat([output, predicted_id], axis=-1)\n",
        "\n",
        "    return tf.squeeze(output, axis=0), attention_weights"
      ],
      "execution_count": 54,
      "outputs": []
    },
    {
      "cell_type": "code",
      "metadata": {
        "id": "rzT7MR4ag-Bw",
        "colab_type": "code",
        "colab": {}
      },
      "source": [
        "def plot_attention_weights(attention, sentence, result, layer):\n",
        "    fig = plt.figure(figsize=(16, 8))\n",
        "  \n",
        "    sentence = tokenizer_pt.encode(sentence)\n",
        "  \n",
        "    attention = tf.squeeze(attention[layer], axis=0)\n",
        "  \n",
        "    for head in range(attention.shape[0]):\n",
        "        ax = fig.add_subplot(2, 4, head+1)\n",
        "    \n",
        "        # plot the attention weights\n",
        "        ax.matshow(attention[head][:-1, :], cmap='viridis')\n",
        "\n",
        "        fontdict = {'fontsize': 10}\n",
        "    \n",
        "        ax.set_xticks(range(len(sentence)+2))\n",
        "        ax.set_yticks(range(len(result)))\n",
        "    \n",
        "        ax.set_ylim(len(result)-1.5, -0.5)\n",
        "        \n",
        "        ax.set_xticklabels(\n",
        "            ['<start>']+[tokenizer_pt.decode([i]) for i in sentence]+['<end>'], \n",
        "            fontdict=fontdict, rotation=90)\n",
        "    \n",
        "        ax.set_yticklabels([tokenizer_en.decode([i]) for i in result \n",
        "                            if i < tokenizer_en.vocab_size], \n",
        "                               fontdict=fontdict)\n",
        "    \n",
        "        ax.set_xlabel('Head {}'.format(head+1))\n",
        "  \n",
        "    plt.tight_layout()\n",
        "    plt.show()"
      ],
      "execution_count": 55,
      "outputs": []
    },
    {
      "cell_type": "code",
      "metadata": {
        "id": "jEuXTjfbg-Bz",
        "colab_type": "code",
        "colab": {}
      },
      "source": [
        "def translate(sentence, plot=''):\n",
        "    result, attention_weights = evaluate(sentence)\n",
        "  \n",
        "    predicted_sentence = tokenizer_en.decode([i for i in result \n",
        "                                            if i < tokenizer_en.vocab_size])  \n",
        "\n",
        "    print('Input: {}'.format(sentence))\n",
        "    print('Predicted translation: {}'.format(predicted_sentence))\n",
        "  \n",
        "    if plot:\n",
        "        plot_attention_weights(attention_weights, sentence, result, plot)"
      ],
      "execution_count": 56,
      "outputs": []
    },
    {
      "cell_type": "code",
      "metadata": {
        "id": "HZiVTrkJg-B1",
        "colab_type": "code",
        "colab": {
          "base_uri": "https://localhost:8080/",
          "height": 68
        },
        "outputId": "90740c7c-0455-40bd-9a7e-b418e001181f"
      },
      "source": [
        "translate(\"este é um problema que temos que resolver.\")\n",
        "print (\"Real translation: this is a problem we have to solve .\")"
      ],
      "execution_count": 63,
      "outputs": [
        {
          "output_type": "stream",
          "text": [
            "Input: este é um problema que temos que resolver.\n",
            "Predicted translation: this is a problem we have to solve for granted .\n",
            "Real translation: this is a problem we have to solve .\n"
          ],
          "name": "stdout"
        }
      ]
    },
    {
      "cell_type": "code",
      "metadata": {
        "id": "t6ZgvvbXg-B3",
        "colab_type": "code",
        "colab": {
          "base_uri": "https://localhost:8080/",
          "height": 68
        },
        "outputId": "ddd3ef90-4e11-42cd-b80d-c27e556bfadc"
      },
      "source": [
        "translate(\"os meus vizinhos ouviram sobre esta ideia.\")\n",
        "print (\"Real translation: and my neighboring homes heard about this idea .\")"
      ],
      "execution_count": 64,
      "outputs": [
        {
          "output_type": "stream",
          "text": [
            "Input: os meus vizinhos ouviram sobre esta ideia.\n",
            "Predicted translation: my neighbors heard about this idea .\n",
            "Real translation: and my neighboring homes heard about this idea .\n"
          ],
          "name": "stdout"
        }
      ]
    },
    {
      "cell_type": "code",
      "metadata": {
        "id": "9tDpZAbQg-B5",
        "colab_type": "code",
        "colab": {
          "base_uri": "https://localhost:8080/",
          "height": 68
        },
        "outputId": "42ccbbac-2cb6-4f6e-9100-cde4cc6e15ff"
      },
      "source": [
        "translate(\"vou então muito rapidamente partilhar convosco algumas histórias de algumas coisas mágicas que aconteceram.\")\n",
        "print (\"Real translation: so i 'll just share with you some stories very quickly of some magical things that have happened .\")"
      ],
      "execution_count": 65,
      "outputs": [
        {
          "output_type": "stream",
          "text": [
            "Input: vou então muito rapidamente partilhar convosco algumas histórias de algumas coisas mágicas que aconteceram.\n",
            "Predicted translation: so i 'll be quickly to share some of these stories of magic things that had happened there .\n",
            "Real translation: so i 'll just share with you some stories very quickly of some magical things that have happened .\n"
          ],
          "name": "stdout"
        }
      ]
    },
    {
      "cell_type": "code",
      "metadata": {
        "id": "xzT_GAvIg-B9",
        "colab_type": "code",
        "colab": {
          "base_uri": "https://localhost:8080/",
          "height": 636
        },
        "outputId": "0fad1190-4dbc-44bb-a7b0-ddf6cd900607"
      },
      "source": [
        "translate(\"este é o primeiro livro que eu fiz.\", plot='decoder_layer4_block2')\n",
        "print (\"Real translation: this is the first book i've ever done.\")"
      ],
      "execution_count": 66,
      "outputs": [
        {
          "output_type": "stream",
          "text": [
            "Input: este é o primeiro livro que eu fiz.\n",
            "Predicted translation: this is the first book i did in the first place .\n"
          ],
          "name": "stdout"
        },
        {
          "output_type": "display_data",
          "data": {
            "image/png": "[encoded data removed]",
            "text/plain": [
              "<Figure size 1152x576 with 8 Axes>"
            ]
          },
          "metadata": {
            "tags": [],
            "needs_background": "light"
          }
        },
        {
          "output_type": "stream",
          "text": [
            "Real translation: this is the first book i've ever done.\n"
          ],
          "name": "stdout"
        }
      ]
    },
    {
      "cell_type": "markdown",
      "metadata": {
        "id": "2zz8Tgucg-B_",
        "colab_type": "text"
      },
      "source": [
        "## Summary"
      ]
    },
    {
      "cell_type": "code",
      "metadata": {
        "id": "gtMtgK1ug-B_",
        "colab_type": "code",
        "colab": {}
      },
      "source": [
        ""
      ],
      "execution_count": null,
      "outputs": []
    }
  ]
}