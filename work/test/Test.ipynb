{
 "cells": [
  {
   "cell_type": "code",
   "execution_count": 5,
   "metadata": {},
   "outputs": [],
   "source": [
    "from keras.models import Sequential\n",
    "from keras.layers.core import Dense, Activation\n",
    "from keras.utils import np_utils\n",
    "from sklearn.datasets import fetch_olivetti_faces\n",
    "from sklearn.model_selection import train_test_split"
   ]
  },
  {
   "cell_type": "code",
   "execution_count": 2,
   "metadata": {},
   "outputs": [],
   "source": [
    "faces = fetch_olivetti_faces()"
   ]
  },
  {
   "cell_type": "code",
   "execution_count": 6,
   "metadata": {},
   "outputs": [],
   "source": [
    "x = faces.images\n",
    "y = faces.target"
   ]
  },
  {
   "cell_type": "code",
   "execution_count": 8,
   "metadata": {},
   "outputs": [],
   "source": [
    "X_train,X_test,y_train,y_test = train_test_split(x,y,test_size=0.2, random_state=10)"
   ]
  },
  {
   "cell_type": "code",
   "execution_count": 10,
   "metadata": {},
   "outputs": [],
   "source": [
    "X_train = X_train.reshape(320,4096) / 255\n",
    "X_test = X_test.reshape(80,4096) / 255"
   ]
  },
  {
   "cell_type": "code",
   "execution_count": 11,
   "metadata": {},
   "outputs": [],
   "source": [
    "y_train = np_utils.to_categorical(y_train)\n",
    "y_test = np_utils.to_categorical(y_test)"
   ]
  },
  {
   "cell_type": "code",
   "execution_count": 12,
   "metadata": {},
   "outputs": [],
   "source": [
    "model = Sequential([\n",
    "        Dense(512, input_shape=(4096,)),\n",
    "        Activation('sigmoid'),\n",
    "        Dense(40),\n",
    "        Activation('softmax')\n",
    "    ])"
   ]
  },
  {
   "cell_type": "code",
   "execution_count": 13,
   "metadata": {},
   "outputs": [],
   "source": [
    "# 損失関数、 最適化アルゴリズムなどを設定しモデルのコンパイルを行う\n",
    "model.compile(loss='categorical_crossentropy', optimizer='sgd', metrics=['accuracy'])"
   ]
  },
  {
   "cell_type": "code",
   "execution_count": 14,
   "metadata": {},
   "outputs": [
    {
     "name": "stdout",
     "output_type": "stream",
     "text": [
      "Train on 288 samples, validate on 32 samples\n",
      "Epoch 1/20\n",
      "288/288 [==============================] - 1s 3ms/step - loss: 3.8503 - accuracy: 0.0208 - val_loss: 3.7953 - val_accuracy: 0.0312\n",
      "Epoch 2/20\n",
      "288/288 [==============================] - 0s 1ms/step - loss: 3.7524 - accuracy: 0.0243 - val_loss: 3.7956 - val_accuracy: 0.0000e+00\n",
      "Epoch 3/20\n",
      "288/288 [==============================] - 0s 1ms/step - loss: 3.7388 - accuracy: 0.0104 - val_loss: 3.7928 - val_accuracy: 0.0000e+00\n",
      "Epoch 4/20\n",
      "288/288 [==============================] - 0s 1ms/step - loss: 3.7285 - accuracy: 0.0312 - val_loss: 3.8019 - val_accuracy: 0.0000e+00\n",
      "Epoch 5/20\n",
      "288/288 [==============================] - 0s 1ms/step - loss: 3.7303 - accuracy: 0.0035 - val_loss: 3.7995 - val_accuracy: 0.0000e+00\n",
      "Epoch 6/20\n",
      "288/288 [==============================] - 0s 2ms/step - loss: 3.7281 - accuracy: 0.0104 - val_loss: 3.7981 - val_accuracy: 0.0000e+00\n",
      "Epoch 7/20\n",
      "288/288 [==============================] - 0s 1ms/step - loss: 3.7245 - accuracy: 0.0139 - val_loss: 3.7957 - val_accuracy: 0.0000e+00\n",
      "Epoch 8/20\n",
      "288/288 [==============================] - 0s 1ms/step - loss: 3.7270 - accuracy: 0.0139 - val_loss: 3.7946 - val_accuracy: 0.0312\n",
      "Epoch 9/20\n",
      "288/288 [==============================] - 0s 2ms/step - loss: 3.7284 - accuracy: 0.0208 - val_loss: 3.7979 - val_accuracy: 0.0312\n",
      "Epoch 10/20\n",
      "288/288 [==============================] - 0s 2ms/step - loss: 3.7334 - accuracy: 0.0174 - val_loss: 3.7928 - val_accuracy: 0.0000e+00\n",
      "Epoch 11/20\n",
      "288/288 [==============================] - 0s 1ms/step - loss: 3.7264 - accuracy: 0.0208 - val_loss: 3.7918 - val_accuracy: 0.0000e+00\n",
      "Epoch 12/20\n",
      "288/288 [==============================] - 0s 1ms/step - loss: 3.7331 - accuracy: 0.0139 - val_loss: 3.8117 - val_accuracy: 0.0000e+00\n",
      "Epoch 13/20\n",
      "288/288 [==============================] - 0s 1ms/step - loss: 3.7276 - accuracy: 0.0139 - val_loss: 3.8069 - val_accuracy: 0.0000e+00\n",
      "Epoch 14/20\n",
      "288/288 [==============================] - 0s 1ms/step - loss: 3.7282 - accuracy: 0.0208 - val_loss: 3.8098 - val_accuracy: 0.0000e+00\n",
      "Epoch 15/20\n",
      "288/288 [==============================] - 0s 1ms/step - loss: 3.7299 - accuracy: 0.0174 - val_loss: 3.8141 - val_accuracy: 0.0000e+00\n",
      "Epoch 16/20\n",
      "288/288 [==============================] - 0s 1ms/step - loss: 3.7301 - accuracy: 0.0174 - val_loss: 3.7911 - val_accuracy: 0.0000e+00\n",
      "Epoch 17/20\n",
      "288/288 [==============================] - 0s 1ms/step - loss: 3.7296 - accuracy: 0.0139 - val_loss: 3.7772 - val_accuracy: 0.0000e+00\n",
      "Epoch 18/20\n",
      "288/288 [==============================] - 0s 1ms/step - loss: 3.7260 - accuracy: 0.0208 - val_loss: 3.7952 - val_accuracy: 0.0000e+00\n",
      "Epoch 19/20\n",
      "288/288 [==============================] - 0s 2ms/step - loss: 3.7278 - accuracy: 0.0278 - val_loss: 3.8086 - val_accuracy: 0.0000e+00\n",
      "Epoch 20/20\n",
      "288/288 [==============================] - 0s 1ms/step - loss: 3.7274 - accuracy: 0.0069 - val_loss: 3.8197 - val_accuracy: 0.0000e+00\n"
     ]
    },
    {
     "data": {
      "text/plain": [
       "<keras.callbacks.callbacks.History at 0x7fbe4c083d90>"
      ]
     },
     "execution_count": 14,
     "metadata": {},
     "output_type": "execute_result"
    }
   ],
   "source": [
    "# 学習処理の実行\n",
    "model.fit(X_train, y_train, batch_size=10, verbose=1, epochs=20, validation_split=0.1)"
   ]
  },
  {
   "cell_type": "code",
   "execution_count": 15,
   "metadata": {},
   "outputs": [
    {
     "name": "stdout",
     "output_type": "stream",
     "text": [
      "80/80 [==============================] - 0s 329us/step\n",
      "test accuracy :  0.0\n"
     ]
    }
   ],
   "source": [
    "# 予測\n",
    "score = model.evaluate(X_test, y_test, verbose=1)\n",
    "print('test accuracy : ', score[1])"
   ]
  },
  {
   "cell_type": "code",
   "execution_count": null,
   "metadata": {},
   "outputs": [],
   "source": []
  }
 ],
 "metadata": {
  "kernelspec": {
   "display_name": "Python 3",
   "language": "python",
   "name": "python3"
  },
  "language_info": {
   "codemirror_mode": {
    "name": "ipython",
    "version": 3
   },
   "file_extension": ".py",
   "mimetype": "text/x-python",
   "name": "python",
   "nbconvert_exporter": "python",
   "pygments_lexer": "ipython3",
   "version": "3.7.4"
  }
 },
 "nbformat": 4,
 "nbformat_minor": 4
}
