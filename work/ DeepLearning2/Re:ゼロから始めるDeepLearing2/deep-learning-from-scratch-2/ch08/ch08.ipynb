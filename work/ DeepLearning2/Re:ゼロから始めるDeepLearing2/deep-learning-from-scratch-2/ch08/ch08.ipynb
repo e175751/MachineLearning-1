{
 "cells": [
  {
   "cell_type": "code",
   "execution_count": 1,
   "metadata": {},
   "outputs": [],
   "source": [
    "import numpy as np"
   ]
  },
  {
   "cell_type": "code",
   "execution_count": 2,
   "metadata": {},
   "outputs": [],
   "source": [
    "T,H = 5,4\n",
    "hs = np.random.randn(T,H)\n",
    "a = np.array([0.8, 0.1, 0.03, 0.05, 0.02])"
   ]
  },
  {
   "cell_type": "code",
   "execution_count": 3,
   "metadata": {},
   "outputs": [
    {
     "name": "stdout",
     "output_type": "stream",
     "text": [
      "[[0.8  0.8  0.8  0.8 ]\n",
      " [0.1  0.1  0.1  0.1 ]\n",
      " [0.03 0.03 0.03 0.03]\n",
      " [0.05 0.05 0.05 0.05]\n",
      " [0.02 0.02 0.02 0.02]]\n"
     ]
    }
   ],
   "source": [
    "ar = a.reshape(5,1).repeat(4, axis=1)\n",
    "print(ar)"
   ]
  },
  {
   "cell_type": "code",
   "execution_count": 4,
   "metadata": {},
   "outputs": [
    {
     "name": "stdout",
     "output_type": "stream",
     "text": [
      "[[ 1.06992892  0.62738399 -0.53252558 -0.60762027]\n",
      " [ 0.32112509 -0.82707874  0.84872165 -1.29333919]\n",
      " [ 0.6938465   0.93974623 -0.17513435 -0.17430116]\n",
      " [ 0.59237411  0.58243641 -0.31713789 -0.03758297]\n",
      " [-0.69728927  1.50770685 -1.38284813  1.27152078]]\n"
     ]
    }
   ],
   "source": [
    "print(hs)"
   ]
  },
  {
   "cell_type": "code",
   "execution_count": 6,
   "metadata": {},
   "outputs": [
    {
     "name": "stdout",
     "output_type": "stream",
     "text": [
      "[[ 0.85594314  0.5019072  -0.42602046 -0.48609622]\n",
      " [ 0.03211251 -0.08270787  0.08487216 -0.12933392]\n",
      " [ 0.0208154   0.02819239 -0.00525403 -0.00522903]\n",
      " [ 0.02961871  0.02912182 -0.01585689 -0.00187915]\n",
      " [-0.01394579  0.03015414 -0.02765696  0.02543042]]\n"
     ]
    }
   ],
   "source": [
    "t = hs * ar\n",
    "print(t)"
   ]
  },
  {
   "cell_type": "code",
   "execution_count": 7,
   "metadata": {},
   "outputs": [
    {
     "name": "stdout",
     "output_type": "stream",
     "text": [
      "(4,)\n"
     ]
    }
   ],
   "source": [
    "c = np.sum(t,axis=0)\n",
    "print(c.shape)"
   ]
  },
  {
   "cell_type": "code",
   "execution_count": 8,
   "metadata": {},
   "outputs": [
    {
     "data": {
      "text/plain": [
       "array([ 0.92454396,  0.50666767, -0.38991619, -0.5971079 ])"
      ]
     },
     "execution_count": 8,
     "metadata": {},
     "output_type": "execute_result"
    }
   ],
   "source": [
    "c"
   ]
  },
  {
   "cell_type": "code",
   "execution_count": null,
   "metadata": {},
   "outputs": [],
   "source": []
  }
 ],
 "metadata": {
  "kernelspec": {
   "display_name": "Python 3",
   "language": "python",
   "name": "python3"
  },
  "language_info": {
   "codemirror_mode": {
    "name": "ipython",
    "version": 3
   },
   "file_extension": ".py",
   "mimetype": "text/x-python",
   "name": "python",
   "nbconvert_exporter": "python",
   "pygments_lexer": "ipython3",
   "version": "3.7.4"
  }
 },
 "nbformat": 4,
 "nbformat_minor": 4
}
