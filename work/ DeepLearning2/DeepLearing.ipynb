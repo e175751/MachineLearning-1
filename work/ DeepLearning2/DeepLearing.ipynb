{
 "cells": [
  {
   "cell_type": "code",
   "execution_count": 1,
   "metadata": {},
   "outputs": [],
   "source": [
    "import numpy as np"
   ]
  },
  {
   "cell_type": "code",
   "execution_count": 2,
   "metadata": {},
   "outputs": [],
   "source": [
    "w1 = np.random.randn(2,4)\n",
    "b1 = np.random.randn(4)\n",
    "x = np.random.randn(10,2)\n",
    "h = np.dot(x,w1) + b1"
   ]
  },
  {
   "cell_type": "code",
   "execution_count": null,
   "metadata": {},
   "outputs": [],
   "source": []
  },
  {
   "cell_type": "code",
   "execution_count": 6,
   "metadata": {},
   "outputs": [],
   "source": [
    "def sigmoid(x):\n",
    "    return 1 / (1/np.exp(-x))"
   ]
  },
  {
   "cell_type": "code",
   "execution_count": 8,
   "metadata": {},
   "outputs": [
    {
     "name": "stdout",
     "output_type": "stream",
     "text": [
      "[[  1.168241    -0.77938835  -1.33390699]\n",
      " [  8.83659212  -7.16838071  -2.32977084]\n",
      " [  5.06123992  -3.2985328   -4.1283273 ]\n",
      " [ 26.79394718 -20.4881297  -11.6496854 ]\n",
      " [ 13.71066385 -12.55828583  -4.19624008]\n",
      " [ 10.93940665  -8.35634306  -4.01811495]\n",
      " [  0.24475459  -0.25263145  -0.35365383]\n",
      " [ -0.78559167   0.64874589  -1.29408514]\n",
      " [  9.68382295  -7.38103367  -3.46359058]\n",
      " [  0.35748317  -0.37422414  -0.05209632]]\n"
     ]
    }
   ],
   "source": [
    "x = np.random.randn(10,2)\n",
    "\n",
    "w1 = np.random.randn(2,4)\n",
    "b1 = np.random.randn(4)\n",
    "\n",
    "w2 = np.random.randn(4,3)\n",
    "b2 = np.random.randn(3)\n",
    "\n",
    "h = np.dot(x,w1) + b1\n",
    "a = sigmoid(h)\n",
    "s = np.dot(a,w2) + b2\n",
    "print(s)"
   ]
  },
  {
   "cell_type": "code",
   "execution_count": null,
   "metadata": {},
   "outputs": [],
   "source": []
  }
 ],
 "metadata": {
  "kernelspec": {
   "display_name": "Python 3",
   "language": "python",
   "name": "python3"
  },
  "language_info": {
   "codemirror_mode": {
    "name": "ipython",
    "version": 3
   },
   "file_extension": ".py",
   "mimetype": "text/x-python",
   "name": "python",
   "nbconvert_exporter": "python",
   "pygments_lexer": "ipython3",
   "version": "3.7.4"
  }
 },
 "nbformat": 4,
 "nbformat_minor": 4
}
