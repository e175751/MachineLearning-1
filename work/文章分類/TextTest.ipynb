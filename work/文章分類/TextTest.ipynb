{
 "cells": [
  {
   "cell_type": "code",
   "execution_count": 6,
   "metadata": {},
   "outputs": [],
   "source": [
    "import scipy as sp\n",
    "import math"
   ]
  },
  {
   "cell_type": "code",
   "execution_count": 7,
   "metadata": {},
   "outputs": [],
   "source": [
    "def tfidf(term, doc, docset):\n",
    "    tf = float(doc.count(term))/sum(doc.count(w) for w in set(doc))\n",
    "    idf = math.log(float(len(docset))/len([doc for doc in docset if term in doc]))\n",
    "    return tf * idf"
   ]
  },
  {
   "cell_type": "code",
   "execution_count": 8,
   "metadata": {},
   "outputs": [],
   "source": [
    "doc_a,doc_abb, doc_abc = [\"a\"], [\"a\",\"b\",\"b\"], [\"a\",\"b\",\"c\"] \n",
    "D = [doc_a,doc_abb,doc_abc]"
   ]
  },
  {
   "cell_type": "code",
   "execution_count": 9,
   "metadata": {},
   "outputs": [
    {
     "name": "stdout",
     "output_type": "stream",
     "text": [
      "0.0\n"
     ]
    }
   ],
   "source": [
    "print(tfidf(\"a\",doc_a,D))"
   ]
  },
  {
   "cell_type": "code",
   "execution_count": 10,
   "metadata": {},
   "outputs": [
    {
     "name": "stdout",
     "output_type": "stream",
     "text": [
      "0.27031007207210955\n"
     ]
    }
   ],
   "source": [
    "print(tfidf(\"b\",doc_abb,D))"
   ]
  },
  {
   "cell_type": "code",
   "execution_count": 11,
   "metadata": {},
   "outputs": [
    {
     "name": "stdout",
     "output_type": "stream",
     "text": [
      "0.0\n"
     ]
    }
   ],
   "source": [
    "print(tfidf(\"a\",doc_abc,D))"
   ]
  },
  {
   "cell_type": "code",
   "execution_count": 13,
   "metadata": {},
   "outputs": [
    {
     "name": "stdout",
     "output_type": "stream",
     "text": [
      "0.13515503603605478\n"
     ]
    }
   ],
   "source": [
    "print(tfidf(\"b\",doc_abc,D))"
   ]
  },
  {
   "cell_type": "code",
   "execution_count": 14,
   "metadata": {},
   "outputs": [
    {
     "name": "stdout",
     "output_type": "stream",
     "text": [
      "0.3662040962227032\n"
     ]
    }
   ],
   "source": [
    "print(tfidf(\"c\",doc_abc,D))"
   ]
  },
  {
   "cell_type": "code",
   "execution_count": null,
   "metadata": {},
   "outputs": [],
   "source": []
  },
  {
   "cell_type": "markdown",
   "metadata": {},
   "source": [
    "## K-Mearns法"
   ]
  },
  {
   "cell_type": "code",
   "execution_count": 15,
   "metadata": {},
   "outputs": [],
   "source": [
    "from matplotlib import pyplot as plt\n",
    "from sklearn import datasets\n",
    "from sklearn.cluster import KMeans"
   ]
  },
  {
   "cell_type": "code",
   "execution_count": 22,
   "metadata": {},
   "outputs": [],
   "source": [
    "def main():\n",
    "    n_class = 5\n",
    "    dataset = datasets.make_blobs(centers = n_class, random_state=1)\n",
    "    \n",
    "    #特徴データ\n",
    "    features = dataset[0]\n",
    "    targets = dataset[1]\n",
    "    \n",
    "    #print(features)\n",
    "    \n",
    "    kmeans = KMeans(n_class)\n",
    "    kmeans.fit(features)\n",
    "    \n",
    "    print(\"kmeans = \\n{}\".format(kmeans.labels_))\n",
    "    print(\"target = \\n{}\".format(targets))"
   ]
  },
  {
   "cell_type": "code",
   "execution_count": 23,
   "metadata": {},
   "outputs": [
    {
     "name": "stdout",
     "output_type": "stream",
     "text": [
      "[[ 4.63675191e-01  5.27699902e-01]\n",
      " [-2.17509754e+00  1.58972616e-01]\n",
      " [-7.44016713e+00 -8.79195851e+00]\n",
      " [-6.04230121e+00 -2.40623405e+00]\n",
      " [-9.81115111e+00 -3.54329690e+00]\n",
      " [-1.34052081e+00  4.15711949e+00]\n",
      " [-7.58703957e-01  3.72276201e+00]\n",
      " [-5.74533045e+00 -2.95108425e+00]\n",
      " [-9.68207756e+00 -5.97554976e+00]\n",
      " [-5.94346448e+00 -7.74432757e+00]\n",
      " [-6.46136554e+00 -3.19053133e+00]\n",
      " [-7.33193403e-01  4.89026817e-01]\n",
      " [-2.71156720e+00  1.67782157e+00]\n",
      " [-5.23597117e+00 -9.01805812e-01]\n",
      " [-9.80679702e+00 -1.85309341e+00]\n",
      " [-1.25369884e+00  1.82077677e+00]\n",
      " [-6.58491255e+00 -5.52362322e+00]\n",
      " [-7.40873586e+00 -8.10963125e+00]\n",
      " [-2.02098152e+00  5.50020438e-01]\n",
      " [-7.33110069e+00 -8.12061356e+00]\n",
      " [-2.77687025e+00  4.64090557e+00]\n",
      " [-7.81213710e+00 -5.34984488e+00]\n",
      " [-7.08949914e+00 -8.92838972e+00]\n",
      " [-6.02599661e+00 -3.38542661e+00]\n",
      " [-8.92286405e+00 -6.91706407e+00]\n",
      " [-1.59991807e-01  1.88739138e+00]\n",
      " [-2.46552871e+00  1.60034030e+00]\n",
      " [-1.98197711e+00  4.02243551e+00]\n",
      " [-6.21872154e+00 -9.01274405e+00]\n",
      " [-6.79189023e+00 -4.08581229e+00]\n",
      " [-6.25738636e+00 -4.21080419e+00]\n",
      " [-6.64138783e+00 -8.07588804e+00]\n",
      " [-1.02066067e+01 -3.36672536e+00]\n",
      " [-5.25790464e-01  3.30659860e+00]\n",
      " [-5.77958445e+00 -3.26348862e+00]\n",
      " [-2.34673261e+00  3.56128423e+00]\n",
      " [-9.15872909e+00 -3.02224647e+00]\n",
      " [-7.10357769e+00 -9.76900046e+00]\n",
      " [-1.60875215e+00  3.76949422e+00]\n",
      " [-5.48198891e+00 -3.71231619e+00]\n",
      " [-5.83343133e+00 -3.18894069e+00]\n",
      " [-7.51201075e+00 -6.92872040e+00]\n",
      " [-4.64714502e+00 -2.75077376e+00]\n",
      " [-5.47293474e+00 -3.04221816e+00]\n",
      " [-1.07831533e+00  9.89868581e-01]\n",
      " [-2.62695595e+00  2.73121276e+00]\n",
      " [-6.45571607e+00 -3.69270609e+00]\n",
      " [-6.71433620e+00 -9.46551152e+00]\n",
      " [-1.83198811e+00  3.52863145e+00]\n",
      " [-5.40590962e+00 -2.33837382e+00]\n",
      " [-6.94306091e+00 -7.02374420e+00]\n",
      " [-1.46233124e+00  1.19661688e+00]\n",
      " [-1.78245013e+00  3.47072043e+00]\n",
      " [-9.83767543e+00 -3.07717963e+00]\n",
      " [-1.85139546e+00  3.51886090e+00]\n",
      " [-2.35122066e+00  4.00973634e+00]\n",
      " [-9.79941278e+00 -3.83433990e+00]\n",
      " [ 1.26049214e-01 -1.12002624e+00]\n",
      " [-1.38458068e+00  4.56533081e-01]\n",
      " [-1.97451969e-01  2.34634916e+00]\n",
      " [-1.11402307e+01 -4.30269127e+00]\n",
      " [-5.75421944e+00 -4.23312685e+00]\n",
      " [-6.66139054e+00 -7.55964958e+00]\n",
      " [-7.73554447e+00 -7.77566432e+00]\n",
      " [-7.57969185e-01  4.90898421e+00]\n",
      " [-8.86608312e+00 -2.43353173e+00]\n",
      " [-1.56146570e+00  2.06956056e+00]\n",
      " [-7.47406380e+00 -2.22544014e+00]\n",
      " [-1.78398544e+00  7.03221976e-01]\n",
      " [-9.50919436e+00 -4.02892026e+00]\n",
      " [-1.40560072e+00 -8.51103661e-01]\n",
      " [-2.76017908e+00  5.55121358e+00]\n",
      " [-7.68488303e+00 -7.45519607e+00]\n",
      " [-6.32432573e+00 -9.10692871e+00]\n",
      " [-8.43799950e+00 -7.83806871e+00]\n",
      " [-9.48478268e+00 -4.25144138e+00]\n",
      " [-1.07521104e+01 -2.70048039e+00]\n",
      " [-2.40671820e+00  6.09894447e+00]\n",
      " [-9.76761777e+00 -3.19133737e+00]\n",
      " [-6.19697464e+00 -2.47040520e+00]\n",
      " [-1.50188942e+00  1.01707177e+00]\n",
      " [ 8.52518583e-02  3.64528297e+00]\n",
      " [-8.15979403e+00 -7.98384567e+00]\n",
      " [-1.14418263e+01 -4.45781441e+00]\n",
      " [-7.50485391e+00 -2.53824796e+00]\n",
      " [-1.03039165e+01 -3.12537390e+00]\n",
      " [-6.41124052e+00 -3.20783965e+00]\n",
      " [-3.33720927e+00  1.08988240e+00]\n",
      " [-2.33080604e+00  4.39382527e+00]\n",
      " [-1.61734616e+00  4.98930508e+00]\n",
      " [-9.69754218e+00 -4.30559839e+00]\n",
      " [-1.92744799e+00  4.93684534e+00]\n",
      " [-1.02200406e+01 -4.15410662e+00]\n",
      " [-9.04311945e-01  1.14582740e+00]\n",
      " [ 2.42271161e-04  5.14853403e+00]\n",
      " [-3.39660218e+00 -9.84353880e-01]\n",
      " [-9.87755355e+00 -3.33614544e+00]\n",
      " [-9.71212518e+00 -3.06820738e+00]\n",
      " [-5.86596430e+00 -7.96807169e+00]\n",
      " [-5.79112625e+00 -6.18612636e+00]]\n",
      "kmeans = \n",
      "[1 1 2 4 0 3 3 4 0 2 4 1 1 4 0 1 2 2 1 2 3 2 2 4 2 1 1 3 2 4 4 2 0 3 4 3 0\n",
      " 2 3 4 4 2 4 4 1 3 4 2 3 4 2 1 3 0 3 3 0 1 1 1 0 4 2 2 3 0 1 4 1 0 1 3 2 2\n",
      " 2 0 0 3 0 4 1 3 2 0 4 0 4 1 3 3 0 3 0 1 3 1 0 0 2 2]\n",
      "target = \n",
      "[4 4 2 3 1 0 0 3 1 2 3 4 4 3 1 4 3 2 4 2 0 1 2 3 2 4 4 0 2 3 3 2 1 0 3 0 1\n",
      " 2 0 3 3 2 3 3 4 4 3 2 0 3 2 4 0 1 0 0 1 4 4 0 1 3 2 2 0 1 4 3 4 1 4 0 2 2\n",
      " 2 1 1 0 1 3 4 0 2 1 3 1 3 4 0 0 1 0 1 4 0 4 1 1 2 2]\n"
     ]
    }
   ],
   "source": [
    "if __name__ == \"__main__\":\n",
    "    main()"
   ]
  },
  {
   "cell_type": "code",
   "execution_count": 17,
   "metadata": {},
   "outputs": [],
   "source": [
    "dataset = datasets.make_blobs(centers = 5)"
   ]
  },
  {
   "cell_type": "code",
   "execution_count": 19,
   "metadata": {},
   "outputs": [
    {
     "data": {
      "text/plain": [
       "2"
      ]
     },
     "execution_count": 19,
     "metadata": {},
     "output_type": "execute_result"
    }
   ],
   "source": [
    "len(dataset)"
   ]
  },
  {
   "cell_type": "code",
   "execution_count": null,
   "metadata": {},
   "outputs": [],
   "source": []
  }
 ],
 "metadata": {
  "kernelspec": {
   "display_name": "Python 3",
   "language": "python",
   "name": "python3"
  },
  "language_info": {
   "codemirror_mode": {
    "name": "ipython",
    "version": 3
   },
   "file_extension": ".py",
   "mimetype": "text/x-python",
   "name": "python",
   "nbconvert_exporter": "python",
   "pygments_lexer": "ipython3",
   "version": "3.7.4"
  }
 },
 "nbformat": 4,
 "nbformat_minor": 4
}
